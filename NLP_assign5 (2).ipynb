{
 "nbformat": 4,
 "nbformat_minor": 0,
 "metadata": {
  "colab": {
   "provenance": [],
   "gpuType": "T4",
   "authorship_tag": "ABX9TyOc4RYwF40R9H5aoHa+4vpZ"
  },
  "kernelspec": {
   "name": "python3",
   "display_name": "Python 3"
  },
  "language_info": {
   "name": "python"
  },
  "accelerator": "GPU"
 },
 "cells": [
  {
   "cell_type": "code",
   "execution_count": 1,
   "metadata": {
    "colab": {
     "base_uri": "https://localhost:8080/"
    },
    "id": "3ogJsGvqBf0a",
    "executionInfo": {
     "status": "ok",
     "timestamp": 1749473902298,
     "user_tz": -120,
     "elapsed": 12974,
     "user": {
      "displayName": "thiha Soe",
      "userId": "00273550437711924402"
     }
    },
    "outputId": "e74dd314-3ce3-4bd2-a895-ca27274627b2"
   },
   "outputs": [
    {
     "output_type": "stream",
     "name": "stdout",
     "text": [
      "Collecting wget\n",
      "  Downloading wget-3.2.zip (10 kB)\n",
      "  Preparing metadata (setup.py) ... \u001b[?25l\u001b[?25hdone\n",
      "Building wheels for collected packages: wget\n",
      "  Building wheel for wget (setup.py) ... \u001b[?25l\u001b[?25hdone\n",
      "  Created wheel for wget: filename=wget-3.2-py3-none-any.whl size=9655 sha256=5e2215072af0914ad8baa677599e1ab52bd139ae0f3186ff7eb37a09565cfb3a\n",
      "  Stored in directory: /root/.cache/pip/wheels/40/b3/0f/a40dbd1c6861731779f62cc4babcb234387e11d697df70ee97\n",
      "Successfully built wget\n",
      "Installing collected packages: wget\n",
      "Successfully installed wget-3.2\n"
     ]
    }
   ],
   "source": [
    "!pip install wget"
   ]
  },
  {
   "cell_type": "code",
   "source": [
    "# Import libraries\n",
    "import matplotlib.pyplot as plt\n",
    "import numpy as np\n",
    "import pandas as pd\n",
    "import seaborn as sns\n",
    "import nltk\n",
    "import string\n",
    "import re\n",
    "import wget\n",
    "\n",
    "# Download helper file\n",
    "wget.download(\"https://raw.githubusercontent.com/yogawicaksana/helper_prabowo/main/helper_prabowo_ml.py\", out=\"helper_prabowo_ml.py\")\n",
    "from helper_prabowo_ml import clean_html, remove_links, non_ascii, lower, email_address, removeStopWords, punct, remove_, remove_special_characters, remove_digits\n",
    "\n",
    "from tqdm.notebook import tqdm\n",
    "# Enable progress_apply\n",
    "tqdm.pandas()"
   ],
   "metadata": {
    "colab": {
     "base_uri": "https://localhost:8080/"
    },
    "id": "9AEYK1HKOTcb",
    "executionInfo": {
     "status": "ok",
     "timestamp": 1749473923166,
     "user_tz": -120,
     "elapsed": 16114,
     "user": {
      "displayName": "thiha Soe",
      "userId": "00273550437711924402"
     }
    },
    "outputId": "ea62af0b-badf-42ee-f657-5d039334fc46"
   },
   "execution_count": 2,
   "outputs": [
    {
     "output_type": "stream",
     "name": "stderr",
     "text": [
      "[nltk_data] Downloading package stopwords to /root/nltk_data...\n",
      "[nltk_data]   Unzipping corpora/stopwords.zip.\n"
     ]
    }
   ]
  },
  {
   "cell_type": "code",
   "source": [
    "# Reading data sets\n",
    "df_train = pd.read_csv(\"/content/emotion-labels-train.csv\")\n",
    "df_test = pd.read_csv(\"/content/emotion-labels-test.csv\")\n",
    "df_val = pd.read_csv(\"/content/emotion-labels-val.csv\")\n",
    "\n",
    "# Check shapes\n",
    "print(\"Train shape:\", df_train.shape)\n",
    "print(\"Test shape:\", df_test.shape)\n",
    "print(\"Validation shape:\", df_val.shape)\n",
    "\n",
    "# Display sample data\n",
    "print(\"\\nSample training data:\")\n",
    "print(df_train.head())\n",
    "\n",
    "# Data information\n",
    "print(\"\\nTraining data info:\")\n",
    "print(df_train.info())"
   ],
   "metadata": {
    "colab": {
     "base_uri": "https://localhost:8080/"
    },
    "id": "-vNc_HMLOh3c",
    "executionInfo": {
     "status": "ok",
     "timestamp": 1749473934833,
     "user_tz": -120,
     "elapsed": 510,
     "user": {
      "displayName": "thiha Soe",
      "userId": "00273550437711924402"
     }
    },
    "outputId": "b69d77be-d119-40af-c225-dd3912511402"
   },
   "execution_count": 3,
   "outputs": [
    {
     "output_type": "stream",
     "name": "stdout",
     "text": [
      "Train shape: (3613, 2)\n",
      "Test shape: (3142, 2)\n",
      "Validation shape: (347, 2)\n",
      "\n",
      "Sample training data:\n",
      "                                                text label\n",
      "0  Just got back from seeing @GaryDelaney in Burs...   joy\n",
      "1  Oh dear an evening of absolute hilarity I don'...   joy\n",
      "2  Been waiting all week for this game \u2764\ufe0f\u2764\ufe0f\u2764\ufe0f #ch...   joy\n",
      "3  @gardiner_love : Thank you so much, Gloria! Yo...   joy\n",
      "4  I feel so blessed to work with the family that...   joy\n",
      "\n",
      "Training data info:\n",
      "<class 'pandas.core.frame.DataFrame'>\n",
      "RangeIndex: 3613 entries, 0 to 3612\n",
      "Data columns (total 2 columns):\n",
      " #   Column  Non-Null Count  Dtype \n",
      "---  ------  --------------  ----- \n",
      " 0   text    3613 non-null   object\n",
      " 1   label   3613 non-null   object\n",
      "dtypes: object(2)\n",
      "memory usage: 56.6+ KB\n",
      "None\n"
     ]
    }
   ]
  },
  {
   "cell_type": "code",
   "source": [
    "# Check for null values\n",
    "print(\"\\nNull values check:\")\n",
    "print(\"Train:\", df_train.isnull().sum())\n",
    "print(\"Test:\", df_test.isnull().sum())\n",
    "print(\"Validation:\", df_val.isnull().sum())\n",
    "\n",
    "# Check for duplicates\n",
    "print(\"\\nDuplicate values check:\")\n",
    "print(\"Train:\", df_train.duplicated().sum())\n",
    "print(\"Test:\", df_test.duplicated().sum())\n",
    "print(\"Validation:\", df_val.duplicated().sum())"
   ],
   "metadata": {
    "colab": {
     "base_uri": "https://localhost:8080/"
    },
    "id": "SBmKcpGUOtNA",
    "executionInfo": {
     "status": "ok",
     "timestamp": 1749369323146,
     "user_tz": -120,
     "elapsed": 21,
     "user": {
      "displayName": "thiha Soe",
      "userId": "00273550437711924402"
     }
    },
    "outputId": "655bce3c-ffc9-4535-e945-62d953576597"
   },
   "execution_count": null,
   "outputs": [
    {
     "output_type": "stream",
     "name": "stdout",
     "text": [
      "\n",
      "Null values check:\n",
      "Train: text     0\n",
      "label    0\n",
      "dtype: int64\n",
      "Test: text     0\n",
      "label    0\n",
      "dtype: int64\n",
      "Validation: text     0\n",
      "label    0\n",
      "dtype: int64\n",
      "\n",
      "Duplicate values check:\n",
      "Train: 0\n",
      "Test: 0\n",
      "Validation: 0\n"
     ]
    }
   ]
  },
  {
   "cell_type": "code",
   "source": [
    "# Text preprocessing function\n",
    "def text_preprocess(data,col):\n",
    "    data[col] = data[col].progress_apply(func=clean_html) # Eliminates HTML tags and other HTML syntax\n",
    "    data[col] = data[col].progress_apply(func=punct) # Removes punctuation characters\n",
    "    data[col] = data[col].progress_apply(func=remove_) # Removes underspace characters\n",
    "    data[col] = data[col].progress_apply(func=remove_digits) # Removes digits\n",
    "    data[col] = data[col].progress_apply(func=remove_links) # Eliminates links and URLs\n",
    "    data[col] = data[col].progress_apply(func=remove_special_characters) # Removes special characters\n",
    "    data[col] = data[col].progress_apply(func=removeStopWords) # Removes stopwords\n",
    "    data[col] = data[col].progress_apply(func=lower) # Converts text to lowercase\n",
    "    data[col] = data[col].progress_apply(func=non_ascii) # Removes non-ASCII characters\n",
    "    data[col] = data[col].progress_apply(func=email_address) # Removes email addresses\n",
    "    return data\n"
   ],
   "metadata": {
    "id": "_UEJnHbAOtsC"
   },
   "execution_count": null,
   "outputs": []
  },
  {
   "cell_type": "code",
   "source": [
    "# Preprocess data\n",
    "print(\"\\nPreprocessing training data...\")\n",
    "preprocessed_df_train = text_preprocess(df_train, 'text')\n",
    "preprocessed_df_train_X = preprocessed_df_train['text']\n",
    "preprocessed_df_train_Y = preprocessed_df_train['label']\n",
    "\n",
    "print(\"\\nPreprocessing test data...\")\n",
    "preprocessed_df_test = text_preprocess(df_test, 'text')\n",
    "preprocessed_df_test_X = preprocessed_df_test['text']\n",
    "preprocessed_df_test_Y = preprocessed_df_test['label']\n",
    "\n",
    "print(\"\\nPreprocessing validation data...\")\n",
    "preprocessed_df_val = text_preprocess(df_val, 'text')\n",
    "preprocessed_df_val_X = preprocessed_df_val['text']\n",
    "preprocessed_df_val_Y = preprocessed_df_val['label']"
   ],
   "metadata": {
    "colab": {
     "base_uri": "https://localhost:8080/",
     "height": 1000,
     "referenced_widgets": [
      "59f4a12776834b26936d0ca9cfd1ff0d",
      "b769eb5b3a634aec8755735dd9537f04",
      "ef82c71094d44b1198a668decdd4b794",
      "c082fa0895894137aaf74ec2c4182182",
      "c078fa40125c48b5823db39e0060e91a",
      "6eaa7b63c067444582fcd8ecae09f406",
      "88532efdf40b4125841d25bfdd4d0616",
      "e6b9e1520fbf4f35a64719c0a07954f5",
      "6d0ecaac0146482285d4105d4e2932e7",
      "221ff43b9a1a427aba6cb6327248c377",
      "13d013105f2f40c1ad2cba4822c45daa",
      "330e861c564349a19c51067aa5b2375c",
      "00a16de1dd91441ca3bef1c9de071e27",
      "cb9d68595781497eb542e136bef5381d",
      "cf33315d61174baeb0ca94e8b1551ffd",
      "385b740f866943c3ae92ae690742658d",
      "006cbd19ffbd42efb70d425aaf01e219",
      "26dcbeca0eca407d96a18a07bdbc8c02",
      "289346744a8a4f4291e5e95d26c36c88",
      "35d262677edd4eba812eaad8aa82855c",
      "cd51101df5874eb2a8b4087735cfae4e",
      "3c4f3d9dec374167b18e2ccd37cde08c",
      "6498a78514c94c9999d52bbcedde0e93",
      "5a5562e387f449c7847a5f711c9bb0ea",
      "e868c5b609304d918225c7c2af2008e5",
      "e7791bfba1af47d18dfdbcf8e50be5b3",
      "1eed319005734aea8ff8e1baf3a6aa80",
      "4657d2b816294c05bce329b42f1786e2",
      "5b6593092c9f43eaa36b693dc7a73d13",
      "81399e46d6be43288d95bd9d999b4698",
      "813b67bb31b44360a4790d7eed92cd8f",
      "c90d59e5b04644eb8160e0e0b167a4d6",
      "3d4a3cb665c1425e8b2db3405fb48da6",
      "523de619f5034d6c8c0a2764eb0a6034",
      "911890e510de427b8fcced193d99d5d6",
      "c4a86dcada6245d2b5339925cef14101",
      "3c7ee5cead044703be4e1cc1cf91d5f3",
      "e0e96c7ab05d4f76bcff5a939601628b",
      "760de9adf3544644ac2b21604a99128d",
      "b8ed8d25085c41ab93ba756932db4613",
      "66ca1754a1f44900982e74ac95eb62c0",
      "b6257e52f22043d8a0802e1ce9f82401",
      "1e0b95674e1244e48412e12616fd935d",
      "a8035b8e57e94020bb07b61461b4b713",
      "28a5ed895e3b4d0e93bacc90906aac83",
      "0098e96e45634d36be4b143e6e21b795",
      "cd3a6d065d294603ba91ff4d41774b7e",
      "7e3cf1db31e046b9a99283701e762261",
      "aef87bfe6881496682abdee953f5d301",
      "ebb213ac00464c97b7ec0a63b0b066cd",
      "b9740c5364234694a72eb79ab2e736e1",
      "5040b2492f9b46a4b0dadca54700e820",
      "4d4a91686fb74e1fa221f41a6b226414",
      "05f5ab028bd84ed1bad8a6030107f4bf",
      "56b2e0f2a1934d7cb2f9a52418be4108",
      "22b6310d999b49b28d3b35a4b09a5a24",
      "f9b5716cc6474e088f8363bf9039d686",
      "7cc3a7b5ce43448bb9127058def98ca1",
      "d362845811774f3fabfaadad77db16d1",
      "b85381fe631c496aa5d5792b590363d7",
      "9255792ee69b4339988e7b63be6376ff",
      "ea59edaa008b4f26b3efeb31aa0c19b4",
      "8af3518a765f416eb35ee0fa12b181f7",
      "2409f989e80f49dd9cda2e4715889736",
      "f90f4075d5d448c3b589b72be48c4a46",
      "501b57920b724a21b70bf454b5eb75f3",
      "d877ea0412dd4bb28d6ffae237e3609d",
      "124cda6954eb4ff3b97449318358cdf0",
      "093f8152a46444cbbb3214f4110c78c3",
      "2251f02699b2431e8022fce4404793e6",
      "822f9a799b1045a391665a32abc4b699",
      "bef0e1295d58411e9c2a8ac3a7ed5596",
      "2344adead7e14508a7a238768198b666",
      "9a8b1f730db3451a9d4b9689c1872797",
      "bd9c223e5334471388a6872d2c2e2fbd",
      "22dacd06230d4b6da461232a1d4b9d48",
      "cafa52b6562f4e0a8bcd969e2aa414b8",
      "fc639bbe6e624629be239a814c6ccb5c",
      "6a411f5794dc40639c9db97c328857e1",
      "5a510672b3e54876a34dba29d368becf",
      "a14fc5cb08d64bacb1b37ff51cd432d2",
      "e849bdf9ef844373abd773e1c8a36a1e",
      "01054964751042d4ac376b34d1590289",
      "bdc7c1ddf0184519a9f437be196f42e5",
      "0821b4390dc946379be40fd7311e2626",
      "1781707a5a0d4ec9a737b440a518d518",
      "55c7b54b73fd4a36b8fcb4bb274dcc54",
      "2ef6544f84f4462fa7c6adeec33f01cc",
      "a0cb424ea1c5453a879ef5ab9dfdc4a6",
      "2391df381d1f4e42b1666b87e6c9062a",
      "591b7ac0eda846b68d19f3abdaea24ca",
      "f754c564c82c4b4b8684f69886b5262d",
      "59ef98ccb64545b6a4700bcd79d2d1c6",
      "b859b018a1de49868d33c169a33d0e4f",
      "9cb5be2b9f3349a480254c4fd851455d",
      "6964a02ebe4544d8a6fe36aa553dce87",
      "6a135df2cfd2422f9ea32b7db1b88d82",
      "9244ad842a1340c5b156ea2ed1331268",
      "55d142c24e9f46bda4767620636a68a1",
      "9d47266153fa492dab3b5be003531f55",
      "89e62fa5699349ee902fd4f0c9425e8d",
      "ec3cba12584c465488688704564d1b28",
      "78796162257d419b8de63316f9e9126e",
      "24d022c4e96245beb5786dbf69074209",
      "80ff8dce68404259a58d5d4ac8baaf9d",
      "b6fecb734886451fa13cee1dd55aec28",
      "04c8f0ae0f5b4888a7cc4121a66e2122",
      "6f42713ea10c4cd9bec9a3b1ef5f99aa",
      "2bd75f8c747b443388e909fd818785ee",
      "f1e6396f0991477896ea5d8ebc9aea4f",
      "389aa211c9e54c469d01984f23901cde",
      "cdc291f0a8444f66bbe06d2b2632b800",
      "c5581870aa4b46fab1824b8677084029",
      "a0dfeaf2d3ac4323a2420fea008c3e62",
      "8f2a8bb2433740d5ad20420907e26f79",
      "07376196401d424e9e6256c0b2de4052",
      "a9ae0d5063384c7c8f258f2e0d7c617a",
      "2ec0d5f3860047b381155dc836e24cad",
      "d7c7b8663d89408a8d17f1f089e8831e",
      "9b2a20c654b24803a816d305ab72f80e",
      "6fb94d055be94acd8e8e0dee430944f3",
      "65cc1f01d1084d79b340f1912df575e1",
      "c03a008ece7f4de9b40f525d94f6b4d1",
      "907d82fba65c407899e012cd473febf0",
      "12fbf07f2ff441eb83eba69bba6eceb3",
      "9e8501bdcf7d4f5e8c43ada7c40f9964",
      "e78b040bdd564d9c95831c3b59689bc5",
      "d737f21b03724a4ea51dafe31e12ae28",
      "db9496d3abb54d3f9d3a25fdee635483",
      "6cf406f079404017bbbc3e972c6433a2",
      "a7735aba9e65473a82bd9ab2cb4ea043",
      "c319d7781a2f45e2bd3c47cd3eb64c52",
      "b029dab4d5654b778ee2565f2671612b",
      "49afa9fda0194bedabbd66d0a70ab230",
      "7555f798370e4ea6926034b2c2259a3c",
      "cad8db9bc5144da1ad4e8278fd9b8d46",
      "b9230c48d761464490128044a3cce13a",
      "a9232c8d92834aeaa02e63d9a2377e69",
      "304aa8ca545a4f4088ba6d4796cdd3c2",
      "b5993d677ee4429d89d8c11792f6e6d2",
      "e3e39429722e43c8bb0ca25431f5ed27",
      "192d340224e8497b8985d40827506760",
      "95e9aa75271246a5accb77f016c951b7",
      "2f3f52971fc44f67bf3f319f7e518c3f",
      "3431794f966f495287e92e42930eb0a3",
      "8a52cf3e3de24148bb3b91118add8da8",
      "6115fac657c54f0297c77eae067b2e59",
      "d8fdb3fa3d88491ca075c2dc56ec79d8",
      "ccfd3d58218a4c62a351649b8d88bdd8",
      "588dd925c8c14f5c9ee642d51be4b6cf",
      "6ac2208211e348b5995d2696237dcd6c",
      "ef89b5b13f2444ff9070d55dfd74a1ea",
      "6636c4fd89114655bc6dc0b43866a058",
      "96aaa330e03741ddb2d0e0f22d29d3fc",
      "fba5820e930944a6bc327e99dc3f4278",
      "3d7268bef0a84d23bb13807779829c4e",
      "3f57e31c2fb346cc856d970f5c24bac1",
      "80ea1b5b007d4a0a9b1f447a7f05c3f6",
      "54a507745d254f2c9654ea662cfe7692",
      "46ee47b294124d8ead48c00adde8ca13",
      "4c8def12e1d5499dbf7fc25518aa65dd",
      "bb37432d53ae4e429eafea75b8289ef0",
      "0491f38af6f543fdac880efaa2d9c769",
      "b0b6f72e3e0349e3bcf42c7f059232f2",
      "4ff2670547b94a69a4fb71ca51d4b2ab",
      "7f9f2df196314387a887949b2a16e222",
      "c7716d2a1d85444a8947f840b1ca3fbc",
      "d54ffe611e9f4a78b259f331bdbeff7a",
      "272784978a954b45b929fbb3b26f0d4a",
      "1280c08aca73459780c89738d144124d",
      "a99e29060828458498b1c5a68618d6ce",
      "b94d3519870040fc93f351db9c45f7ea",
      "206c2c4b89434e5dbbde483955751cae",
      "d65ea011791140cc8ece9be3938bdd3f",
      "8077cc6ea7cc4db4be8adb5c2170c654",
      "8c727defbb544ca389415bbe51f03bb5",
      "fd5eb840ee5c41dc9fc07d44fced5b78",
      "a92e29d78b2648ebb62c181ff6f15272",
      "8a570c2f55d4419783f745bd3500e2f8",
      "0747873a853844678d4b403ebcdc6452",
      "03b1dbbbfed94867892b25e570885921",
      "324e664f209e42ffb7d6d1de21864dde",
      "c891a86514f84551b370ae77df1a5bbe",
      "6173fe6c9623456a994c753bb010a979",
      "dde13dc2d9b4487697113a148135b144",
      "7285815c6e074f0c8b87747977632218",
      "c94c25c77a594141bda198efa1e6ad9d",
      "17c99da089874865a324b03530341c32",
      "1e60d501ba8d4c44b4eb9963fb83c438",
      "ece1762f0149462ba7d054aad6fe01e8",
      "b039e729e268469a85c1d1f173634307",
      "cf9294cdafb54b66bec773f5aee985dd",
      "e95d891daea54a858cf276a2dfc0f306",
      "71cbff02697c4aba975eae300ab161bc",
      "d477ad8b3805416db0d3112dd9a46cda",
      "7faaa42b17524e4a8615f827ba029af0",
      "4c56f09d2ddc4ae982f0d418992adcea",
      "b171102382e24b67aae29cd68928ff58",
      "25fdf5fb265e40a787f3dbc10c63f880",
      "51b2bafa8ac9497f9c8fcf0e7011bf8c",
      "c66d8ccd346c4567b960e1bfb86da715",
      "0b5e5e509f334b8a9902dee8f0ef505b",
      "defe71e6669f4c73930998ba83fc88a8",
      "f77f6da2d9d14650882825c9234a8e1a",
      "cb3eb3bd494c40319c5a8edad7609a06",
      "3e12528278ba441480497d2bba307eb2",
      "bc3fe2b0d44f45fdbfb32758283dbc76",
      "14ebcc5aacc24f959fad16b16833a1c4",
      "1c866b3dc84c46b29ffb78d537631216",
      "ce304bef516a4e38bf7dfc91ded25c21",
      "f28c9ca3b0e84328964ca7bf779ba6d8",
      "1f3c01451dc9473e866657553ff23739",
      "b2edde3b0e0943478cbb2c5b7298926f",
      "6270c0ec64234a84a5b632045974b72b",
      "e481135d43de4b2487a3f551d3ebc47c",
      "93e6960e6755456fb9ce2118ad4f24db",
      "5167eb019d714bb2beb7facbed62d4b7",
      "7515ee3501694f2e8bc9f2b909d743f6",
      "e18e8cef01a74f098685d4fb1ff4794e",
      "730343692e3e4ea5a87cc0678041b8d4",
      "c05d32f7f0ba4b3f98ebf67705f1865f",
      "9b424d66b5e4434d9dcda971920ff8b6",
      "fbf2d04244b84edda5608e85e53a10f1",
      "a53f474c97a8470cb1882f5364afffa6",
      "08c3aef3ae464a5ebfe69de16e87d75d",
      "9af8360dc5c54b36a1da0d893d652c7d",
      "b1b36abd6d3346cea55fc916839fa2d2",
      "a373b8c6d2e340e2a7461ab643371d5c",
      "53f8df9fc46d4371abca518e816e813c",
      "943a1edada804545ba381659cb71a16a",
      "f54086e864884b508b4264023773255d",
      "fca02a154bbf4a30b5794eb973bcb55f",
      "e7390a28d9e64d8ea8d8bfb626b1c265",
      "31f223349c9b48468b7167da6f837d5a",
      "01fb1355d82d44c9b004c3bd26efc8d9",
      "73fc22f0e5b343fdbe1dfca03c292d38",
      "b443f0550b5b49f4b509079f83308864",
      "6a5ee85ef241496aa06fac521a774826",
      "c255d365a91b4d3084a2eea288af5f74",
      "49bae8bedd054ab6be38a3158b67a319",
      "42353935b86c4428ad5da398a6156635",
      "e654bf8c218547edb0c387133fcfb9ae",
      "5c34ede6bd5d4c00998ed3fbc564505f",
      "9419d6db0b34420cb559c8be14f9b838",
      "f61af46f6bbb464ab93afde01457c91f",
      "94c7525dc9ca457bab6036df0fd2509f",
      "a2d3f9fa0cb24bd58c3ba1b942ea18c9",
      "ad9287952e17483888cb2faf501efc20",
      "3c7d8cb84df84ecea360f22763d15d28",
      "82add2c21a97478cbbd3fa5a7fb3dd1d",
      "c870d441ac6f41f1919d7d8397369d30",
      "ca3911406cc746b18ea2512f604615a5",
      "522274e0442844bfaacabf96be0312f0",
      "54c2b8152bb1417ebf984d16d7dce75e",
      "c0752f2593dc4f728886ee102a9d590e",
      "cc14b2c12f1d4c7aaa4f9e5f8212b37f",
      "a1998898b340475cb706343be597f871",
      "c185842f82304434a1d37c78fa4e86c3",
      "32f3fbae1f894dbd935a74aedfbdc37a",
      "8bf67e8551304f17b1259d1fdd54c01f",
      "cee308c69b0b45c2974dcbfa43ea99bc",
      "40914436e4f143e0a034f30f45599758",
      "ef0031e509cd4f748c68108e0359381c",
      "a0b7dec49b084857b7caf351d30ac65d",
      "d3ca988d81d645e0be4d0fcd721f97e4",
      "389015933e734aa1955f7e8d7f1247e4",
      "50e2167d82df4edf86878f28e9764046",
      "10c1b94ac79348e183cc4dd9963e5c50",
      "77e9d2ef09964dffabbb14bff9108aa5",
      "186da89aab63493aab78f0779c50a0da",
      "c20bcf0f96ab4971bcca933e62bacc06",
      "06a049755df3478a9662ea98e2e8c764",
      "00d175c0c24e4ce6a03d49641816c4d4",
      "e518e5b1c2574bb69cf4c0740eb9c421",
      "8aa5fdc4f87c480cacaa1e338e4446d2",
      "576a618795ae4be6a4c2398f552c3c78",
      "8c2b1ab6653c486dbf9749f0f086f93b",
      "b44c1338902644af975983167e8103d8",
      "fb2eff0e71904589b1473b5a1065bb96",
      "83f8fd4c3ea64af0a2a9976baebd4823",
      "927ed8c2a56a42bcac7d83e04676987a",
      "3b1bffc181654c0b8722893ad8e957dd",
      "a3e0ed7aa8414c1e82781d8e7f08fbae",
      "a0600c63b2e34f9ba9926335228bf6e8",
      "1dbe008973b94495a67bb8bf9305868e",
      "027bf78e373343f996936f4542ce6d67",
      "2b3ad76a8f0841599add374d2fea5281",
      "75f862a1b1a54879b60fdf3439092d2c",
      "527f72837fa644f5b75b2dcc727f21b9",
      "aa70c8c27c4045459d9683412cb7be4e",
      "1a4b94f74f404379adfda85dbdaa492f",
      "dd2b5d8d4c0c4cbc9b85bbac0af8e49e",
      "a6f3c312045347419ee5f62fcfa87d24",
      "3233aeadd0c145e0bd83bdbf01458de7",
      "79e757d00f114507add2d7eceba96921",
      "a0ebb008953a48328b1ba39e9fa88a25",
      "302ddef6d0d74107ae7e2b0787d3ced9",
      "8ad4e6493854441595dd66a5b8a5a374",
      "96fe3831a0564da78a38e912ce864be3",
      "8d8d3c20d6b34d57a3237e6b11b9fe1f",
      "8083884f5eff49298ac8e8a943867ec5",
      "f3c17d15c94043549e72ddf573d82156",
      "e479834acc6c43dbba05953aea9bb631",
      "fe93da48920a4362a065612937c58e79",
      "da9685bf292a4e9aa6afb81e3b105603",
      "1c1dccb6bd29455d9e47c114777d75e6",
      "97b86d1cd4e740c69480436fa76e0508",
      "c932260bd0e44ec4bcd7d8570ed5a1fa",
      "fba3455e90bc457fbb688a64ca48858f",
      "bb268d908e0b4033b7b5dfcb21f2fb08",
      "718d95369fd740c598922d3905ffa691",
      "acd362711c5749489140e9e2c84db0fa",
      "6ccd0b3a8b214f8494060bd06032e7e3",
      "30efc3b8803b45069a0d260b3eefa04e",
      "c3a290977d1f49188e6f085fd778db16",
      "ef1e9bfdf37444e09789c58e4557128a",
      "e1f560e890654588a62a27640c01e942",
      "83e1f2fbb9fe492eb4d03ce4184518eb",
      "40d5599f081f429682d8aed4d9fec665",
      "156f40675a0e4dea9276632a357b83de",
      "9c7921a1770547debcf3eeddf14c5cd5",
      "0ccfa7e054814c6eacd3efbb81da394d",
      "5e2f1004df0942179defb2bad5b82312",
      "ca3c4328b5684f9f9ed36b55530a0532",
      "f5cdc034f3b64ae9b0c6160f92705631",
      "157f8a3d3d574baea49bfe95ae47cdac",
      "20c4fc821bf342598edf972a8084138f",
      "25773e5d2d4740c8abfb8414e52c22af",
      "f1cbf3f0de0142b2ba0b8b67f1d82c17",
      "b82ed4fbdfec4406ad7917382accf738"
     ]
    },
    "id": "1idVLjUOO-sS",
    "executionInfo": {
     "status": "ok",
     "timestamp": 1749369325731,
     "user_tz": -120,
     "elapsed": 2554,
     "user": {
      "displayName": "thiha Soe",
      "userId": "00273550437711924402"
     }
    },
    "outputId": "ff077888-40f6-4b0c-9772-c2905315d1c5"
   },
   "execution_count": null,
   "outputs": [
    {
     "output_type": "stream",
     "name": "stdout",
     "text": [
      "\n",
      "Preprocessing training data...\n"
     ]
    },
    {
     "output_type": "display_data",
     "data": {
      "text/plain": [
       "  0%|          | 0/3613 [00:00<?, ?it/s]"
      ],
      "application/vnd.jupyter.widget-view+json": {
       "version_major": 2,
       "version_minor": 0,
       "model_id": "59f4a12776834b26936d0ca9cfd1ff0d"
      }
     },
     "metadata": {}
    },
    {
     "output_type": "display_data",
     "data": {
      "text/plain": [
       "  0%|          | 0/3613 [00:00<?, ?it/s]"
      ],
      "application/vnd.jupyter.widget-view+json": {
       "version_major": 2,
       "version_minor": 0,
       "model_id": "330e861c564349a19c51067aa5b2375c"
      }
     },
     "metadata": {}
    },
    {
     "output_type": "display_data",
     "data": {
      "text/plain": [
       "  0%|          | 0/3613 [00:00<?, ?it/s]"
      ],
      "application/vnd.jupyter.widget-view+json": {
       "version_major": 2,
       "version_minor": 0,
       "model_id": "6498a78514c94c9999d52bbcedde0e93"
      }
     },
     "metadata": {}
    },
    {
     "output_type": "display_data",
     "data": {
      "text/plain": [
       "  0%|          | 0/3613 [00:00<?, ?it/s]"
      ],
      "application/vnd.jupyter.widget-view+json": {
       "version_major": 2,
       "version_minor": 0,
       "model_id": "523de619f5034d6c8c0a2764eb0a6034"
      }
     },
     "metadata": {}
    },
    {
     "output_type": "display_data",
     "data": {
      "text/plain": [
       "  0%|          | 0/3613 [00:00<?, ?it/s]"
      ],
      "application/vnd.jupyter.widget-view+json": {
       "version_major": 2,
       "version_minor": 0,
       "model_id": "28a5ed895e3b4d0e93bacc90906aac83"
      }
     },
     "metadata": {}
    },
    {
     "output_type": "display_data",
     "data": {
      "text/plain": [
       "  0%|          | 0/3613 [00:00<?, ?it/s]"
      ],
      "application/vnd.jupyter.widget-view+json": {
       "version_major": 2,
       "version_minor": 0,
       "model_id": "22b6310d999b49b28d3b35a4b09a5a24"
      }
     },
     "metadata": {}
    },
    {
     "output_type": "display_data",
     "data": {
      "text/plain": [
       "  0%|          | 0/3613 [00:00<?, ?it/s]"
      ],
      "application/vnd.jupyter.widget-view+json": {
       "version_major": 2,
       "version_minor": 0,
       "model_id": "d877ea0412dd4bb28d6ffae237e3609d"
      }
     },
     "metadata": {}
    },
    {
     "output_type": "display_data",
     "data": {
      "text/plain": [
       "  0%|          | 0/3613 [00:00<?, ?it/s]"
      ],
      "application/vnd.jupyter.widget-view+json": {
       "version_major": 2,
       "version_minor": 0,
       "model_id": "fc639bbe6e624629be239a814c6ccb5c"
      }
     },
     "metadata": {}
    },
    {
     "output_type": "display_data",
     "data": {
      "text/plain": [
       "  0%|          | 0/3613 [00:00<?, ?it/s]"
      ],
      "application/vnd.jupyter.widget-view+json": {
       "version_major": 2,
       "version_minor": 0,
       "model_id": "a0cb424ea1c5453a879ef5ab9dfdc4a6"
      }
     },
     "metadata": {}
    },
    {
     "output_type": "display_data",
     "data": {
      "text/plain": [
       "  0%|          | 0/3613 [00:00<?, ?it/s]"
      ],
      "application/vnd.jupyter.widget-view+json": {
       "version_major": 2,
       "version_minor": 0,
       "model_id": "9d47266153fa492dab3b5be003531f55"
      }
     },
     "metadata": {}
    },
    {
     "output_type": "stream",
     "name": "stdout",
     "text": [
      "\n",
      "Preprocessing test data...\n"
     ]
    },
    {
     "output_type": "display_data",
     "data": {
      "text/plain": [
       "  0%|          | 0/3142 [00:00<?, ?it/s]"
      ],
      "application/vnd.jupyter.widget-view+json": {
       "version_major": 2,
       "version_minor": 0,
       "model_id": "389aa211c9e54c469d01984f23901cde"
      }
     },
     "metadata": {}
    },
    {
     "output_type": "display_data",
     "data": {
      "text/plain": [
       "  0%|          | 0/3142 [00:00<?, ?it/s]"
      ],
      "application/vnd.jupyter.widget-view+json": {
       "version_major": 2,
       "version_minor": 0,
       "model_id": "65cc1f01d1084d79b340f1912df575e1"
      }
     },
     "metadata": {}
    },
    {
     "output_type": "display_data",
     "data": {
      "text/plain": [
       "  0%|          | 0/3142 [00:00<?, ?it/s]"
      ],
      "application/vnd.jupyter.widget-view+json": {
       "version_major": 2,
       "version_minor": 0,
       "model_id": "b029dab4d5654b778ee2565f2671612b"
      }
     },
     "metadata": {}
    },
    {
     "output_type": "display_data",
     "data": {
      "text/plain": [
       "  0%|          | 0/3142 [00:00<?, ?it/s]"
      ],
      "application/vnd.jupyter.widget-view+json": {
       "version_major": 2,
       "version_minor": 0,
       "model_id": "2f3f52971fc44f67bf3f319f7e518c3f"
      }
     },
     "metadata": {}
    },
    {
     "output_type": "display_data",
     "data": {
      "text/plain": [
       "  0%|          | 0/3142 [00:00<?, ?it/s]"
      ],
      "application/vnd.jupyter.widget-view+json": {
       "version_major": 2,
       "version_minor": 0,
       "model_id": "fba5820e930944a6bc327e99dc3f4278"
      }
     },
     "metadata": {}
    },
    {
     "output_type": "display_data",
     "data": {
      "text/plain": [
       "  0%|          | 0/3142 [00:00<?, ?it/s]"
      ],
      "application/vnd.jupyter.widget-view+json": {
       "version_major": 2,
       "version_minor": 0,
       "model_id": "7f9f2df196314387a887949b2a16e222"
      }
     },
     "metadata": {}
    },
    {
     "output_type": "display_data",
     "data": {
      "text/plain": [
       "  0%|          | 0/3142 [00:00<?, ?it/s]"
      ],
      "application/vnd.jupyter.widget-view+json": {
       "version_major": 2,
       "version_minor": 0,
       "model_id": "fd5eb840ee5c41dc9fc07d44fced5b78"
      }
     },
     "metadata": {}
    },
    {
     "output_type": "display_data",
     "data": {
      "text/plain": [
       "  0%|          | 0/3142 [00:00<?, ?it/s]"
      ],
      "application/vnd.jupyter.widget-view+json": {
       "version_major": 2,
       "version_minor": 0,
       "model_id": "17c99da089874865a324b03530341c32"
      }
     },
     "metadata": {}
    },
    {
     "output_type": "display_data",
     "data": {
      "text/plain": [
       "  0%|          | 0/3142 [00:00<?, ?it/s]"
      ],
      "application/vnd.jupyter.widget-view+json": {
       "version_major": 2,
       "version_minor": 0,
       "model_id": "25fdf5fb265e40a787f3dbc10c63f880"
      }
     },
     "metadata": {}
    },
    {
     "output_type": "display_data",
     "data": {
      "text/plain": [
       "  0%|          | 0/3142 [00:00<?, ?it/s]"
      ],
      "application/vnd.jupyter.widget-view+json": {
       "version_major": 2,
       "version_minor": 0,
       "model_id": "ce304bef516a4e38bf7dfc91ded25c21"
      }
     },
     "metadata": {}
    },
    {
     "output_type": "stream",
     "name": "stdout",
     "text": [
      "\n",
      "Preprocessing validation data...\n"
     ]
    },
    {
     "output_type": "display_data",
     "data": {
      "text/plain": [
       "  0%|          | 0/347 [00:00<?, ?it/s]"
      ],
      "application/vnd.jupyter.widget-view+json": {
       "version_major": 2,
       "version_minor": 0,
       "model_id": "c05d32f7f0ba4b3f98ebf67705f1865f"
      }
     },
     "metadata": {}
    },
    {
     "output_type": "display_data",
     "data": {
      "text/plain": [
       "  0%|          | 0/347 [00:00<?, ?it/s]"
      ],
      "application/vnd.jupyter.widget-view+json": {
       "version_major": 2,
       "version_minor": 0,
       "model_id": "fca02a154bbf4a30b5794eb973bcb55f"
      }
     },
     "metadata": {}
    },
    {
     "output_type": "display_data",
     "data": {
      "text/plain": [
       "  0%|          | 0/347 [00:00<?, ?it/s]"
      ],
      "application/vnd.jupyter.widget-view+json": {
       "version_major": 2,
       "version_minor": 0,
       "model_id": "5c34ede6bd5d4c00998ed3fbc564505f"
      }
     },
     "metadata": {}
    },
    {
     "output_type": "display_data",
     "data": {
      "text/plain": [
       "  0%|          | 0/347 [00:00<?, ?it/s]"
      ],
      "application/vnd.jupyter.widget-view+json": {
       "version_major": 2,
       "version_minor": 0,
       "model_id": "54c2b8152bb1417ebf984d16d7dce75e"
      }
     },
     "metadata": {}
    },
    {
     "output_type": "display_data",
     "data": {
      "text/plain": [
       "  0%|          | 0/347 [00:00<?, ?it/s]"
      ],
      "application/vnd.jupyter.widget-view+json": {
       "version_major": 2,
       "version_minor": 0,
       "model_id": "d3ca988d81d645e0be4d0fcd721f97e4"
      }
     },
     "metadata": {}
    },
    {
     "output_type": "display_data",
     "data": {
      "text/plain": [
       "  0%|          | 0/347 [00:00<?, ?it/s]"
      ],
      "application/vnd.jupyter.widget-view+json": {
       "version_major": 2,
       "version_minor": 0,
       "model_id": "576a618795ae4be6a4c2398f552c3c78"
      }
     },
     "metadata": {}
    },
    {
     "output_type": "display_data",
     "data": {
      "text/plain": [
       "  0%|          | 0/347 [00:00<?, ?it/s]"
      ],
      "application/vnd.jupyter.widget-view+json": {
       "version_major": 2,
       "version_minor": 0,
       "model_id": "2b3ad76a8f0841599add374d2fea5281"
      }
     },
     "metadata": {}
    },
    {
     "output_type": "display_data",
     "data": {
      "text/plain": [
       "  0%|          | 0/347 [00:00<?, ?it/s]"
      ],
      "application/vnd.jupyter.widget-view+json": {
       "version_major": 2,
       "version_minor": 0,
       "model_id": "8ad4e6493854441595dd66a5b8a5a374"
      }
     },
     "metadata": {}
    },
    {
     "output_type": "display_data",
     "data": {
      "text/plain": [
       "  0%|          | 0/347 [00:00<?, ?it/s]"
      ],
      "application/vnd.jupyter.widget-view+json": {
       "version_major": 2,
       "version_minor": 0,
       "model_id": "fba3455e90bc457fbb688a64ca48858f"
      }
     },
     "metadata": {}
    },
    {
     "output_type": "display_data",
     "data": {
      "text/plain": [
       "  0%|          | 0/347 [00:00<?, ?it/s]"
      ],
      "application/vnd.jupyter.widget-view+json": {
       "version_major": 2,
       "version_minor": 0,
       "model_id": "156f40675a0e4dea9276632a357b83de"
      }
     },
     "metadata": {}
    }
   ]
  },
  {
   "cell_type": "code",
   "source": [
    "# Vectorize with TF-IDF\n",
    "from sklearn.feature_extraction.text import TfidfVectorizer\n",
    "\n",
    "print(\"\\nVectorizing with TF-IDF...\")\n",
    "tfidf = TfidfVectorizer(max_features=5000, ngram_range=(1, 2))\n",
    "preprocessed_df_train_Xtfidf = tfidf.fit_transform(preprocessed_df_train_X)\n",
    "preprocessed_df_test_Xtfidf = tfidf.transform(preprocessed_df_test_X)\n",
    "preprocessed_df_val_Xtfidf = tfidf.transform(preprocessed_df_val_X)\n",
    "\n",
    "# Check class distribution\n",
    "print(\"\\nClass distribution in training set:\")\n",
    "print(preprocessed_df_train_Y.value_counts())\n",
    "\n",
    "plt.figure(figsize=(8,5))\n",
    "preprocessed_df_train_Y.value_counts().plot(kind='bar')\n",
    "plt.title('Class Distribution in Training Set')\n",
    "plt.show()"
   ],
   "metadata": {
    "colab": {
     "base_uri": "https://localhost:8080/",
     "height": 703
    },
    "id": "Tn5xv-p3PGbv",
    "executionInfo": {
     "status": "ok",
     "timestamp": 1749369326296,
     "user_tz": -120,
     "elapsed": 559,
     "user": {
      "displayName": "thiha Soe",
      "userId": "00273550437711924402"
     }
    },
    "outputId": "730b98e1-b9de-446b-f764-ed126511663c"
   },
   "execution_count": null,
   "outputs": [
    {
     "output_type": "stream",
     "name": "stdout",
     "text": [
      "\n",
      "Vectorizing with TF-IDF...\n",
      "\n",
      "Class distribution in training set:\n",
      "label\n",
      "fear       1147\n",
      "anger       857\n",
      "joy         823\n",
      "sadness     786\n",
      "Name: count, dtype: int64\n"
     ]
    },
    {
     "output_type": "display_data",
     "data": {
      "text/plain": [
       "<Figure size 800x500 with 1 Axes>"
      ],
      "image/png": "[encoded data removed]"
     },
     "metadata": {}
    }
   ]
  },
  {
   "cell_type": "code",
   "source": [
    "# Build and evaluate models\n",
    "from sklearn.naive_bayes import MultinomialNB\n",
    "from sklearn.linear_model import LogisticRegression\n",
    "from sklearn.ensemble import RandomForestClassifier\n",
    "from sklearn.metrics import classification_report, confusion_matrix, roc_curve, auc, roc_auc_score, precision_score, recall_score, f1_score\n",
    "from sklearn.preprocessing import label_binarize\n",
    "from sklearn.model_selection import cross_val_score, GridSearchCV\n",
    "\n",
    "models = {\n",
    "    'Naive Bayes': MultinomialNB(),\n",
    "    'Logistic Regression': LogisticRegression(max_iter=1000),\n",
    "    'Random Forest': RandomForestClassifier(random_state=42)\n",
    "}\n",
    "\n",
    "# Train models and evaluate\n",
    "results = {}\n",
    "for name, model in models.items():\n",
    "    print(f\"\\nTraining and evaluating {name}...\")\n",
    "\n",
    "    # Train model\n",
    "    model.fit(preprocessed_df_train_Xtfidf, preprocessed_df_train_Y)\n",
    "\n",
    "    # Predictions\n",
    "    y_pred = model.predict(preprocessed_df_test_Xtfidf)\n",
    "    y_proba = model.predict_proba(preprocessed_df_test_Xtfidf)\n",
    "\n",
    "    # Classification report\n",
    "    print(f\"\\n{name} Classification Report:\")\n",
    "    print(classification_report(preprocessed_df_test_Y, y_pred))\n",
    "\n",
    "    # Confusion matrix\n",
    "    cm = confusion_matrix(preprocessed_df_test_Y, y_pred)\n",
    "    plt.figure(figsize=(6,6))\n",
    "    sns.heatmap(cm, annot=True, fmt='d', cmap='Blues',\n",
    "                xticklabels=model.classes_,\n",
    "                yticklabels=model.classes_)\n",
    "    plt.title(f'{name} Confusion Matrix')\n",
    "    plt.ylabel('True label')\n",
    "    plt.xlabel('Predicted label')\n",
    "    plt.show()\n",
    "\n",
    "    # Cross-validation\n",
    "    cv_scores = cross_val_score(model, preprocessed_df_train_Xtfidf, preprocessed_df_train_Y, cv=5)\n",
    "    print(f\"Cross-validation scores: {cv_scores}\")\n",
    "    print(f\"Mean CV accuracy: {cv_scores.mean():.2f} (+/- {cv_scores.std()*2:.2f})\")\n",
    "\n",
    "    # Store results\n",
    "    results[name] = {\n",
    "        'model': model,\n",
    "        'accuracy': model.score(preprocessed_df_test_Xtfidf, preprocessed_df_test_Y),\n",
    "        'cv_mean': cv_scores.mean(),\n",
    "        'cv_std': cv_scores.std(),\n",
    "        'classification_report': classification_report(preprocessed_df_test_Y, y_pred, output_dict=True)\n",
    "    }\n"
   ],
   "metadata": {
    "colab": {
     "base_uri": "https://localhost:8080/",
     "height": 1000
    },
    "id": "ks9wUF0vPTpT",
    "executionInfo": {
     "status": "ok",
     "timestamp": 1749369554158,
     "user_tz": -120,
     "elapsed": 38212,
     "user": {
      "displayName": "thiha Soe",
      "userId": "00273550437711924402"
     }
    },
    "outputId": "7207c2a8-24de-46e2-d580-cb5bc73e57c0"
   },
   "execution_count": null,
   "outputs": [
    {
     "output_type": "stream",
     "name": "stdout",
     "text": [
      "\n",
      "Training and evaluating Naive Bayes...\n",
      "\n",
      "Naive Bayes Classification Report:\n",
      "              precision    recall  f1-score   support\n",
      "\n",
      "       anger       0.82      0.68      0.75       760\n",
      "        fear       0.64      0.86      0.74       995\n",
      "         joy       0.85      0.73      0.78       714\n",
      "     sadness       0.77      0.64      0.70       673\n",
      "\n",
      "    accuracy                           0.74      3142\n",
      "   macro avg       0.77      0.73      0.74      3142\n",
      "weighted avg       0.76      0.74      0.74      3142\n",
      "\n"
     ]
    },
    {
     "output_type": "display_data",
     "data": {
      "text/plain": [
       "<Figure size 600x600 with 2 Axes>"
      ],
      "image/png": "[encoded data removed]"
     },
     "metadata": {}
    },
    {
     "output_type": "stream",
     "name": "stdout",
     "text": [
      "Cross-validation scores: [0.77040111 0.82157676 0.8077455  0.76038781 0.68836565]\n",
      "Mean CV accuracy: 0.77 (+/- 0.09)\n",
      "\n",
      "Training and evaluating Logistic Regression...\n",
      "\n",
      "Logistic Regression Classification Report:\n",
      "              precision    recall  f1-score   support\n",
      "\n",
      "       anger       0.85      0.76      0.80       760\n",
      "        fear       0.76      0.87      0.81       995\n",
      "         joy       0.87      0.83      0.85       714\n",
      "     sadness       0.81      0.76      0.78       673\n",
      "\n",
      "    accuracy                           0.81      3142\n",
      "   macro avg       0.82      0.81      0.81      3142\n",
      "weighted avg       0.82      0.81      0.81      3142\n",
      "\n"
     ]
    },
    {
     "output_type": "display_data",
     "data": {
      "text/plain": [
       "<Figure size 600x600 with 2 Axes>"
      ],
      "image/png": "[encoded data removed]"
     },
     "metadata": {}
    },
    {
     "output_type": "stream",
     "name": "stdout",
     "text": [
      "Cross-validation scores: [0.81051176 0.85753804 0.83679115 0.80470914 0.75900277]\n",
      "Mean CV accuracy: 0.81 (+/- 0.07)\n",
      "\n",
      "Training and evaluating Random Forest...\n",
      "\n",
      "Random Forest Classification Report:\n",
      "              precision    recall  f1-score   support\n",
      "\n",
      "       anger       0.87      0.74      0.80       760\n",
      "        fear       0.84      0.75      0.79       995\n",
      "         joy       0.90      0.84      0.87       714\n",
      "     sadness       0.58      0.82      0.68       673\n",
      "\n",
      "    accuracy                           0.78      3142\n",
      "   macro avg       0.80      0.79      0.79      3142\n",
      "weighted avg       0.81      0.78      0.79      3142\n",
      "\n"
     ]
    },
    {
     "output_type": "display_data",
     "data": {
      "text/plain": [
       "<Figure size 600x600 with 2 Axes>"
      ],
      "image/png": "[encoded data removed]"
     },
     "metadata": {}
    },
    {
     "output_type": "stream",
     "name": "stdout",
     "text": [
      "Cross-validation scores: [0.85338866 0.82987552 0.78008299 0.76038781 0.68282548]\n",
      "Mean CV accuracy: 0.78 (+/- 0.12)\n"
     ]
    }
   ]
  },
  {
   "cell_type": "code",
   "source": [
    "# Results summary\n",
    "print(\"\\nFinal Model Comparison:\")\n",
    "results_df = pd.DataFrame({\n",
    "    'Model': list(results.keys()),\n",
    "    'Accuracy': [results[name]['accuracy'] for name in results],\n",
    "    'CV Mean Accuracy': [results[name]['cv_mean'] for name in results],\n",
    "    'CV Std': [results[name]['cv_std'] for name in results],\n",
    "    'Precision': [precision_score(preprocessed_df_test_Y, results[name]['model'].predict(preprocessed_df_test_Xtfidf), average='weighted') for name in results],\n",
    "    'Recall': [recall_score(preprocessed_df_test_Y, results[name]['model'].predict(preprocessed_df_test_Xtfidf), average='weighted') for name in results],\n",
    "    'F1 Score': [f1_score(preprocessed_df_test_Y, results[name]['model'].predict(preprocessed_df_test_Xtfidf), average='weighted') for name in results]\n",
    "})\n",
    "\n",
    "results_df"
   ],
   "metadata": {
    "colab": {
     "base_uri": "https://localhost:8080/",
     "height": 178
    },
    "id": "Wcv9cztNUD5e",
    "executionInfo": {
     "status": "ok",
     "timestamp": 1749372688479,
     "user_tz": -120,
     "elapsed": 968,
     "user": {
      "displayName": "thiha Soe",
      "userId": "00273550437711924402"
     }
    },
    "outputId": "db9742de-79b4-4e63-e45e-8c79619dee50"
   },
   "execution_count": null,
   "outputs": [
    {
     "output_type": "stream",
     "name": "stdout",
     "text": [
      "\n",
      "Final Model Comparison:\n"
     ]
    },
    {
     "output_type": "execute_result",
     "data": {
      "text/plain": [
       "                 Model  Accuracy  CV Mean Accuracy    CV Std  Precision  \\\n",
       "0          Naive Bayes  0.740293          0.769695  0.046564   0.759084   \n",
       "1  Logistic Regression  0.811903          0.813711  0.033280   0.815747   \n",
       "2        Random Forest  0.781668          0.781312  0.059485   0.805720   \n",
       "\n",
       "     Recall  F1 Score  \n",
       "0  0.740293  0.740625  \n",
       "1  0.811903  0.811866  \n",
       "2  0.781668  0.787130  "
      ],
      "text/html": [
       "\n",
       "  <div id=\"df-9091db3b-13cc-44a6-8a85-ac29c8bef9ab\" class=\"colab-df-container\">\n",
       "    <div>\n",
       "<style scoped>\n",
       "    .dataframe tbody tr th:only-of-type {\n",
       "        vertical-align: middle;\n",
       "    }\n",
       "\n",
       "    .dataframe tbody tr th {\n",
       "        vertical-align: top;\n",
       "    }\n",
       "\n",
       "    .dataframe thead th {\n",
       "        text-align: right;\n",
       "    }\n",
       "</style>\n",
       "<table border=\"1\" class=\"dataframe\">\n",
       "  <thead>\n",
       "    <tr style=\"text-align: right;\">\n",
       "      <th></th>\n",
       "      <th>Model</th>\n",
       "      <th>Accuracy</th>\n",
       "      <th>CV Mean Accuracy</th>\n",
       "      <th>CV Std</th>\n",
       "      <th>Precision</th>\n",
       "      <th>Recall</th>\n",
       "      <th>F1 Score</th>\n",
       "    </tr>\n",
       "  </thead>\n",
       "  <tbody>\n",
       "    <tr>\n",
       "      <th>0</th>\n",
       "      <td>Naive Bayes</td>\n",
       "      <td>0.740293</td>\n",
       "      <td>0.769695</td>\n",
       "      <td>0.046564</td>\n",
       "      <td>0.759084</td>\n",
       "      <td>0.740293</td>\n",
       "      <td>0.740625</td>\n",
       "    </tr>\n",
       "    <tr>\n",
       "      <th>1</th>\n",
       "      <td>Logistic Regression</td>\n",
       "      <td>0.811903</td>\n",
       "      <td>0.813711</td>\n",
       "      <td>0.033280</td>\n",
       "      <td>0.815747</td>\n",
       "      <td>0.811903</td>\n",
       "      <td>0.811866</td>\n",
       "    </tr>\n",
       "    <tr>\n",
       "      <th>2</th>\n",
       "      <td>Random Forest</td>\n",
       "      <td>0.781668</td>\n",
       "      <td>0.781312</td>\n",
       "      <td>0.059485</td>\n",
       "      <td>0.805720</td>\n",
       "      <td>0.781668</td>\n",
       "      <td>0.787130</td>\n",
       "    </tr>\n",
       "  </tbody>\n",
       "</table>\n",
       "</div>\n",
       "    <div class=\"colab-df-buttons\">\n",
       "\n",
       "  <div class=\"colab-df-container\">\n",
       "    <button class=\"colab-df-convert\" onclick=\"convertToInteractive('df-9091db3b-13cc-44a6-8a85-ac29c8bef9ab')\"\n",
       "            title=\"Convert this dataframe to an interactive table.\"\n",
       "            style=\"display:none;\">\n",
       "\n",
       "  <svg xmlns=\"http://www.w3.org/2000/svg\" height=\"24px\" viewBox=\"0 -960 960 960\">\n",
       "    <path d=\"M120-120v-720h720v720H120Zm60-500h600v-160H180v160Zm220 220h160v-160H400v160Zm0 220h160v-160H400v160ZM180-400h160v-160H180v160Zm440 0h160v-160H620v160ZM180-180h160v-160H180v160Zm440 0h160v-160H620v160Z\"/>\n",
       "  </svg>\n",
       "    </button>\n",
       "\n",
       "  <style>\n",
       "    .colab-df-container {\n",
       "      display:flex;\n",
       "      gap: 12px;\n",
       "    }\n",
       "\n",
       "    .colab-df-convert {\n",
       "      background-color: #E8F0FE;\n",
       "      border: none;\n",
       "      border-radius: 50%;\n",
       "      cursor: pointer;\n",
       "      display: none;\n",
       "      fill: #1967D2;\n",
       "      height: 32px;\n",
       "      padding: 0 0 0 0;\n",
       "      width: 32px;\n",
       "    }\n",
       "\n",
       "    .colab-df-convert:hover {\n",
       "      background-color: #E2EBFA;\n",
       "      box-shadow: 0px 1px 2px rgba(60, 64, 67, 0.3), 0px 1px 3px 1px rgba(60, 64, 67, 0.15);\n",
       "      fill: #174EA6;\n",
       "    }\n",
       "\n",
       "    .colab-df-buttons div {\n",
       "      margin-bottom: 4px;\n",
       "    }\n",
       "\n",
       "    [theme=dark] .colab-df-convert {\n",
       "      background-color: #3B4455;\n",
       "      fill: #D2E3FC;\n",
       "    }\n",
       "\n",
       "    [theme=dark] .colab-df-convert:hover {\n",
       "      background-color: #434B5C;\n",
       "      box-shadow: 0px 1px 3px 1px rgba(0, 0, 0, 0.15);\n",
       "      filter: drop-shadow(0px 1px 2px rgba(0, 0, 0, 0.3));\n",
       "      fill: #FFFFFF;\n",
       "    }\n",
       "  </style>\n",
       "\n",
       "    <script>\n",
       "      const buttonEl =\n",
       "        document.querySelector('#df-9091db3b-13cc-44a6-8a85-ac29c8bef9ab button.colab-df-convert');\n",
       "      buttonEl.style.display =\n",
       "        google.colab.kernel.accessAllowed ? 'block' : 'none';\n",
       "\n",
       "      async function convertToInteractive(key) {\n",
       "        const element = document.querySelector('#df-9091db3b-13cc-44a6-8a85-ac29c8bef9ab');\n",
       "        const dataTable =\n",
       "          await google.colab.kernel.invokeFunction('convertToInteractive',\n",
       "                                                    [key], {});\n",
       "        if (!dataTable) return;\n",
       "\n",
       "        const docLinkHtml = 'Like what you see? Visit the ' +\n",
       "          '<a target=\"_blank\" href=https://colab.research.google.com/notebooks/data_table.ipynb>data table notebook</a>'\n",
       "          + ' to learn more about interactive tables.';\n",
       "        element.innerHTML = '';\n",
       "        dataTable['output_type'] = 'display_data';\n",
       "        await google.colab.output.renderOutput(dataTable, element);\n",
       "        const docLink = document.createElement('div');\n",
       "        docLink.innerHTML = docLinkHtml;\n",
       "        element.appendChild(docLink);\n",
       "      }\n",
       "    </script>\n",
       "  </div>\n",
       "\n",
       "\n",
       "    <div id=\"df-f3f4b966-597d-40b4-ae26-f8eedcd60e91\">\n",
       "      <button class=\"colab-df-quickchart\" onclick=\"quickchart('df-f3f4b966-597d-40b4-ae26-f8eedcd60e91')\"\n",
       "                title=\"Suggest charts\"\n",
       "                style=\"display:none;\">\n",
       "\n",
       "<svg xmlns=\"http://www.w3.org/2000/svg\" height=\"24px\"viewBox=\"0 0 24 24\"\n",
       "     width=\"24px\">\n",
       "    <g>\n",
       "        <path d=\"M19 3H5c-1.1 0-2 .9-2 2v14c0 1.1.9 2 2 2h14c1.1 0 2-.9 2-2V5c0-1.1-.9-2-2-2zM9 17H7v-7h2v7zm4 0h-2V7h2v10zm4 0h-2v-4h2v4z\"/>\n",
       "    </g>\n",
       "</svg>\n",
       "      </button>\n",
       "\n",
       "<style>\n",
       "  .colab-df-quickchart {\n",
       "      --bg-color: #E8F0FE;\n",
       "      --fill-color: #1967D2;\n",
       "      --hover-bg-color: #E2EBFA;\n",
       "      --hover-fill-color: #174EA6;\n",
       "      --disabled-fill-color: #AAA;\n",
       "      --disabled-bg-color: #DDD;\n",
       "  }\n",
       "\n",
       "  [theme=dark] .colab-df-quickchart {\n",
       "      --bg-color: #3B4455;\n",
       "      --fill-color: #D2E3FC;\n",
       "      --hover-bg-color: #434B5C;\n",
       "      --hover-fill-color: #FFFFFF;\n",
       "      --disabled-bg-color: #3B4455;\n",
       "      --disabled-fill-color: #666;\n",
       "  }\n",
       "\n",
       "  .colab-df-quickchart {\n",
       "    background-color: var(--bg-color);\n",
       "    border: none;\n",
       "    border-radius: 50%;\n",
       "    cursor: pointer;\n",
       "    display: none;\n",
       "    fill: var(--fill-color);\n",
       "    height: 32px;\n",
       "    padding: 0;\n",
       "    width: 32px;\n",
       "  }\n",
       "\n",
       "  .colab-df-quickchart:hover {\n",
       "    background-color: var(--hover-bg-color);\n",
       "    box-shadow: 0 1px 2px rgba(60, 64, 67, 0.3), 0 1px 3px 1px rgba(60, 64, 67, 0.15);\n",
       "    fill: var(--button-hover-fill-color);\n",
       "  }\n",
       "\n",
       "  .colab-df-quickchart-complete:disabled,\n",
       "  .colab-df-quickchart-complete:disabled:hover {\n",
       "    background-color: var(--disabled-bg-color);\n",
       "    fill: var(--disabled-fill-color);\n",
       "    box-shadow: none;\n",
       "  }\n",
       "\n",
       "  .colab-df-spinner {\n",
       "    border: 2px solid var(--fill-color);\n",
       "    border-color: transparent;\n",
       "    border-bottom-color: var(--fill-color);\n",
       "    animation:\n",
       "      spin 1s steps(1) infinite;\n",
       "  }\n",
       "\n",
       "  @keyframes spin {\n",
       "    0% {\n",
       "      border-color: transparent;\n",
       "      border-bottom-color: var(--fill-color);\n",
       "      border-left-color: var(--fill-color);\n",
       "    }\n",
       "    20% {\n",
       "      border-color: transparent;\n",
       "      border-left-color: var(--fill-color);\n",
       "      border-top-color: var(--fill-color);\n",
       "    }\n",
       "    30% {\n",
       "      border-color: transparent;\n",
       "      border-left-color: var(--fill-color);\n",
       "      border-top-color: var(--fill-color);\n",
       "      border-right-color: var(--fill-color);\n",
       "    }\n",
       "    40% {\n",
       "      border-color: transparent;\n",
       "      border-right-color: var(--fill-color);\n",
       "      border-top-color: var(--fill-color);\n",
       "    }\n",
       "    60% {\n",
       "      border-color: transparent;\n",
       "      border-right-color: var(--fill-color);\n",
       "    }\n",
       "    80% {\n",
       "      border-color: transparent;\n",
       "      border-right-color: var(--fill-color);\n",
       "      border-bottom-color: var(--fill-color);\n",
       "    }\n",
       "    90% {\n",
       "      border-color: transparent;\n",
       "      border-bottom-color: var(--fill-color);\n",
       "    }\n",
       "  }\n",
       "</style>\n",
       "\n",
       "      <script>\n",
       "        async function quickchart(key) {\n",
       "          const quickchartButtonEl =\n",
       "            document.querySelector('#' + key + ' button');\n",
       "          quickchartButtonEl.disabled = true;  // To prevent multiple clicks.\n",
       "          quickchartButtonEl.classList.add('colab-df-spinner');\n",
       "          try {\n",
       "            const charts = await google.colab.kernel.invokeFunction(\n",
       "                'suggestCharts', [key], {});\n",
       "          } catch (error) {\n",
       "            console.error('Error during call to suggestCharts:', error);\n",
       "          }\n",
       "          quickchartButtonEl.classList.remove('colab-df-spinner');\n",
       "          quickchartButtonEl.classList.add('colab-df-quickchart-complete');\n",
       "        }\n",
       "        (() => {\n",
       "          let quickchartButtonEl =\n",
       "            document.querySelector('#df-f3f4b966-597d-40b4-ae26-f8eedcd60e91 button');\n",
       "          quickchartButtonEl.style.display =\n",
       "            google.colab.kernel.accessAllowed ? 'block' : 'none';\n",
       "        })();\n",
       "      </script>\n",
       "    </div>\n",
       "\n",
       "  <div id=\"id_006ac765-0e01-4f1a-a9e5-bf75e9b35521\">\n",
       "    <style>\n",
       "      .colab-df-generate {\n",
       "        background-color: #E8F0FE;\n",
       "        border: none;\n",
       "        border-radius: 50%;\n",
       "        cursor: pointer;\n",
       "        display: none;\n",
       "        fill: #1967D2;\n",
       "        height: 32px;\n",
       "        padding: 0 0 0 0;\n",
       "        width: 32px;\n",
       "      }\n",
       "\n",
       "      .colab-df-generate:hover {\n",
       "        background-color: #E2EBFA;\n",
       "        box-shadow: 0px 1px 2px rgba(60, 64, 67, 0.3), 0px 1px 3px 1px rgba(60, 64, 67, 0.15);\n",
       "        fill: #174EA6;\n",
       "      }\n",
       "\n",
       "      [theme=dark] .colab-df-generate {\n",
       "        background-color: #3B4455;\n",
       "        fill: #D2E3FC;\n",
       "      }\n",
       "\n",
       "      [theme=dark] .colab-df-generate:hover {\n",
       "        background-color: #434B5C;\n",
       "        box-shadow: 0px 1px 3px 1px rgba(0, 0, 0, 0.15);\n",
       "        filter: drop-shadow(0px 1px 2px rgba(0, 0, 0, 0.3));\n",
       "        fill: #FFFFFF;\n",
       "      }\n",
       "    </style>\n",
       "    <button class=\"colab-df-generate\" onclick=\"generateWithVariable('results_df')\"\n",
       "            title=\"Generate code using this dataframe.\"\n",
       "            style=\"display:none;\">\n",
       "\n",
       "  <svg xmlns=\"http://www.w3.org/2000/svg\" height=\"24px\"viewBox=\"0 0 24 24\"\n",
       "       width=\"24px\">\n",
       "    <path d=\"M7,19H8.4L18.45,9,17,7.55,7,17.6ZM5,21V16.75L18.45,3.32a2,2,0,0,1,2.83,0l1.4,1.43a1.91,1.91,0,0,1,.58,1.4,1.91,1.91,0,0,1-.58,1.4L9.25,21ZM18.45,9,17,7.55Zm-12,3A5.31,5.31,0,0,0,4.9,8.1,5.31,5.31,0,0,0,1,6.5,5.31,5.31,0,0,0,4.9,4.9,5.31,5.31,0,0,0,6.5,1,5.31,5.31,0,0,0,8.1,4.9,5.31,5.31,0,0,0,12,6.5,5.46,5.46,0,0,0,6.5,12Z\"/>\n",
       "  </svg>\n",
       "    </button>\n",
       "    <script>\n",
       "      (() => {\n",
       "      const buttonEl =\n",
       "        document.querySelector('#id_006ac765-0e01-4f1a-a9e5-bf75e9b35521 button.colab-df-generate');\n",
       "      buttonEl.style.display =\n",
       "        google.colab.kernel.accessAllowed ? 'block' : 'none';\n",
       "\n",
       "      buttonEl.onclick = () => {\n",
       "        google.colab.notebook.generateWithVariable('results_df');\n",
       "      }\n",
       "      })();\n",
       "    </script>\n",
       "  </div>\n",
       "\n",
       "    </div>\n",
       "  </div>\n"
      ],
      "application/vnd.google.colaboratory.intrinsic+json": {
       "type": "dataframe",
       "variable_name": "results_df",
       "summary": "{\n  \"name\": \"results_df\",\n  \"rows\": 3,\n  \"fields\": [\n    {\n      \"column\": \"Model\",\n      \"properties\": {\n        \"dtype\": \"string\",\n        \"num_unique_values\": 3,\n        \"samples\": [\n          \"Naive Bayes\",\n          \"Logistic Regression\",\n          \"Random Forest\"\n        ],\n        \"semantic_type\": \"\",\n        \"description\": \"\"\n      }\n    },\n    {\n      \"column\": \"Accuracy\",\n      \"properties\": {\n        \"dtype\": \"number\",\n        \"std\": 0.03594932924858352,\n        \"min\": 0.7402928071292171,\n        \"max\": 0.8119032463399108,\n        \"num_unique_values\": 3,\n        \"samples\": [\n          0.7402928071292171,\n          0.8119032463399108,\n          0.7816677275620624\n        ],\n        \"semantic_type\": \"\",\n        \"description\": \"\"\n      }\n    },\n    {\n      \"column\": \"CV Mean Accuracy\",\n      \"properties\": {\n        \"dtype\": \"number\",\n        \"std\": 0.022810625326781804,\n        \"min\": 0.7696953674861975,\n        \"max\": 0.8137105703765858,\n        \"num_unique_values\": 3,\n        \"samples\": [\n          0.7696953674861975,\n          0.8137105703765858,\n          0.781312092198174\n        ],\n        \"semantic_type\": \"\",\n        \"description\": \"\"\n      }\n    },\n    {\n      \"column\": \"CV Std\",\n      \"properties\": {\n        \"dtype\": \"number\",\n        \"std\": 0.013103016367365642,\n        \"min\": 0.03327990790659847,\n        \"max\": 0.05948510038799629,\n        \"num_unique_values\": 3,\n        \"samples\": [\n          0.04656424305348986,\n          0.03327990790659847,\n          0.05948510038799629\n        ],\n        \"semantic_type\": \"\",\n        \"description\": \"\"\n      }\n    },\n    {\n      \"column\": \"Precision\",\n      \"properties\": {\n        \"dtype\": \"number\",\n        \"std\": 0.030238364906777133,\n        \"min\": 0.7590837132593938,\n        \"max\": 0.8157466336903915,\n        \"num_unique_values\": 3,\n        \"samples\": [\n          0.7590837132593938,\n          0.8157466336903915,\n          0.8057198510978134\n        ],\n        \"semantic_type\": \"\",\n        \"description\": \"\"\n      }\n    },\n    {\n      \"column\": \"Recall\",\n      \"properties\": {\n        \"dtype\": \"number\",\n        \"std\": 0.03594932924858352,\n        \"min\": 0.7402928071292171,\n        \"max\": 0.8119032463399108,\n        \"num_unique_values\": 3,\n        \"samples\": [\n          0.7402928071292171,\n          0.8119032463399108,\n          0.7816677275620624\n        ],\n        \"semantic_type\": \"\",\n        \"description\": \"\"\n      }\n    },\n    {\n      \"column\": \"F1 Score\",\n      \"properties\": {\n        \"dtype\": \"number\",\n        \"std\": 0.036170623417311504,\n        \"min\": 0.7406249807890211,\n        \"max\": 0.8118660633228647,\n        \"num_unique_values\": 3,\n        \"samples\": [\n          0.7406249807890211,\n          0.8118660633228647,\n          0.7871300576337913\n        ],\n        \"semantic_type\": \"\",\n        \"description\": \"\"\n      }\n    }\n  ]\n}"
      }
     },
     "metadata": {},
     "execution_count": 38
    }
   ]
  },
  {
   "source": [
    "# Model vs Precision\n",
    "\n",
    "from matplotlib import pyplot as plt\n",
    "import seaborn as sns\n",
    "figsize = (12, 1.2 * len(results_df['Model'].unique()))\n",
    "plt.figure(figsize=figsize)\n",
    "sns.violinplot(results_df, x='Precision', y='Model', inner='stick', palette='Dark2')\n",
    "sns.despine(top=True, right=True, bottom=True, left=True)"
   ],
   "cell_type": "code",
   "execution_count": null,
   "outputs": [
    {
     "output_type": "stream",
     "name": "stderr",
     "text": [
      "<ipython-input-42-cad11303d3c1>:7: FutureWarning: \n",
      "\n",
      "Passing `palette` without assigning `hue` is deprecated and will be removed in v0.14.0. Assign the `y` variable to `hue` and set `legend=False` for the same effect.\n",
      "\n",
      "  sns.violinplot(results_df, x='Precision', y='Model', inner='stick', palette='Dark2')\n"
     ]
    },
    {
     "output_type": "display_data",
     "data": {
      "text/plain": [
       "<Figure size 1200x360 with 1 Axes>"
      ],
      "image/png": "[encoded data removed]"
     },
     "metadata": {}
    }
   ],
   "metadata": {
    "colab": {
     "base_uri": "https://localhost:8080/",
     "height": 464
    },
    "id": "jUAlmgOxvdZr",
    "executionInfo": {
     "status": "ok",
     "timestamp": 1749372825042,
     "user_tz": -120,
     "elapsed": 169,
     "user": {
      "displayName": "thiha Soe",
      "userId": "00273550437711924402"
     }
    },
    "outputId": "a183f77d-6a16-40bd-fef2-ba17a4789d60"
   }
  },
  {
   "source": [
    "# Model vs Accuracy\n",
    "\n",
    "from matplotlib import pyplot as plt\n",
    "import seaborn as sns\n",
    "figsize = (12, 1.2 * len(results_df['Model'].unique()))\n",
    "plt.figure(figsize=figsize)\n",
    "sns.violinplot(results_df, x='Accuracy', y='Model', inner='stick', palette='Dark2')\n",
    "sns.despine(top=True, right=True, bottom=True, left=True)"
   ],
   "cell_type": "code",
   "execution_count": null,
   "outputs": [
    {
     "output_type": "stream",
     "name": "stderr",
     "text": [
      "<ipython-input-37-8860089cdc0e>:7: FutureWarning: \n",
      "\n",
      "Passing `palette` without assigning `hue` is deprecated and will be removed in v0.14.0. Assign the `y` variable to `hue` and set `legend=False` for the same effect.\n",
      "\n",
      "  sns.violinplot(results_df, x='Accuracy', y='Model', inner='stick', palette='Dark2')\n"
     ]
    },
    {
     "output_type": "display_data",
     "data": {
      "text/plain": [
       "<Figure size 1200x360 with 1 Axes>"
      ],
      "image/png": "[encoded data removed]"
     },
     "metadata": {}
    }
   ],
   "metadata": {
    "colab": {
     "base_uri": "https://localhost:8080/",
     "height": 464
    },
    "id": "SwvJ2YYdlvjz",
    "executionInfo": {
     "status": "ok",
     "timestamp": 1749370206923,
     "user_tz": -120,
     "elapsed": 131,
     "user": {
      "displayName": "thiha Soe",
      "userId": "00273550437711924402"
     }
    },
    "outputId": "d12b336d-09db-4162-e19a-251588b12a3d"
   }
  },
  {
   "source": [
    "# @title Test Accuracy\n",
    "\n",
    "from matplotlib import pyplot as plt\n",
    "results_df['Test Accuracy'].plot(kind='hist', bins=20, title='Test Accuracy')\n",
    "plt.gca().spines[['top', 'right',]].set_visible(False)"
   ],
   "cell_type": "code",
   "execution_count": null,
   "outputs": [
    {
     "output_type": "display_data",
     "data": {
      "text/plain": [
       "<Figure size 640x480 with 1 Axes>"
      ],
      "image/png": "[encoded data removed]"
     },
     "metadata": {}
    }
   ],
   "metadata": {
    "colab": {
     "base_uri": "https://localhost:8080/",
     "height": 452
    },
    "id": "B8ZWyj4lle5J",
    "executionInfo": {
     "status": "ok",
     "timestamp": 1749370138708,
     "user_tz": -120,
     "elapsed": 203,
     "user": {
      "displayName": "thiha Soe",
      "userId": "00273550437711924402"
     }
    },
    "outputId": "391033c1-f530-4c75-fa8b-ee72dababb15"
   }
  },
  {
   "cell_type": "code",
   "source": [
    "results_df"
   ],
   "metadata": {
    "colab": {
     "base_uri": "https://localhost:8080/",
     "height": 143
    },
    "id": "r_lx1GbPkDTR",
    "executionInfo": {
     "status": "ok",
     "timestamp": 1749369778909,
     "user_tz": -120,
     "elapsed": 84,
     "user": {
      "displayName": "thiha Soe",
      "userId": "00273550437711924402"
     }
    },
    "outputId": "7dd25294-7f2c-4900-e8c7-762df60b7ccd"
   },
   "execution_count": null,
   "outputs": [
    {
     "output_type": "execute_result",
     "data": {
      "text/plain": [
       "                 Model  Test Accuracy  CV Mean Accuracy    CV Std  Precision  \\\n",
       "0          Naive Bayes       0.740293          0.769695  0.046564   0.759084   \n",
       "1  Logistic Regression       0.811903          0.813711  0.033280   0.815747   \n",
       "2        Random Forest       0.781668          0.781312  0.059485   0.805720   \n",
       "\n",
       "     Recall  F1 Score  \n",
       "0  0.740293  0.740625  \n",
       "1  0.811903  0.811866  \n",
       "2  0.781668  0.787130  "
      ],
      "text/html": [
       "\n",
       "  <div id=\"df-c750a3a5-17a2-4a68-b173-ba72e8fae541\" class=\"colab-df-container\">\n",
       "    <div>\n",
       "<style scoped>\n",
       "    .dataframe tbody tr th:only-of-type {\n",
       "        vertical-align: middle;\n",
       "    }\n",
       "\n",
       "    .dataframe tbody tr th {\n",
       "        vertical-align: top;\n",
       "    }\n",
       "\n",
       "    .dataframe thead th {\n",
       "        text-align: right;\n",
       "    }\n",
       "</style>\n",
       "<table border=\"1\" class=\"dataframe\">\n",
       "  <thead>\n",
       "    <tr style=\"text-align: right;\">\n",
       "      <th></th>\n",
       "      <th>Model</th>\n",
       "      <th>Test Accuracy</th>\n",
       "      <th>CV Mean Accuracy</th>\n",
       "      <th>CV Std</th>\n",
       "      <th>Precision</th>\n",
       "      <th>Recall</th>\n",
       "      <th>F1 Score</th>\n",
       "    </tr>\n",
       "  </thead>\n",
       "  <tbody>\n",
       "    <tr>\n",
       "      <th>0</th>\n",
       "      <td>Naive Bayes</td>\n",
       "      <td>0.740293</td>\n",
       "      <td>0.769695</td>\n",
       "      <td>0.046564</td>\n",
       "      <td>0.759084</td>\n",
       "      <td>0.740293</td>\n",
       "      <td>0.740625</td>\n",
       "    </tr>\n",
       "    <tr>\n",
       "      <th>1</th>\n",
       "      <td>Logistic Regression</td>\n",
       "      <td>0.811903</td>\n",
       "      <td>0.813711</td>\n",
       "      <td>0.033280</td>\n",
       "      <td>0.815747</td>\n",
       "      <td>0.811903</td>\n",
       "      <td>0.811866</td>\n",
       "    </tr>\n",
       "    <tr>\n",
       "      <th>2</th>\n",
       "      <td>Random Forest</td>\n",
       "      <td>0.781668</td>\n",
       "      <td>0.781312</td>\n",
       "      <td>0.059485</td>\n",
       "      <td>0.805720</td>\n",
       "      <td>0.781668</td>\n",
       "      <td>0.787130</td>\n",
       "    </tr>\n",
       "  </tbody>\n",
       "</table>\n",
       "</div>\n",
       "    <div class=\"colab-df-buttons\">\n",
       "\n",
       "  <div class=\"colab-df-container\">\n",
       "    <button class=\"colab-df-convert\" onclick=\"convertToInteractive('df-c750a3a5-17a2-4a68-b173-ba72e8fae541')\"\n",
       "            title=\"Convert this dataframe to an interactive table.\"\n",
       "            style=\"display:none;\">\n",
       "\n",
       "  <svg xmlns=\"http://www.w3.org/2000/svg\" height=\"24px\" viewBox=\"0 -960 960 960\">\n",
       "    <path d=\"M120-120v-720h720v720H120Zm60-500h600v-160H180v160Zm220 220h160v-160H400v160Zm0 220h160v-160H400v160ZM180-400h160v-160H180v160Zm440 0h160v-160H620v160ZM180-180h160v-160H180v160Zm440 0h160v-160H620v160Z\"/>\n",
       "  </svg>\n",
       "    </button>\n",
       "\n",
       "  <style>\n",
       "    .colab-df-container {\n",
       "      display:flex;\n",
       "      gap: 12px;\n",
       "    }\n",
       "\n",
       "    .colab-df-convert {\n",
       "      background-color: #E8F0FE;\n",
       "      border: none;\n",
       "      border-radius: 50%;\n",
       "      cursor: pointer;\n",
       "      display: none;\n",
       "      fill: #1967D2;\n",
       "      height: 32px;\n",
       "      padding: 0 0 0 0;\n",
       "      width: 32px;\n",
       "    }\n",
       "\n",
       "    .colab-df-convert:hover {\n",
       "      background-color: #E2EBFA;\n",
       "      box-shadow: 0px 1px 2px rgba(60, 64, 67, 0.3), 0px 1px 3px 1px rgba(60, 64, 67, 0.15);\n",
       "      fill: #174EA6;\n",
       "    }\n",
       "\n",
       "    .colab-df-buttons div {\n",
       "      margin-bottom: 4px;\n",
       "    }\n",
       "\n",
       "    [theme=dark] .colab-df-convert {\n",
       "      background-color: #3B4455;\n",
       "      fill: #D2E3FC;\n",
       "    }\n",
       "\n",
       "    [theme=dark] .colab-df-convert:hover {\n",
       "      background-color: #434B5C;\n",
       "      box-shadow: 0px 1px 3px 1px rgba(0, 0, 0, 0.15);\n",
       "      filter: drop-shadow(0px 1px 2px rgba(0, 0, 0, 0.3));\n",
       "      fill: #FFFFFF;\n",
       "    }\n",
       "  </style>\n",
       "\n",
       "    <script>\n",
       "      const buttonEl =\n",
       "        document.querySelector('#df-c750a3a5-17a2-4a68-b173-ba72e8fae541 button.colab-df-convert');\n",
       "      buttonEl.style.display =\n",
       "        google.colab.kernel.accessAllowed ? 'block' : 'none';\n",
       "\n",
       "      async function convertToInteractive(key) {\n",
       "        const element = document.querySelector('#df-c750a3a5-17a2-4a68-b173-ba72e8fae541');\n",
       "        const dataTable =\n",
       "          await google.colab.kernel.invokeFunction('convertToInteractive',\n",
       "                                                    [key], {});\n",
       "        if (!dataTable) return;\n",
       "\n",
       "        const docLinkHtml = 'Like what you see? Visit the ' +\n",
       "          '<a target=\"_blank\" href=https://colab.research.google.com/notebooks/data_table.ipynb>data table notebook</a>'\n",
       "          + ' to learn more about interactive tables.';\n",
       "        element.innerHTML = '';\n",
       "        dataTable['output_type'] = 'display_data';\n",
       "        await google.colab.output.renderOutput(dataTable, element);\n",
       "        const docLink = document.createElement('div');\n",
       "        docLink.innerHTML = docLinkHtml;\n",
       "        element.appendChild(docLink);\n",
       "      }\n",
       "    </script>\n",
       "  </div>\n",
       "\n",
       "\n",
       "    <div id=\"df-a4312135-2547-4786-a84a-5f356b389bae\">\n",
       "      <button class=\"colab-df-quickchart\" onclick=\"quickchart('df-a4312135-2547-4786-a84a-5f356b389bae')\"\n",
       "                title=\"Suggest charts\"\n",
       "                style=\"display:none;\">\n",
       "\n",
       "<svg xmlns=\"http://www.w3.org/2000/svg\" height=\"24px\"viewBox=\"0 0 24 24\"\n",
       "     width=\"24px\">\n",
       "    <g>\n",
       "        <path d=\"M19 3H5c-1.1 0-2 .9-2 2v14c0 1.1.9 2 2 2h14c1.1 0 2-.9 2-2V5c0-1.1-.9-2-2-2zM9 17H7v-7h2v7zm4 0h-2V7h2v10zm4 0h-2v-4h2v4z\"/>\n",
       "    </g>\n",
       "</svg>\n",
       "      </button>\n",
       "\n",
       "<style>\n",
       "  .colab-df-quickchart {\n",
       "      --bg-color: #E8F0FE;\n",
       "      --fill-color: #1967D2;\n",
       "      --hover-bg-color: #E2EBFA;\n",
       "      --hover-fill-color: #174EA6;\n",
       "      --disabled-fill-color: #AAA;\n",
       "      --disabled-bg-color: #DDD;\n",
       "  }\n",
       "\n",
       "  [theme=dark] .colab-df-quickchart {\n",
       "      --bg-color: #3B4455;\n",
       "      --fill-color: #D2E3FC;\n",
       "      --hover-bg-color: #434B5C;\n",
       "      --hover-fill-color: #FFFFFF;\n",
       "      --disabled-bg-color: #3B4455;\n",
       "      --disabled-fill-color: #666;\n",
       "  }\n",
       "\n",
       "  .colab-df-quickchart {\n",
       "    background-color: var(--bg-color);\n",
       "    border: none;\n",
       "    border-radius: 50%;\n",
       "    cursor: pointer;\n",
       "    display: none;\n",
       "    fill: var(--fill-color);\n",
       "    height: 32px;\n",
       "    padding: 0;\n",
       "    width: 32px;\n",
       "  }\n",
       "\n",
       "  .colab-df-quickchart:hover {\n",
       "    background-color: var(--hover-bg-color);\n",
       "    box-shadow: 0 1px 2px rgba(60, 64, 67, 0.3), 0 1px 3px 1px rgba(60, 64, 67, 0.15);\n",
       "    fill: var(--button-hover-fill-color);\n",
       "  }\n",
       "\n",
       "  .colab-df-quickchart-complete:disabled,\n",
       "  .colab-df-quickchart-complete:disabled:hover {\n",
       "    background-color: var(--disabled-bg-color);\n",
       "    fill: var(--disabled-fill-color);\n",
       "    box-shadow: none;\n",
       "  }\n",
       "\n",
       "  .colab-df-spinner {\n",
       "    border: 2px solid var(--fill-color);\n",
       "    border-color: transparent;\n",
       "    border-bottom-color: var(--fill-color);\n",
       "    animation:\n",
       "      spin 1s steps(1) infinite;\n",
       "  }\n",
       "\n",
       "  @keyframes spin {\n",
       "    0% {\n",
       "      border-color: transparent;\n",
       "      border-bottom-color: var(--fill-color);\n",
       "      border-left-color: var(--fill-color);\n",
       "    }\n",
       "    20% {\n",
       "      border-color: transparent;\n",
       "      border-left-color: var(--fill-color);\n",
       "      border-top-color: var(--fill-color);\n",
       "    }\n",
       "    30% {\n",
       "      border-color: transparent;\n",
       "      border-left-color: var(--fill-color);\n",
       "      border-top-color: var(--fill-color);\n",
       "      border-right-color: var(--fill-color);\n",
       "    }\n",
       "    40% {\n",
       "      border-color: transparent;\n",
       "      border-right-color: var(--fill-color);\n",
       "      border-top-color: var(--fill-color);\n",
       "    }\n",
       "    60% {\n",
       "      border-color: transparent;\n",
       "      border-right-color: var(--fill-color);\n",
       "    }\n",
       "    80% {\n",
       "      border-color: transparent;\n",
       "      border-right-color: var(--fill-color);\n",
       "      border-bottom-color: var(--fill-color);\n",
       "    }\n",
       "    90% {\n",
       "      border-color: transparent;\n",
       "      border-bottom-color: var(--fill-color);\n",
       "    }\n",
       "  }\n",
       "</style>\n",
       "\n",
       "      <script>\n",
       "        async function quickchart(key) {\n",
       "          const quickchartButtonEl =\n",
       "            document.querySelector('#' + key + ' button');\n",
       "          quickchartButtonEl.disabled = true;  // To prevent multiple clicks.\n",
       "          quickchartButtonEl.classList.add('colab-df-spinner');\n",
       "          try {\n",
       "            const charts = await google.colab.kernel.invokeFunction(\n",
       "                'suggestCharts', [key], {});\n",
       "          } catch (error) {\n",
       "            console.error('Error during call to suggestCharts:', error);\n",
       "          }\n",
       "          quickchartButtonEl.classList.remove('colab-df-spinner');\n",
       "          quickchartButtonEl.classList.add('colab-df-quickchart-complete');\n",
       "        }\n",
       "        (() => {\n",
       "          let quickchartButtonEl =\n",
       "            document.querySelector('#df-a4312135-2547-4786-a84a-5f356b389bae button');\n",
       "          quickchartButtonEl.style.display =\n",
       "            google.colab.kernel.accessAllowed ? 'block' : 'none';\n",
       "        })();\n",
       "      </script>\n",
       "    </div>\n",
       "\n",
       "  <div id=\"id_cb4ce65b-d616-4905-908e-0c72e7437138\">\n",
       "    <style>\n",
       "      .colab-df-generate {\n",
       "        background-color: #E8F0FE;\n",
       "        border: none;\n",
       "        border-radius: 50%;\n",
       "        cursor: pointer;\n",
       "        display: none;\n",
       "        fill: #1967D2;\n",
       "        height: 32px;\n",
       "        padding: 0 0 0 0;\n",
       "        width: 32px;\n",
       "      }\n",
       "\n",
       "      .colab-df-generate:hover {\n",
       "        background-color: #E2EBFA;\n",
       "        box-shadow: 0px 1px 2px rgba(60, 64, 67, 0.3), 0px 1px 3px 1px rgba(60, 64, 67, 0.15);\n",
       "        fill: #174EA6;\n",
       "      }\n",
       "\n",
       "      [theme=dark] .colab-df-generate {\n",
       "        background-color: #3B4455;\n",
       "        fill: #D2E3FC;\n",
       "      }\n",
       "\n",
       "      [theme=dark] .colab-df-generate:hover {\n",
       "        background-color: #434B5C;\n",
       "        box-shadow: 0px 1px 3px 1px rgba(0, 0, 0, 0.15);\n",
       "        filter: drop-shadow(0px 1px 2px rgba(0, 0, 0, 0.3));\n",
       "        fill: #FFFFFF;\n",
       "      }\n",
       "    </style>\n",
       "    <button class=\"colab-df-generate\" onclick=\"generateWithVariable('results_df')\"\n",
       "            title=\"Generate code using this dataframe.\"\n",
       "            style=\"display:none;\">\n",
       "\n",
       "  <svg xmlns=\"http://www.w3.org/2000/svg\" height=\"24px\"viewBox=\"0 0 24 24\"\n",
       "       width=\"24px\">\n",
       "    <path d=\"M7,19H8.4L18.45,9,17,7.55,7,17.6ZM5,21V16.75L18.45,3.32a2,2,0,0,1,2.83,0l1.4,1.43a1.91,1.91,0,0,1,.58,1.4,1.91,1.91,0,0,1-.58,1.4L9.25,21ZM18.45,9,17,7.55Zm-12,3A5.31,5.31,0,0,0,4.9,8.1,5.31,5.31,0,0,0,1,6.5,5.31,5.31,0,0,0,4.9,4.9,5.31,5.31,0,0,0,6.5,1,5.31,5.31,0,0,0,8.1,4.9,5.31,5.31,0,0,0,12,6.5,5.46,5.46,0,0,0,6.5,12Z\"/>\n",
       "  </svg>\n",
       "    </button>\n",
       "    <script>\n",
       "      (() => {\n",
       "      const buttonEl =\n",
       "        document.querySelector('#id_cb4ce65b-d616-4905-908e-0c72e7437138 button.colab-df-generate');\n",
       "      buttonEl.style.display =\n",
       "        google.colab.kernel.accessAllowed ? 'block' : 'none';\n",
       "\n",
       "      buttonEl.onclick = () => {\n",
       "        google.colab.notebook.generateWithVariable('results_df');\n",
       "      }\n",
       "      })();\n",
       "    </script>\n",
       "  </div>\n",
       "\n",
       "    </div>\n",
       "  </div>\n"
      ],
      "application/vnd.google.colaboratory.intrinsic+json": {
       "type": "dataframe",
       "variable_name": "results_df",
       "summary": "{\n  \"name\": \"results_df\",\n  \"rows\": 3,\n  \"fields\": [\n    {\n      \"column\": \"Model\",\n      \"properties\": {\n        \"dtype\": \"string\",\n        \"num_unique_values\": 3,\n        \"samples\": [\n          \"Naive Bayes\",\n          \"Logistic Regression\",\n          \"Random Forest\"\n        ],\n        \"semantic_type\": \"\",\n        \"description\": \"\"\n      }\n    },\n    {\n      \"column\": \"Test Accuracy\",\n      \"properties\": {\n        \"dtype\": \"number\",\n        \"std\": 0.03594932924858352,\n        \"min\": 0.7402928071292171,\n        \"max\": 0.8119032463399108,\n        \"num_unique_values\": 3,\n        \"samples\": [\n          0.7402928071292171,\n          0.8119032463399108,\n          0.7816677275620624\n        ],\n        \"semantic_type\": \"\",\n        \"description\": \"\"\n      }\n    },\n    {\n      \"column\": \"CV Mean Accuracy\",\n      \"properties\": {\n        \"dtype\": \"number\",\n        \"std\": 0.022810625326781804,\n        \"min\": 0.7696953674861975,\n        \"max\": 0.8137105703765858,\n        \"num_unique_values\": 3,\n        \"samples\": [\n          0.7696953674861975,\n          0.8137105703765858,\n          0.781312092198174\n        ],\n        \"semantic_type\": \"\",\n        \"description\": \"\"\n      }\n    },\n    {\n      \"column\": \"CV Std\",\n      \"properties\": {\n        \"dtype\": \"number\",\n        \"std\": 0.013103016367365642,\n        \"min\": 0.03327990790659847,\n        \"max\": 0.05948510038799629,\n        \"num_unique_values\": 3,\n        \"samples\": [\n          0.04656424305348986,\n          0.03327990790659847,\n          0.05948510038799629\n        ],\n        \"semantic_type\": \"\",\n        \"description\": \"\"\n      }\n    },\n    {\n      \"column\": \"Precision\",\n      \"properties\": {\n        \"dtype\": \"number\",\n        \"std\": 0.030238364906777133,\n        \"min\": 0.7590837132593938,\n        \"max\": 0.8157466336903915,\n        \"num_unique_values\": 3,\n        \"samples\": [\n          0.7590837132593938,\n          0.8157466336903915,\n          0.8057198510978134\n        ],\n        \"semantic_type\": \"\",\n        \"description\": \"\"\n      }\n    },\n    {\n      \"column\": \"Recall\",\n      \"properties\": {\n        \"dtype\": \"number\",\n        \"std\": 0.03594932924858352,\n        \"min\": 0.7402928071292171,\n        \"max\": 0.8119032463399108,\n        \"num_unique_values\": 3,\n        \"samples\": [\n          0.7402928071292171,\n          0.8119032463399108,\n          0.7816677275620624\n        ],\n        \"semantic_type\": \"\",\n        \"description\": \"\"\n      }\n    },\n    {\n      \"column\": \"F1 Score\",\n      \"properties\": {\n        \"dtype\": \"number\",\n        \"std\": 0.036170623417311504,\n        \"min\": 0.7406249807890211,\n        \"max\": 0.8118660633228647,\n        \"num_unique_values\": 3,\n        \"samples\": [\n          0.7406249807890211,\n          0.8118660633228647,\n          0.7871300576337913\n        ],\n        \"semantic_type\": \"\",\n        \"description\": \"\"\n      }\n    }\n  ]\n}"
      }
     },
     "metadata": {},
     "execution_count": 31
    }
   ]
  },
  {
   "cell_type": "code",
   "source": [
    "# ROC-AUC curves\n",
    "plt.figure(figsize=(10, 8))\n",
    "\n",
    "# Binarize the labels for multi-class ROC\n",
    "y_test_bin = label_binarize(preprocessed_df_test_Y, classes=models['Naive Bayes'].classes_)\n",
    "n_classes = y_test_bin.shape[1]\n",
    "\n",
    "for name, model in models.items():\n",
    "    y_score = model.predict_proba(preprocessed_df_test_Xtfidf)\n",
    "\n",
    "    # Compute micro-average ROC curve and area\n",
    "    fpr, tpr, _ = roc_curve(y_test_bin.ravel(), y_score.ravel())\n",
    "    roc_auc = auc(fpr, tpr)\n",
    "\n",
    "    plt.plot(fpr, tpr, label='%s (AUC = %0.2f)' % (name, roc_auc), linewidth=2)\n",
    "\n",
    "plt.plot([0, 1], [0, 1], 'k--', linewidth=2)\n",
    "plt.xlim([0.0, 1.0])\n",
    "plt.ylim([0.0, 1.05])\n",
    "plt.xlabel('False Positive Rate')\n",
    "plt.ylabel('True Positive Rate')\n",
    "plt.title('Multi-class ROC Curve Comparison')\n",
    "plt.legend(loc=\"lower right\")\n",
    "plt.show()"
   ],
   "metadata": {
    "colab": {
     "base_uri": "https://localhost:8080/",
     "height": 718
    },
    "id": "a7Tkvuogv7ce",
    "executionInfo": {
     "status": "ok",
     "timestamp": 1749372894047,
     "user_tz": -120,
     "elapsed": 633,
     "user": {
      "displayName": "thiha Soe",
      "userId": "00273550437711924402"
     }
    },
    "outputId": "a1632f48-1f3d-4b7e-ed2c-e2a57c5fe438"
   },
   "execution_count": null,
   "outputs": [
    {
     "output_type": "display_data",
     "data": {
      "text/plain": [
       "<Figure size 1000x800 with 1 Axes>"
      ],
      "image/png": "[encoded data removed]"
     },
     "metadata": {}
    }
   ]
  },
  {
   "cell_type": "code",
   "source": [
    "# Hyperparameter tuning for best model (Random Forest in this case)\n",
    "print(\"\\nPerforming hyperparameter tuning for Random Forest...\")\n",
    "\n",
    "param_grid = {\n",
    "    'n_estimators': [100, 200],\n",
    "    'max_depth': [None, 10, 20],\n",
    "    'min_samples_split': [2, 5]\n",
    "}\n",
    "\n",
    "rf = RandomForestClassifier(random_state=42)\n",
    "grid_search = GridSearchCV(rf, param_grid, cv=5, scoring='accuracy', n_jobs=-1)\n",
    "grid_search.fit(preprocessed_df_train_Xtfidf, preprocessed_df_train_Y)\n",
    "\n",
    "print(\"Best parameters:\", grid_search.best_params_)\n",
    "print(\"Best score:\", grid_search.best_score_)\n",
    "\n",
    "# Train best model\n",
    "best_rf = grid_search.best_estimator_\n",
    "best_rf.fit(preprocessed_df_train_Xtfidf, preprocessed_df_train_Y)\n",
    "\n",
    "# Evaluate best model\n",
    "y_pred_best = best_rf.predict(preprocessed_df_test_Xtfidf)\n",
    "print(\"\\nBest Random Forest Classification Report:\")\n",
    "print(classification_report(preprocessed_df_test_Y, y_pred_best))"
   ],
   "metadata": {
    "colab": {
     "base_uri": "https://localhost:8080/"
    },
    "id": "j5TSPPz1Pwta",
    "executionInfo": {
     "status": "ok",
     "timestamp": 1749373053577,
     "user_tz": -120,
     "elapsed": 121761,
     "user": {
      "displayName": "thiha Soe",
      "userId": "00273550437711924402"
     }
    },
    "outputId": "03124d66-6433-4c2d-97ef-56d85aeb87d1"
   },
   "execution_count": null,
   "outputs": [
    {
     "output_type": "stream",
     "name": "stdout",
     "text": [
      "\n",
      "Performing hyperparameter tuning for Random Forest...\n",
      "Best parameters: {'max_depth': None, 'min_samples_split': 5, 'n_estimators': 200}\n",
      "Best score: 0.805951655728095\n",
      "\n",
      "Best Random Forest Classification Report:\n",
      "              precision    recall  f1-score   support\n",
      "\n",
      "       anger       0.87      0.76      0.81       760\n",
      "        fear       0.79      0.82      0.80       995\n",
      "         joy       0.90      0.85      0.87       714\n",
      "     sadness       0.69      0.79      0.74       673\n",
      "\n",
      "    accuracy                           0.80      3142\n",
      "   macro avg       0.81      0.80      0.81      3142\n",
      "weighted avg       0.81      0.80      0.81      3142\n",
      "\n"
     ]
    }
   ]
  },
  {
   "cell_type": "code",
   "source": [
    "# Feature importance for Random Forest\n",
    "print(\"\\nTop important features from Random Forest:\")\n",
    "feature_names = tfidf.get_feature_names_out()\n",
    "importances = best_rf.feature_importances_\n",
    "indices = np.argsort(importances)[-20:]  # top 20 features\n",
    "\n",
    "plt.figure(figsize=(10, 8))\n",
    "plt.title('Top 20 Important Features')\n",
    "plt.barh(range(len(indices)), importances[indices], color='b', align='center')\n",
    "plt.yticks(range(len(indices)), [feature_names[i] for i in indices])\n",
    "plt.xlabel('Relative Importance')\n",
    "plt.show()"
   ],
   "metadata": {
    "colab": {
     "base_uri": "https://localhost:8080/",
     "height": 753
    },
    "id": "fFrDGJj_QGnf",
    "executionInfo": {
     "status": "ok",
     "timestamp": 1749373211581,
     "user_tz": -120,
     "elapsed": 725,
     "user": {
      "displayName": "thiha Soe",
      "userId": "00273550437711924402"
     }
    },
    "outputId": "259d9cbf-ccf0-426e-e07c-c98a1e9bfd42"
   },
   "execution_count": null,
   "outputs": [
    {
     "output_type": "stream",
     "name": "stdout",
     "text": [
      "\n",
      "Top important features from Random Forest:\n"
     ]
    },
    {
     "output_type": "display_data",
     "data": {
      "text/plain": [
       "<Figure size 1000x800 with 1 Axes>"
      ],
      "image/png": "[encoded data removed]"
     },
     "metadata": {}
    }
   ]
  },
  {
   "cell_type": "code",
   "source": [
    "# Error analysis\n",
    "print(\"\\nError Analysis - Sample misclassified examples:\")\n",
    "y_pred_rf = best_rf.predict(preprocessed_df_test_Xtfidf)\n",
    "wrong_idx = np.where(y_pred_rf != preprocessed_df_test_Y)[0]\n",
    "\n",
    "for i in wrong_idx[:5]:\n",
    "    print(f\"Text: {preprocessed_df_test_X.iloc[i]}\")\n",
    "    print(f\"True: {preprocessed_df_test_Y.iloc[i]}, Predicted: {y_pred_rf[i]}\\n\")\n"
   ],
   "metadata": {
    "colab": {
     "base_uri": "https://localhost:8080/"
    },
    "id": "564d5Xd8QXub",
    "executionInfo": {
     "status": "ok",
     "timestamp": 1749373232190,
     "user_tz": -120,
     "elapsed": 423,
     "user": {
      "displayName": "thiha Soe",
      "userId": "00273550437711924402"
     }
    },
    "outputId": "8d624985-ad52-47d4-dfab-0b0097fb38d3"
   },
   "execution_count": null,
   "outputs": [
    {
     "output_type": "stream",
     "name": "stdout",
     "text": [
      "\n",
      "Error Analysis - Sample misclassified examples:\n",
      "Text: the race advances extra achievements individual you individual charles towne n inspire\n",
      "True: joy, Predicted: fear\n",
      "\n",
      "Text: twd comes soo\n",
      "True: joy, Predicted: sadness\n",
      "\n",
      "Text: sometimes talk sadness other times want distracted friends laughter shopping eating n n mhchat\n",
      "True: joy, Predicted: sadness\n",
      "\n",
      "Text: sometimes im sad remember margaret thatcher dead rejoice\n",
      "True: joy, Predicted: sadness\n",
      "\n",
      "Text: brown nosing listened lots housing ministers gavinbarwellmp nhf impressed\n",
      "True: joy, Predicted: sadness\n",
      "\n"
     ]
    }
   ]
  },
  {
   "cell_type": "code",
   "source": [
    "### Fine-tuned BERT transformer"
   ],
   "metadata": {
    "id": "1_URdPXkyFJR"
   },
   "execution_count": null,
   "outputs": []
  },
  {
   "cell_type": "code",
   "source": [
    "!pip install -q transformers datasets evaluate"
   ],
   "metadata": {
    "colab": {
     "base_uri": "https://localhost:8080/"
    },
    "id": "dTo30K7xyfAJ",
    "executionInfo": {
     "status": "ok",
     "timestamp": 1749473958422,
     "user_tz": -120,
     "elapsed": 2877,
     "user": {
      "displayName": "thiha Soe",
      "userId": "00273550437711924402"
     }
    },
    "outputId": "e272b7c4-695f-4027-c57b-a4b4b41bdc94"
   },
   "execution_count": 4,
   "outputs": [
    {
     "output_type": "stream",
     "name": "stdout",
     "text": [
      "\u001b[?25l   \u001b[90m\u2501\u2501\u2501\u2501\u2501\u2501\u2501\u2501\u2501\u2501\u2501\u2501\u2501\u2501\u2501\u2501\u2501\u2501\u2501\u2501\u2501\u2501\u2501\u2501\u2501\u2501\u2501\u2501\u2501\u2501\u2501\u2501\u2501\u2501\u2501\u2501\u2501\u2501\u2501\u2501\u001b[0m \u001b[32m0.0/84.0 kB\u001b[0m \u001b[31m?\u001b[0m eta \u001b[36m-:--:--\u001b[0m\r\u001b[2K   \u001b[90m\u2501\u2501\u2501\u2501\u2501\u2501\u2501\u2501\u2501\u2501\u2501\u2501\u2501\u2501\u2501\u2501\u2501\u2501\u2501\u2501\u2501\u2501\u2501\u2501\u2501\u2501\u2501\u2501\u2501\u2501\u2501\u2501\u2501\u2501\u2501\u2501\u2501\u2501\u2501\u2501\u001b[0m \u001b[32m84.0/84.0 kB\u001b[0m \u001b[31m5.4 MB/s\u001b[0m eta \u001b[36m0:00:00\u001b[0m\n",
      "\u001b[?25h"
     ]
    }
   ]
  },
  {
   "cell_type": "code",
   "source": [
    "from datasets import Dataset, DatasetDict\n",
    "from transformers import (\n",
    "    AutoTokenizer,\n",
    "    AutoModelForSequenceClassification,\n",
    "    TrainingArguments,\n",
    "    Trainer,\n",
    "    DataCollatorWithPadding\n",
    ")\n",
    "import evaluate\n",
    "import torch\n",
    "from sklearn.preprocessing import LabelEncoder"
   ],
   "metadata": {
    "id": "BCFWDY9IyKjr",
    "executionInfo": {
     "status": "ok",
     "timestamp": 1749473995302,
     "user_tz": -120,
     "elapsed": 34030,
     "user": {
      "displayName": "thiha Soe",
      "userId": "00273550437711924402"
     }
    }
   },
   "execution_count": 5,
   "outputs": []
  },
  {
   "cell_type": "code",
   "source": [
    "# Verify column names\n",
    "print(\"Column names in train data:\", df_train.columns.tolist())"
   ],
   "metadata": {
    "colab": {
     "base_uri": "https://localhost:8080/"
    },
    "id": "I3wmqbleyUS1",
    "executionInfo": {
     "status": "ok",
     "timestamp": 1749473995309,
     "user_tz": -120,
     "elapsed": 10,
     "user": {
      "displayName": "thiha Soe",
      "userId": "00273550437711924402"
     }
    },
    "outputId": "a8535629-521d-4b87-f329-ba3a801984a4"
   },
   "execution_count": 6,
   "outputs": [
    {
     "output_type": "stream",
     "name": "stdout",
     "text": [
      "Column names in train data: ['text', 'label']\n"
     ]
    }
   ]
  },
  {
   "cell_type": "code",
   "source": [
    "# Encode labels numerically (handles both string and numeric labels)\n",
    "label_encoder = LabelEncoder()\n",
    "df_train['label'] = label_encoder.fit_transform(df_train['label'])\n",
    "df_test['label'] = label_encoder.transform(df_test['label'])\n",
    "df_val['label'] = label_encoder.transform(df_val['label'])\n",
    "\n",
    "df_train['label']"
   ],
   "metadata": {
    "colab": {
     "base_uri": "https://localhost:8080/",
     "height": 458
    },
    "id": "lAEJBfQjyuDh",
    "executionInfo": {
     "status": "ok",
     "timestamp": 1749473995314,
     "user_tz": -120,
     "elapsed": 12,
     "user": {
      "displayName": "thiha Soe",
      "userId": "00273550437711924402"
     }
    },
    "outputId": "a43d5073-a9ce-4b84-9bd7-67b4cbea386d"
   },
   "execution_count": 7,
   "outputs": [
    {
     "output_type": "execute_result",
     "data": {
      "text/plain": [
       "0       2\n",
       "1       2\n",
       "2       2\n",
       "3       2\n",
       "4       2\n",
       "       ..\n",
       "3608    3\n",
       "3609    3\n",
       "3610    3\n",
       "3611    3\n",
       "3612    3\n",
       "Name: label, Length: 3613, dtype: int64"
      ],
      "text/html": [
       "<div>\n",
       "<style scoped>\n",
       "    .dataframe tbody tr th:only-of-type {\n",
       "        vertical-align: middle;\n",
       "    }\n",
       "\n",
       "    .dataframe tbody tr th {\n",
       "        vertical-align: top;\n",
       "    }\n",
       "\n",
       "    .dataframe thead th {\n",
       "        text-align: right;\n",
       "    }\n",
       "</style>\n",
       "<table border=\"1\" class=\"dataframe\">\n",
       "  <thead>\n",
       "    <tr style=\"text-align: right;\">\n",
       "      <th></th>\n",
       "      <th>label</th>\n",
       "    </tr>\n",
       "  </thead>\n",
       "  <tbody>\n",
       "    <tr>\n",
       "      <th>0</th>\n",
       "      <td>2</td>\n",
       "    </tr>\n",
       "    <tr>\n",
       "      <th>1</th>\n",
       "      <td>2</td>\n",
       "    </tr>\n",
       "    <tr>\n",
       "      <th>2</th>\n",
       "      <td>2</td>\n",
       "    </tr>\n",
       "    <tr>\n",
       "      <th>3</th>\n",
       "      <td>2</td>\n",
       "    </tr>\n",
       "    <tr>\n",
       "      <th>4</th>\n",
       "      <td>2</td>\n",
       "    </tr>\n",
       "    <tr>\n",
       "      <th>...</th>\n",
       "      <td>...</td>\n",
       "    </tr>\n",
       "    <tr>\n",
       "      <th>3608</th>\n",
       "      <td>3</td>\n",
       "    </tr>\n",
       "    <tr>\n",
       "      <th>3609</th>\n",
       "      <td>3</td>\n",
       "    </tr>\n",
       "    <tr>\n",
       "      <th>3610</th>\n",
       "      <td>3</td>\n",
       "    </tr>\n",
       "    <tr>\n",
       "      <th>3611</th>\n",
       "      <td>3</td>\n",
       "    </tr>\n",
       "    <tr>\n",
       "      <th>3612</th>\n",
       "      <td>3</td>\n",
       "    </tr>\n",
       "  </tbody>\n",
       "</table>\n",
       "<p>3613 rows \u00d7 1 columns</p>\n",
       "</div><br><label><b>dtype:</b> int64</label>"
      ]
     },
     "metadata": {},
     "execution_count": 7
    }
   ]
  },
  {
   "cell_type": "code",
   "source": [
    "# Convert to Hugging Face Dataset format\n",
    "dataset_dict = DatasetDict({\n",
    "    \"train\": Dataset.from_pandas(df_train),\n",
    "    \"test\": Dataset.from_pandas(df_test),\n",
    "    \"validation\": Dataset.from_pandas(df_val)\n",
    "})\n",
    "\n",
    "print(\"\\nDataset loaded:\")\n",
    "print(f\"Train samples: {len(dataset_dict['train'])}\")\n",
    "print(f\"Test samples: {len(dataset_dict['test'])}\")\n",
    "print(f\"Validation samples: {len(dataset_dict['validation'])}\")"
   ],
   "metadata": {
    "colab": {
     "base_uri": "https://localhost:8080/"
    },
    "id": "WK8oeuXLy3SH",
    "executionInfo": {
     "status": "ok",
     "timestamp": 1749473995423,
     "user_tz": -120,
     "elapsed": 109,
     "user": {
      "displayName": "thiha Soe",
      "userId": "00273550437711924402"
     }
    },
    "outputId": "c9557bab-d76e-47c7-f53b-3a675630eed6"
   },
   "execution_count": 8,
   "outputs": [
    {
     "output_type": "stream",
     "name": "stdout",
     "text": [
      "\n",
      "Dataset loaded:\n",
      "Train samples: 3613\n",
      "Test samples: 3142\n",
      "Validation samples: 347\n"
     ]
    }
   ]
  },
  {
   "cell_type": "code",
   "source": [
    "# Initialize tokenizer\n",
    "model_name = \"bert-base-uncased\"\n",
    "tokenizer = AutoTokenizer.from_pretrained(model_name)\n",
    "\n",
    "# Create label mappings\n",
    "num_labels = len(label_encoder.classes_)\n",
    "id2label = {i: label for i, label in enumerate(label_encoder.classes_)}\n",
    "label2id = {label: i for i, label in enumerate(label_encoder.classes_)}\n",
    "\n",
    "print(\"\\nLabel mappings:\")\n",
    "print(id2label)"
   ],
   "metadata": {
    "colab": {
     "base_uri": "https://localhost:8080/",
     "height": 321,
     "referenced_widgets": [
      "78cc224a14ab4a609a1531eb6c6d549d",
      "dd6eb301755243b7a1cbb8f15a073e3d",
      "7fc3dc34408746ab884405b6b52885f5",
      "711a7bf4cd404f5399fb76538fae3cda",
      "b0392ae772784e6193c1d6d6ee2d5f42",
      "60292d3bd5954f86b42e02a519267eeb",
      "b8374561ee6040feac09bf68c57bf4c2",
      "00b2a5a0ec5a41a9bda708dae95776a0",
      "14245f4411f54113a35b3973201eb939",
      "358769188e3044c093767600beb2ba85",
      "9543d3fbf56e4b46af7d630dc2a14c9b",
      "22f9025c511d47a58b8eb3b81e9c735d",
      "f551f467c56746258f9cd11251cf4fce",
      "3963efa76a2c4017991c39a7a6f31c8a",
      "aa82bf24878d4b47ad540fefb2cf8e37",
      "f002eeae93124d4884814f733cbb4474",
      "18a0788de33b46dfaf12f4705eb1541a",
      "2fa5c6f1bfd64efcab2078f8fd92af75",
      "904c874b33444de2b91eaabc4f591beb",
      "b286652645004049a591620a1fdc1edc",
      "0ddc2647f6944705bbbe7f4ffb642b74",
      "b5f2329c26d24b9ba1a949cf0aa3b457",
      "02e5c62a6e1446dd83b2d21fa6a2dbfe",
      "64de1d07283e429d931733f10e73488b",
      "99dbc3af751440d1b29dc8327b2afbea",
      "b5c0c0a88c2c4d77adad6cbcea862f18",
      "d206b105e6134a3c8e97215f5b103b31",
      "77d410935dde4ee79f9102dfba76f696",
      "23eaddbf469c4639b2ad4ed3dae8b30e",
      "b3318166134241ceb74dad7291202eea",
      "fc06744bbec64599afefd2c9e5b15781",
      "154d9158682d4922a73ae175c971d435",
      "9510ebbafbbd4956a26744dbc43de14c",
      "afac7d6a618b474c87f619075abf3ea4",
      "df37fffcc57445cdaa10ff6edc60d0d5",
      "b50b0f7901b84050953f0d0b5893c3da",
      "7c821568c28647e3883ffd57298c650b",
      "3b471abf8364462d8b39de6b41e75b8d",
      "cb3315377c2047f5a9c60695fb83ae68",
      "f3b15ad74171400e81f04412ed8639eb",
      "6cb1ebfbae7b4e6593a9a0c8a4de1f03",
      "acdf97937b234201abc685dd8903d9dc",
      "c9009a08826e452ea86c99a05fe337af",
      "da7ce0a7318c40d9869b2be331fcbfbd"
     ]
    },
    "id": "KokS8W96zbf5",
    "executionInfo": {
     "status": "ok",
     "timestamp": 1749473998337,
     "user_tz": -120,
     "elapsed": 2915,
     "user": {
      "displayName": "thiha Soe",
      "userId": "00273550437711924402"
     }
    },
    "outputId": "3a54326a-06fc-4ecb-963b-18e693e3d34a"
   },
   "execution_count": 9,
   "outputs": [
    {
     "output_type": "stream",
     "name": "stderr",
     "text": [
      "/usr/local/lib/python3.11/dist-packages/huggingface_hub/utils/_auth.py:94: UserWarning: \n",
      "The secret `HF_TOKEN` does not exist in your Colab secrets.\n",
      "To authenticate with the Hugging Face Hub, create a token in your settings tab (https://huggingface.co/settings/tokens), set it as secret in your Google Colab and restart your session.\n",
      "You will be able to reuse this secret in all of your notebooks.\n",
      "Please note that authentication is recommended but still optional to access public models or datasets.\n",
      "  warnings.warn(\n"
     ]
    },
    {
     "output_type": "display_data",
     "data": {
      "text/plain": [
       "tokenizer_config.json:   0%|          | 0.00/48.0 [00:00<?, ?B/s]"
      ],
      "application/vnd.jupyter.widget-view+json": {
       "version_major": 2,
       "version_minor": 0,
       "model_id": "78cc224a14ab4a609a1531eb6c6d549d"
      }
     },
     "metadata": {}
    },
    {
     "output_type": "display_data",
     "data": {
      "text/plain": [
       "config.json:   0%|          | 0.00/570 [00:00<?, ?B/s]"
      ],
      "application/vnd.jupyter.widget-view+json": {
       "version_major": 2,
       "version_minor": 0,
       "model_id": "22f9025c511d47a58b8eb3b81e9c735d"
      }
     },
     "metadata": {}
    },
    {
     "output_type": "display_data",
     "data": {
      "text/plain": [
       "vocab.txt:   0%|          | 0.00/232k [00:00<?, ?B/s]"
      ],
      "application/vnd.jupyter.widget-view+json": {
       "version_major": 2,
       "version_minor": 0,
       "model_id": "02e5c62a6e1446dd83b2d21fa6a2dbfe"
      }
     },
     "metadata": {}
    },
    {
     "output_type": "display_data",
     "data": {
      "text/plain": [
       "tokenizer.json:   0%|          | 0.00/466k [00:00<?, ?B/s]"
      ],
      "application/vnd.jupyter.widget-view+json": {
       "version_major": 2,
       "version_minor": 0,
       "model_id": "afac7d6a618b474c87f619075abf3ea4"
      }
     },
     "metadata": {}
    },
    {
     "output_type": "stream",
     "name": "stdout",
     "text": [
      "\n",
      "Label mappings:\n",
      "{0: 'anger', 1: 'fear', 2: 'joy', 3: 'sadness'}\n"
     ]
    }
   ]
  },
  {
   "cell_type": "code",
   "source": [
    "# Tokenization function with proper settings\n",
    "def tokenize_function(examples):\n",
    "    tokenized = tokenizer(\n",
    "        examples[\"text\"],\n",
    "        padding=\"max_length\",\n",
    "        truncation=True,\n",
    "        max_length=128,\n",
    "        return_tensors=\"pt\"  # Return PyTorch tensors directly\n",
    "    )\n",
    "    return tokenized\n",
    "\n",
    "# Tokenize all datasets\n",
    "tokenized_datasets = dataset_dict.map(\n",
    "    tokenize_function,\n",
    "    batched=True,\n",
    "    remove_columns=[\"text\"]  # Remove text column after tokenization\n",
    ")"
   ],
   "metadata": {
    "colab": {
     "base_uri": "https://localhost:8080/",
     "height": 113,
     "referenced_widgets": [
      "ae6ddf6c23b04f969119e42e7a13c6fd",
      "a846966829d040e9aa359fa65d8bdbff",
      "bcca79737f2a47e99645daf79495cbcc",
      "a9a5088d988f46b4b6f3691437c718af",
      "b2490d00285f4d439ce5acdc4ddc27d0",
      "c234b74052c344c898cdd21c143fb8b1",
      "fa4d8f0248aa4edcbb126ca7741cfd15",
      "f12a629379cb4c08980d300b0f1eead4",
      "5d0d39c10efa43a1a02c8e702e18f6e1",
      "31984a9897d5496ab35f1e7440ec1fc3",
      "f62b1caa387a4daba520d5bb3978c10b",
      "822b6526346c419c99f47ab4da5aa9b9",
      "d74a98e2345e4c238bf90eeeb69174d8",
      "f5cf8a87848e49e89e329bae83ffe8a6",
      "51f172ad8ecd44d2b63cb9f790ad9a04",
      "ed97f3a0feea45aaa3978171b7414fea",
      "02539e1990a9423fa0642f0ce98c9b26",
      "26471947cd19448a81c7a3418c4e6352",
      "f4b6a485a2d5401a93ff93e0c1ad70d8",
      "6626b4c9366447e4bb7a7ca9874b93ad",
      "06635b8082f2449e8da69dc641097d0a",
      "701cc072b71749b993d5fd1e5142ad5c",
      "600ec0c827dd47299e35aae1fe7710fb",
      "3beca9a371004f9697558689833c2672",
      "936b7dcdaa6a4f34b18a06069d3585ee",
      "d96aa70d83e844b8b8f76aa5369c81fd",
      "2e0ae22ed3b94a3b99fff692e31d4707",
      "768e98960a8945f3a75f225d8a029f32",
      "9cd5f807fefb4243b32f59a9d3155e91",
      "105b1cb669fd44e7a25f13c65bd187a4",
      "e5ef868b70c14781947865b61455dae0",
      "0129bce8bb8146d8bfed301878ff6926",
      "709e92c4db774667ac4a8bc74f5084ad"
     ]
    },
    "id": "qG03FI3mz-ld",
    "executionInfo": {
     "status": "ok",
     "timestamp": 1749474002678,
     "user_tz": -120,
     "elapsed": 4384,
     "user": {
      "displayName": "thiha Soe",
      "userId": "00273550437711924402"
     }
    },
    "outputId": "b1558520-b429-4e7e-e198-000613cb527c"
   },
   "execution_count": 10,
   "outputs": [
    {
     "output_type": "display_data",
     "data": {
      "text/plain": [
       "Map:   0%|          | 0/3613 [00:00<?, ? examples/s]"
      ],
      "application/vnd.jupyter.widget-view+json": {
       "version_major": 2,
       "version_minor": 0,
       "model_id": "ae6ddf6c23b04f969119e42e7a13c6fd"
      }
     },
     "metadata": {}
    },
    {
     "output_type": "display_data",
     "data": {
      "text/plain": [
       "Map:   0%|          | 0/3142 [00:00<?, ? examples/s]"
      ],
      "application/vnd.jupyter.widget-view+json": {
       "version_major": 2,
       "version_minor": 0,
       "model_id": "822b6526346c419c99f47ab4da5aa9b9"
      }
     },
     "metadata": {}
    },
    {
     "output_type": "display_data",
     "data": {
      "text/plain": [
       "Map:   0%|          | 0/347 [00:00<?, ? examples/s]"
      ],
      "application/vnd.jupyter.widget-view+json": {
       "version_major": 2,
       "version_minor": 0,
       "model_id": "600ec0c827dd47299e35aae1fe7710fb"
      }
     },
     "metadata": {}
    }
   ]
  },
  {
   "cell_type": "code",
   "source": [
    "# Ensure labels are in correct format (convert to list if needed)\n",
    "if isinstance(tokenized_datasets[\"train\"][\"label\"], (int, float)):\n",
    "    # If labels are already numeric, just rename the column\n",
    "    tokenized_datasets = tokenized_datasets.rename_column(\"label\", \"labels\")\n",
    "else:\n",
    "    # If labels need conversion\n",
    "    def convert_labels(examples):\n",
    "        return {\"labels\": [int(label) for label in examples[\"label\"]]}\n",
    "    tokenized_datasets = tokenized_datasets.map(convert_labels, batched=True)\n",
    "    tokenized_datasets = tokenized_datasets.remove_columns([\"label\"])\n",
    "\n",
    "# Verify data format\n",
    "print(\"\\nSample processed data:\")\n",
    "print(tokenized_datasets[\"train\"][0])\n",
    "\n",
    "# Data collator\n",
    "data_collator = DataCollatorWithPadding(tokenizer=tokenizer)"
   ],
   "metadata": {
    "colab": {
     "base_uri": "https://localhost:8080/",
     "height": 185,
     "referenced_widgets": [
      "b62b45b8fc764b7f8431b3d1aa1a2f92",
      "f9f338f48c3645fabc525e9c0b640a98",
      "84ab3c72df1d475ebc3e7d3dfcbdcd44",
      "44128227095c4f1fa534bf630ff7ddca",
      "d810603a20cd4455aacdcde5910f15be",
      "4ec06705a06b42ac961c6a5c52360dad",
      "d50fe73d0ac640aba427319e835add74",
      "209dc02ce28740baa17fd97358f1b67b",
      "e608249c750a45b7b98f016b6a4bb90a",
      "c6d6ac51eea94c5d88377e36790ff2f8",
      "64a6b3246f6f4740890c1da835718224",
      "709fd062669941debfbaf8caf8bd41db",
      "a4a07bb3ef3a49298ea0e16d9b796033",
      "3c044b78ea814b58ad09ca38b8cdf20a",
      "43d582bd1ce5408eb8c061e95deb5567",
      "69518a7c5a7047d8a907670171c1f4f4",
      "c39eb43335c942aa9cd755cb955f25f2",
      "38bbac8e14af464e9ae2188b39bebbfd",
      "ce9e15b89cc543348bb9daffd4a77649",
      "bde933309bd1418e96dc8ff473e260d2",
      "0eb741b1da114137bf28eb597da38ce7",
      "d93d749457a74e91be34d36a8e828174",
      "97f9364760194770bbe856c498517ec4",
      "eb24e61335fe48bc9c8794c86508cab4",
      "4ccc348d1a8f43d899cb16b8f6f3f5ed",
      "ec2e3f3277d74d22bcc015465be78b86",
      "3f63e6decaba459092ea661664400d6a",
      "c9ceb56150c64c5db1276e8b4b73f26b",
      "4a563e532274450a988bffde26bd5632",
      "be67092f339f40f68fd04840d3ddec25",
      "7ffd1408ce764afe936b9d0c06add2bf",
      "eff655f41bfd4ee588a424f589101a1d",
      "a5d03e6216ec45829af4a34f7f1c93f4"
     ]
    },
    "id": "t_dgXQxa0Fhr",
    "executionInfo": {
     "status": "ok",
     "timestamp": 1749474002962,
     "user_tz": -120,
     "elapsed": 284,
     "user": {
      "displayName": "thiha Soe",
      "userId": "00273550437711924402"
     }
    },
    "outputId": "5dc0dfc9-4b59-4e1c-b944-67599197a4db"
   },
   "execution_count": 11,
   "outputs": [
    {
     "output_type": "display_data",
     "data": {
      "text/plain": [
       "Map:   0%|          | 0/3613 [00:00<?, ? examples/s]"
      ],
      "application/vnd.jupyter.widget-view+json": {
       "version_major": 2,
       "version_minor": 0,
       "model_id": "b62b45b8fc764b7f8431b3d1aa1a2f92"
      }
     },
     "metadata": {}
    },
    {
     "output_type": "display_data",
     "data": {
      "text/plain": [
       "Map:   0%|          | 0/3142 [00:00<?, ? examples/s]"
      ],
      "application/vnd.jupyter.widget-view+json": {
       "version_major": 2,
       "version_minor": 0,
       "model_id": "709fd062669941debfbaf8caf8bd41db"
      }
     },
     "metadata": {}
    },
    {
     "output_type": "display_data",
     "data": {
      "text/plain": [
       "Map:   0%|          | 0/347 [00:00<?, ? examples/s]"
      ],
      "application/vnd.jupyter.widget-view+json": {
       "version_major": 2,
       "version_minor": 0,
       "model_id": "97f9364760194770bbe856c498517ec4"
      }
     },
     "metadata": {}
    },
    {
     "output_type": "stream",
     "name": "stdout",
     "text": [
      "\n",
      "Sample processed data:\n",
      "{'input_ids': [101, 2074, 2288, 2067, 2013, 3773, 1030, 5639, 9247, 7231, 2100, 1999, 20934, 2869, 16930, 1012, 6429, 999, 999, 2227, 2145, 13403, 2013, 5870, 2061, 2172, 1001, 26316, 102, 0, 0, 0, 0, 0, 0, 0, 0, 0, 0, 0, 0, 0, 0, 0, 0, 0, 0, 0, 0, 0, 0, 0, 0, 0, 0, 0, 0, 0, 0, 0, 0, 0, 0, 0, 0, 0, 0, 0, 0, 0, 0, 0, 0, 0, 0, 0, 0, 0, 0, 0, 0, 0, 0, 0, 0, 0, 0, 0, 0, 0, 0, 0, 0, 0, 0, 0, 0, 0, 0, 0, 0, 0, 0, 0, 0, 0, 0, 0, 0, 0, 0, 0, 0, 0, 0, 0, 0, 0, 0, 0, 0, 0, 0, 0, 0, 0, 0, 0], 'token_type_ids': [0, 0, 0, 0, 0, 0, 0, 0, 0, 0, 0, 0, 0, 0, 0, 0, 0, 0, 0, 0, 0, 0, 0, 0, 0, 0, 0, 0, 0, 0, 0, 0, 0, 0, 0, 0, 0, 0, 0, 0, 0, 0, 0, 0, 0, 0, 0, 0, 0, 0, 0, 0, 0, 0, 0, 0, 0, 0, 0, 0, 0, 0, 0, 0, 0, 0, 0, 0, 0, 0, 0, 0, 0, 0, 0, 0, 0, 0, 0, 0, 0, 0, 0, 0, 0, 0, 0, 0, 0, 0, 0, 0, 0, 0, 0, 0, 0, 0, 0, 0, 0, 0, 0, 0, 0, 0, 0, 0, 0, 0, 0, 0, 0, 0, 0, 0, 0, 0, 0, 0, 0, 0, 0, 0, 0, 0, 0, 0], 'attention_mask': [1, 1, 1, 1, 1, 1, 1, 1, 1, 1, 1, 1, 1, 1, 1, 1, 1, 1, 1, 1, 1, 1, 1, 1, 1, 1, 1, 1, 1, 0, 0, 0, 0, 0, 0, 0, 0, 0, 0, 0, 0, 0, 0, 0, 0, 0, 0, 0, 0, 0, 0, 0, 0, 0, 0, 0, 0, 0, 0, 0, 0, 0, 0, 0, 0, 0, 0, 0, 0, 0, 0, 0, 0, 0, 0, 0, 0, 0, 0, 0, 0, 0, 0, 0, 0, 0, 0, 0, 0, 0, 0, 0, 0, 0, 0, 0, 0, 0, 0, 0, 0, 0, 0, 0, 0, 0, 0, 0, 0, 0, 0, 0, 0, 0, 0, 0, 0, 0, 0, 0, 0, 0, 0, 0, 0, 0, 0, 0], 'labels': 2}\n"
     ]
    }
   ]
  },
  {
   "cell_type": "code",
   "source": [
    "# Evaluation metrics\n",
    "accuracy_metric = evaluate.load(\"accuracy\")\n",
    "f1_metric = evaluate.load(\"f1\")\n",
    "\n",
    "def compute_metrics(eval_pred):\n",
    "    predictions, labels = eval_pred\n",
    "    predictions = np.argmax(predictions, axis=1)\n",
    "\n",
    "    accuracy = accuracy_metric.compute(predictions=predictions, references=labels)[\"accuracy\"]\n",
    "    f1 = f1_metric.compute(predictions=predictions, references=labels, average=\"weighted\")[\"f1\"]\n",
    "\n",
    "    return {\"accuracy\": accuracy, \"f1\": f1}"
   ],
   "metadata": {
    "colab": {
     "base_uri": "https://localhost:8080/",
     "height": 81,
     "referenced_widgets": [
      "0229c808d0dd45afa5c96fd0931a116c",
      "7de5aa324ae94d2db60e3342c0339739",
      "209ff907be3d46bf973b8c2b19f52d11",
      "6b5ebd9afde142f99e62d4f443dfc73b",
      "908bab50295749b2946e0c8596e6a8bb",
      "653a47a3f2b3411d9e75d3dd080ac4a9",
      "9fdf8890a80942b0a8e06713be3b9180",
      "665a5b6f05074c05ba10fb722cde05da",
      "797a8afe6308476d8ef592b354679ea2",
      "07e6b957c2384e9991c3d5bd7a321fde",
      "22277eb6d0054c37bdec8bd7b0612b30",
      "9c2c029203c841de98f4e0b827133295",
      "ef730802b87b4597bca3308734a008b4",
      "7659facf941e42ee9e39979e2df9a537",
      "fb9ce73d4f6c4b1c9a95691ea2c040db",
      "fdc5b713f1ab4876be1339c62923fb8d",
      "45706e5b40e14d388d67f1f9c398d3ab",
      "145b4c98f7e34e2c975db0fdedf3a382",
      "c78ed7fff983446bba05df54ab71150d",
      "53229f95aca94c199f5dcecd80a398c9",
      "6f282a6828204d19ba36772fff55aaeb",
      "9037e7e04e2544239ef3123e4bb95292"
     ]
    },
    "id": "RbWCeOX_0Lor",
    "executionInfo": {
     "status": "ok",
     "timestamp": 1749474004339,
     "user_tz": -120,
     "elapsed": 1376,
     "user": {
      "displayName": "thiha Soe",
      "userId": "00273550437711924402"
     }
    },
    "outputId": "d9ea7879-8009-4a3d-dd10-3c4e84cbcb13"
   },
   "execution_count": 12,
   "outputs": [
    {
     "output_type": "display_data",
     "data": {
      "text/plain": [
       "Downloading builder script:   0%|          | 0.00/4.20k [00:00<?, ?B/s]"
      ],
      "application/vnd.jupyter.widget-view+json": {
       "version_major": 2,
       "version_minor": 0,
       "model_id": "0229c808d0dd45afa5c96fd0931a116c"
      }
     },
     "metadata": {}
    },
    {
     "output_type": "display_data",
     "data": {
      "text/plain": [
       "Downloading builder script:   0%|          | 0.00/6.79k [00:00<?, ?B/s]"
      ],
      "application/vnd.jupyter.widget-view+json": {
       "version_major": 2,
       "version_minor": 0,
       "model_id": "9c2c029203c841de98f4e0b827133295"
      }
     },
     "metadata": {}
    }
   ]
  },
  {
   "cell_type": "code",
   "source": [
    "# Load model\n",
    "model = AutoModelForSequenceClassification.from_pretrained(\n",
    "    model_name,\n",
    "    num_labels=num_labels,\n",
    "    id2label=id2label,\n",
    "    label2id=label2id\n",
    ")\n",
    "\n"
   ],
   "metadata": {
    "colab": {
     "base_uri": "https://localhost:8080/",
     "height": 104,
     "referenced_widgets": [
      "d17952e7f78540bdb0714c89f0184eb3",
      "74a99a9689fe48f0bb6f0e4437e1ee2b",
      "c45d6260cafc419b8410bb34617590e9",
      "479b931b5a4e427595e35ca81ac7bba6",
      "1615c444237345e9955d14e6f5b3771f",
      "f78434defc344e19ac754c40c42d14ab",
      "207f4997f9384d34ab473ce87bc73a72",
      "ed0c10273b4643e6a44ff2f09fe19db5",
      "8d7e7e159ab942e482d0a1a592120849",
      "b5a5f6b58c17464598ce2d83492dc17e",
      "97045577db4d413f9202544c213995a0"
     ]
    },
    "id": "nRd1nh0f0SF5",
    "executionInfo": {
     "status": "ok",
     "timestamp": 1749474014488,
     "user_tz": -120,
     "elapsed": 10143,
     "user": {
      "displayName": "thiha Soe",
      "userId": "00273550437711924402"
     }
    },
    "outputId": "8035e0f9-3640-47e1-aa34-876e6dab154e"
   },
   "execution_count": 13,
   "outputs": [
    {
     "output_type": "display_data",
     "data": {
      "text/plain": [
       "model.safetensors:   0%|          | 0.00/440M [00:00<?, ?B/s]"
      ],
      "application/vnd.jupyter.widget-view+json": {
       "version_major": 2,
       "version_minor": 0,
       "model_id": "d17952e7f78540bdb0714c89f0184eb3"
      }
     },
     "metadata": {}
    },
    {
     "output_type": "stream",
     "name": "stderr",
     "text": [
      "Some weights of BertForSequenceClassification were not initialized from the model checkpoint at bert-base-uncased and are newly initialized: ['classifier.bias', 'classifier.weight']\n",
      "You should probably TRAIN this model on a down-stream task to be able to use it for predictions and inference.\n"
     ]
    }
   ]
  },
  {
   "cell_type": "code",
   "source": [
    "!pip install torchsummary"
   ],
   "metadata": {
    "colab": {
     "base_uri": "https://localhost:8080/"
    },
    "id": "S06guxRo0cvX",
    "executionInfo": {
     "status": "ok",
     "timestamp": 1749474018808,
     "user_tz": -120,
     "elapsed": 4311,
     "user": {
      "displayName": "thiha Soe",
      "userId": "00273550437711924402"
     }
    },
    "outputId": "04504051-ecdf-4db5-e9f3-e90a9409b1c5"
   },
   "execution_count": 14,
   "outputs": [
    {
     "output_type": "stream",
     "name": "stdout",
     "text": [
      "Requirement already satisfied: torchsummary in /usr/local/lib/python3.11/dist-packages (1.5.1)\n"
     ]
    }
   ]
  },
  {
   "cell_type": "code",
   "source": [
    "from transformers import BertForSequenceClassification\n",
    "from torchsummary import summary\n",
    "\n",
    "# Display Model Architecture\n",
    "print(\"\\n\" + \"=\"*50)\n",
    "print(\"MODEL ARCHITECTURE\")\n",
    "print(\"=\"*50)\n",
    "print(model)  # This prints the full architecture\n",
    "\n",
    "# Display Model Summary (requires torchsummary)\n",
    "try:\n",
    "    print(\"\\n\" + \"=\"*50)\n",
    "    print(\"MODEL SUMMARY\")\n",
    "    print(\"=\"*50)\n",
    "    # Move model to CPU for summary\n",
    "    model.to('cpu')\n",
    "    # Create dummy input matching your tokenizer's max length\n",
    "    dummy_input = torch.ones((1, 128), dtype=torch.long)  # (batch_size, sequence_length)\n",
    "    # Print summary\n",
    "    summary(model, input_data=dummy_input, depth=4)\n",
    "except Exception as e:\n",
    "    print(f\"Could not generate full summary: {e}\")\n",
    "    print(\"Install torchsummary if needed: !pip install torchsummary\")\n",
    "\n",
    "# Display Layer-wise Information\n",
    "print(\"\\n\" + \"=\"*50)\n",
    "print(\"LAYER DETAILS\")\n",
    "print(\"=\"*50)\n",
    "for name, param in model.named_parameters():\n",
    "    print(f\"{name}: {param.shape} (Trainable: {param.requires_grad})\")\n",
    "\n",
    "# Count Parameters\n",
    "total_params = sum(p.numel() for p in model.parameters())\n",
    "trainable_params = sum(p.numel() for p in model.parameters() if p.requires_grad)\n",
    "print(\"\\n\" + \"=\"*50)\n",
    "print(\"PARAMETER COUNT\")\n",
    "print(\"=\"*50)\n",
    "print(f\"Total parameters: {total_params:,}\")\n",
    "print(f\"Trainable parameters: {trainable_params:,}\")\n",
    "print(f\"Frozen parameters: {total_params - trainable_params:,}\")\n",
    "\n",
    "# Display Configuration\n",
    "print(\"\\n\" + \"=\"*50)\n",
    "print(\"MODEL CONFIGURATION\")\n",
    "print(\"=\"*50)\n",
    "print(model.config)"
   ],
   "metadata": {
    "colab": {
     "base_uri": "https://localhost:8080/"
    },
    "id": "Y0CrktXD0dz-",
    "executionInfo": {
     "status": "ok",
     "timestamp": 1749474018817,
     "user_tz": -120,
     "elapsed": 6,
     "user": {
      "displayName": "thiha Soe",
      "userId": "00273550437711924402"
     }
    },
    "outputId": "f13f14fb-9632-4c7d-e91a-c688fd77d5d9"
   },
   "execution_count": 15,
   "outputs": [
    {
     "output_type": "stream",
     "name": "stdout",
     "text": [
      "\n",
      "==================================================\n",
      "MODEL ARCHITECTURE\n",
      "==================================================\n",
      "BertForSequenceClassification(\n",
      "  (bert): BertModel(\n",
      "    (embeddings): BertEmbeddings(\n",
      "      (word_embeddings): Embedding(30522, 768, padding_idx=0)\n",
      "      (position_embeddings): Embedding(512, 768)\n",
      "      (token_type_embeddings): Embedding(2, 768)\n",
      "      (LayerNorm): LayerNorm((768,), eps=1e-12, elementwise_affine=True)\n",
      "      (dropout): Dropout(p=0.1, inplace=False)\n",
      "    )\n",
      "    (encoder): BertEncoder(\n",
      "      (layer): ModuleList(\n",
      "        (0-11): 12 x BertLayer(\n",
      "          (attention): BertAttention(\n",
      "            (self): BertSdpaSelfAttention(\n",
      "              (query): Linear(in_features=768, out_features=768, bias=True)\n",
      "              (key): Linear(in_features=768, out_features=768, bias=True)\n",
      "              (value): Linear(in_features=768, out_features=768, bias=True)\n",
      "              (dropout): Dropout(p=0.1, inplace=False)\n",
      "            )\n",
      "            (output): BertSelfOutput(\n",
      "              (dense): Linear(in_features=768, out_features=768, bias=True)\n",
      "              (LayerNorm): LayerNorm((768,), eps=1e-12, elementwise_affine=True)\n",
      "              (dropout): Dropout(p=0.1, inplace=False)\n",
      "            )\n",
      "          )\n",
      "          (intermediate): BertIntermediate(\n",
      "            (dense): Linear(in_features=768, out_features=3072, bias=True)\n",
      "            (intermediate_act_fn): GELUActivation()\n",
      "          )\n",
      "          (output): BertOutput(\n",
      "            (dense): Linear(in_features=3072, out_features=768, bias=True)\n",
      "            (LayerNorm): LayerNorm((768,), eps=1e-12, elementwise_affine=True)\n",
      "            (dropout): Dropout(p=0.1, inplace=False)\n",
      "          )\n",
      "        )\n",
      "      )\n",
      "    )\n",
      "    (pooler): BertPooler(\n",
      "      (dense): Linear(in_features=768, out_features=768, bias=True)\n",
      "      (activation): Tanh()\n",
      "    )\n",
      "  )\n",
      "  (dropout): Dropout(p=0.1, inplace=False)\n",
      "  (classifier): Linear(in_features=768, out_features=4, bias=True)\n",
      ")\n",
      "\n",
      "==================================================\n",
      "MODEL SUMMARY\n",
      "==================================================\n",
      "Could not generate full summary: summary() got an unexpected keyword argument 'input_data'\n",
      "Install torchsummary if needed: !pip install torchsummary\n",
      "\n",
      "==================================================\n",
      "LAYER DETAILS\n",
      "==================================================\n",
      "bert.embeddings.word_embeddings.weight: torch.Size([30522, 768]) (Trainable: True)\n",
      "bert.embeddings.position_embeddings.weight: torch.Size([512, 768]) (Trainable: True)\n",
      "bert.embeddings.token_type_embeddings.weight: torch.Size([2, 768]) (Trainable: True)\n",
      "bert.embeddings.LayerNorm.weight: torch.Size([768]) (Trainable: True)\n",
      "bert.embeddings.LayerNorm.bias: torch.Size([768]) (Trainable: True)\n",
      "bert.encoder.layer.0.attention.self.query.weight: torch.Size([768, 768]) (Trainable: True)\n",
      "bert.encoder.layer.0.attention.self.query.bias: torch.Size([768]) (Trainable: True)\n",
      "bert.encoder.layer.0.attention.self.key.weight: torch.Size([768, 768]) (Trainable: True)\n",
      "bert.encoder.layer.0.attention.self.key.bias: torch.Size([768]) (Trainable: True)\n",
      "bert.encoder.layer.0.attention.self.value.weight: torch.Size([768, 768]) (Trainable: True)\n",
      "bert.encoder.layer.0.attention.self.value.bias: torch.Size([768]) (Trainable: True)\n",
      "bert.encoder.layer.0.attention.output.dense.weight: torch.Size([768, 768]) (Trainable: True)\n",
      "bert.encoder.layer.0.attention.output.dense.bias: torch.Size([768]) (Trainable: True)\n",
      "bert.encoder.layer.0.attention.output.LayerNorm.weight: torch.Size([768]) (Trainable: True)\n",
      "bert.encoder.layer.0.attention.output.LayerNorm.bias: torch.Size([768]) (Trainable: True)\n",
      "bert.encoder.layer.0.intermediate.dense.weight: torch.Size([3072, 768]) (Trainable: True)\n",
      "bert.encoder.layer.0.intermediate.dense.bias: torch.Size([3072]) (Trainable: True)\n",
      "bert.encoder.layer.0.output.dense.weight: torch.Size([768, 3072]) (Trainable: True)\n",
      "bert.encoder.layer.0.output.dense.bias: torch.Size([768]) (Trainable: True)\n",
      "bert.encoder.layer.0.output.LayerNorm.weight: torch.Size([768]) (Trainable: True)\n",
      "bert.encoder.layer.0.output.LayerNorm.bias: torch.Size([768]) (Trainable: True)\n",
      "bert.encoder.layer.1.attention.self.query.weight: torch.Size([768, 768]) (Trainable: True)\n",
      "bert.encoder.layer.1.attention.self.query.bias: torch.Size([768]) (Trainable: True)\n",
      "bert.encoder.layer.1.attention.self.key.weight: torch.Size([768, 768]) (Trainable: True)\n",
      "bert.encoder.layer.1.attention.self.key.bias: torch.Size([768]) (Trainable: True)\n",
      "bert.encoder.layer.1.attention.self.value.weight: torch.Size([768, 768]) (Trainable: True)\n",
      "bert.encoder.layer.1.attention.self.value.bias: torch.Size([768]) (Trainable: True)\n",
      "bert.encoder.layer.1.attention.output.dense.weight: torch.Size([768, 768]) (Trainable: True)\n",
      "bert.encoder.layer.1.attention.output.dense.bias: torch.Size([768]) (Trainable: True)\n",
      "bert.encoder.layer.1.attention.output.LayerNorm.weight: torch.Size([768]) (Trainable: True)\n",
      "bert.encoder.layer.1.attention.output.LayerNorm.bias: torch.Size([768]) (Trainable: True)\n",
      "bert.encoder.layer.1.intermediate.dense.weight: torch.Size([3072, 768]) (Trainable: True)\n",
      "bert.encoder.layer.1.intermediate.dense.bias: torch.Size([3072]) (Trainable: True)\n",
      "bert.encoder.layer.1.output.dense.weight: torch.Size([768, 3072]) (Trainable: True)\n",
      "bert.encoder.layer.1.output.dense.bias: torch.Size([768]) (Trainable: True)\n",
      "bert.encoder.layer.1.output.LayerNorm.weight: torch.Size([768]) (Trainable: True)\n",
      "bert.encoder.layer.1.output.LayerNorm.bias: torch.Size([768]) (Trainable: True)\n",
      "bert.encoder.layer.2.attention.self.query.weight: torch.Size([768, 768]) (Trainable: True)\n",
      "bert.encoder.layer.2.attention.self.query.bias: torch.Size([768]) (Trainable: True)\n",
      "bert.encoder.layer.2.attention.self.key.weight: torch.Size([768, 768]) (Trainable: True)\n",
      "bert.encoder.layer.2.attention.self.key.bias: torch.Size([768]) (Trainable: True)\n",
      "bert.encoder.layer.2.attention.self.value.weight: torch.Size([768, 768]) (Trainable: True)\n",
      "bert.encoder.layer.2.attention.self.value.bias: torch.Size([768]) (Trainable: True)\n",
      "bert.encoder.layer.2.attention.output.dense.weight: torch.Size([768, 768]) (Trainable: True)\n",
      "bert.encoder.layer.2.attention.output.dense.bias: torch.Size([768]) (Trainable: True)\n",
      "bert.encoder.layer.2.attention.output.LayerNorm.weight: torch.Size([768]) (Trainable: True)\n",
      "bert.encoder.layer.2.attention.output.LayerNorm.bias: torch.Size([768]) (Trainable: True)\n",
      "bert.encoder.layer.2.intermediate.dense.weight: torch.Size([3072, 768]) (Trainable: True)\n",
      "bert.encoder.layer.2.intermediate.dense.bias: torch.Size([3072]) (Trainable: True)\n",
      "bert.encoder.layer.2.output.dense.weight: torch.Size([768, 3072]) (Trainable: True)\n",
      "bert.encoder.layer.2.output.dense.bias: torch.Size([768]) (Trainable: True)\n",
      "bert.encoder.layer.2.output.LayerNorm.weight: torch.Size([768]) (Trainable: True)\n",
      "bert.encoder.layer.2.output.LayerNorm.bias: torch.Size([768]) (Trainable: True)\n",
      "bert.encoder.layer.3.attention.self.query.weight: torch.Size([768, 768]) (Trainable: True)\n",
      "bert.encoder.layer.3.attention.self.query.bias: torch.Size([768]) (Trainable: True)\n",
      "bert.encoder.layer.3.attention.self.key.weight: torch.Size([768, 768]) (Trainable: True)\n",
      "bert.encoder.layer.3.attention.self.key.bias: torch.Size([768]) (Trainable: True)\n",
      "bert.encoder.layer.3.attention.self.value.weight: torch.Size([768, 768]) (Trainable: True)\n",
      "bert.encoder.layer.3.attention.self.value.bias: torch.Size([768]) (Trainable: True)\n",
      "bert.encoder.layer.3.attention.output.dense.weight: torch.Size([768, 768]) (Trainable: True)\n",
      "bert.encoder.layer.3.attention.output.dense.bias: torch.Size([768]) (Trainable: True)\n",
      "bert.encoder.layer.3.attention.output.LayerNorm.weight: torch.Size([768]) (Trainable: True)\n",
      "bert.encoder.layer.3.attention.output.LayerNorm.bias: torch.Size([768]) (Trainable: True)\n",
      "bert.encoder.layer.3.intermediate.dense.weight: torch.Size([3072, 768]) (Trainable: True)\n",
      "bert.encoder.layer.3.intermediate.dense.bias: torch.Size([3072]) (Trainable: True)\n",
      "bert.encoder.layer.3.output.dense.weight: torch.Size([768, 3072]) (Trainable: True)\n",
      "bert.encoder.layer.3.output.dense.bias: torch.Size([768]) (Trainable: True)\n",
      "bert.encoder.layer.3.output.LayerNorm.weight: torch.Size([768]) (Trainable: True)\n",
      "bert.encoder.layer.3.output.LayerNorm.bias: torch.Size([768]) (Trainable: True)\n",
      "bert.encoder.layer.4.attention.self.query.weight: torch.Size([768, 768]) (Trainable: True)\n",
      "bert.encoder.layer.4.attention.self.query.bias: torch.Size([768]) (Trainable: True)\n",
      "bert.encoder.layer.4.attention.self.key.weight: torch.Size([768, 768]) (Trainable: True)\n",
      "bert.encoder.layer.4.attention.self.key.bias: torch.Size([768]) (Trainable: True)\n",
      "bert.encoder.layer.4.attention.self.value.weight: torch.Size([768, 768]) (Trainable: True)\n",
      "bert.encoder.layer.4.attention.self.value.bias: torch.Size([768]) (Trainable: True)\n",
      "bert.encoder.layer.4.attention.output.dense.weight: torch.Size([768, 768]) (Trainable: True)\n",
      "bert.encoder.layer.4.attention.output.dense.bias: torch.Size([768]) (Trainable: True)\n",
      "bert.encoder.layer.4.attention.output.LayerNorm.weight: torch.Size([768]) (Trainable: True)\n",
      "bert.encoder.layer.4.attention.output.LayerNorm.bias: torch.Size([768]) (Trainable: True)\n",
      "bert.encoder.layer.4.intermediate.dense.weight: torch.Size([3072, 768]) (Trainable: True)\n",
      "bert.encoder.layer.4.intermediate.dense.bias: torch.Size([3072]) (Trainable: True)\n",
      "bert.encoder.layer.4.output.dense.weight: torch.Size([768, 3072]) (Trainable: True)\n",
      "bert.encoder.layer.4.output.dense.bias: torch.Size([768]) (Trainable: True)\n",
      "bert.encoder.layer.4.output.LayerNorm.weight: torch.Size([768]) (Trainable: True)\n",
      "bert.encoder.layer.4.output.LayerNorm.bias: torch.Size([768]) (Trainable: True)\n",
      "bert.encoder.layer.5.attention.self.query.weight: torch.Size([768, 768]) (Trainable: True)\n",
      "bert.encoder.layer.5.attention.self.query.bias: torch.Size([768]) (Trainable: True)\n",
      "bert.encoder.layer.5.attention.self.key.weight: torch.Size([768, 768]) (Trainable: True)\n",
      "bert.encoder.layer.5.attention.self.key.bias: torch.Size([768]) (Trainable: True)\n",
      "bert.encoder.layer.5.attention.self.value.weight: torch.Size([768, 768]) (Trainable: True)\n",
      "bert.encoder.layer.5.attention.self.value.bias: torch.Size([768]) (Trainable: True)\n",
      "bert.encoder.layer.5.attention.output.dense.weight: torch.Size([768, 768]) (Trainable: True)\n",
      "bert.encoder.layer.5.attention.output.dense.bias: torch.Size([768]) (Trainable: True)\n",
      "bert.encoder.layer.5.attention.output.LayerNorm.weight: torch.Size([768]) (Trainable: True)\n",
      "bert.encoder.layer.5.attention.output.LayerNorm.bias: torch.Size([768]) (Trainable: True)\n",
      "bert.encoder.layer.5.intermediate.dense.weight: torch.Size([3072, 768]) (Trainable: True)\n",
      "bert.encoder.layer.5.intermediate.dense.bias: torch.Size([3072]) (Trainable: True)\n",
      "bert.encoder.layer.5.output.dense.weight: torch.Size([768, 3072]) (Trainable: True)\n",
      "bert.encoder.layer.5.output.dense.bias: torch.Size([768]) (Trainable: True)\n",
      "bert.encoder.layer.5.output.LayerNorm.weight: torch.Size([768]) (Trainable: True)\n",
      "bert.encoder.layer.5.output.LayerNorm.bias: torch.Size([768]) (Trainable: True)\n",
      "bert.encoder.layer.6.attention.self.query.weight: torch.Size([768, 768]) (Trainable: True)\n",
      "bert.encoder.layer.6.attention.self.query.bias: torch.Size([768]) (Trainable: True)\n",
      "bert.encoder.layer.6.attention.self.key.weight: torch.Size([768, 768]) (Trainable: True)\n",
      "bert.encoder.layer.6.attention.self.key.bias: torch.Size([768]) (Trainable: True)\n",
      "bert.encoder.layer.6.attention.self.value.weight: torch.Size([768, 768]) (Trainable: True)\n",
      "bert.encoder.layer.6.attention.self.value.bias: torch.Size([768]) (Trainable: True)\n",
      "bert.encoder.layer.6.attention.output.dense.weight: torch.Size([768, 768]) (Trainable: True)\n",
      "bert.encoder.layer.6.attention.output.dense.bias: torch.Size([768]) (Trainable: True)\n",
      "bert.encoder.layer.6.attention.output.LayerNorm.weight: torch.Size([768]) (Trainable: True)\n",
      "bert.encoder.layer.6.attention.output.LayerNorm.bias: torch.Size([768]) (Trainable: True)\n",
      "bert.encoder.layer.6.intermediate.dense.weight: torch.Size([3072, 768]) (Trainable: True)\n",
      "bert.encoder.layer.6.intermediate.dense.bias: torch.Size([3072]) (Trainable: True)\n",
      "bert.encoder.layer.6.output.dense.weight: torch.Size([768, 3072]) (Trainable: True)\n",
      "bert.encoder.layer.6.output.dense.bias: torch.Size([768]) (Trainable: True)\n",
      "bert.encoder.layer.6.output.LayerNorm.weight: torch.Size([768]) (Trainable: True)\n",
      "bert.encoder.layer.6.output.LayerNorm.bias: torch.Size([768]) (Trainable: True)\n",
      "bert.encoder.layer.7.attention.self.query.weight: torch.Size([768, 768]) (Trainable: True)\n",
      "bert.encoder.layer.7.attention.self.query.bias: torch.Size([768]) (Trainable: True)\n",
      "bert.encoder.layer.7.attention.self.key.weight: torch.Size([768, 768]) (Trainable: True)\n",
      "bert.encoder.layer.7.attention.self.key.bias: torch.Size([768]) (Trainable: True)\n",
      "bert.encoder.layer.7.attention.self.value.weight: torch.Size([768, 768]) (Trainable: True)\n",
      "bert.encoder.layer.7.attention.self.value.bias: torch.Size([768]) (Trainable: True)\n",
      "bert.encoder.layer.7.attention.output.dense.weight: torch.Size([768, 768]) (Trainable: True)\n",
      "bert.encoder.layer.7.attention.output.dense.bias: torch.Size([768]) (Trainable: True)\n",
      "bert.encoder.layer.7.attention.output.LayerNorm.weight: torch.Size([768]) (Trainable: True)\n",
      "bert.encoder.layer.7.attention.output.LayerNorm.bias: torch.Size([768]) (Trainable: True)\n",
      "bert.encoder.layer.7.intermediate.dense.weight: torch.Size([3072, 768]) (Trainable: True)\n",
      "bert.encoder.layer.7.intermediate.dense.bias: torch.Size([3072]) (Trainable: True)\n",
      "bert.encoder.layer.7.output.dense.weight: torch.Size([768, 3072]) (Trainable: True)\n",
      "bert.encoder.layer.7.output.dense.bias: torch.Size([768]) (Trainable: True)\n",
      "bert.encoder.layer.7.output.LayerNorm.weight: torch.Size([768]) (Trainable: True)\n",
      "bert.encoder.layer.7.output.LayerNorm.bias: torch.Size([768]) (Trainable: True)\n",
      "bert.encoder.layer.8.attention.self.query.weight: torch.Size([768, 768]) (Trainable: True)\n",
      "bert.encoder.layer.8.attention.self.query.bias: torch.Size([768]) (Trainable: True)\n",
      "bert.encoder.layer.8.attention.self.key.weight: torch.Size([768, 768]) (Trainable: True)\n",
      "bert.encoder.layer.8.attention.self.key.bias: torch.Size([768]) (Trainable: True)\n",
      "bert.encoder.layer.8.attention.self.value.weight: torch.Size([768, 768]) (Trainable: True)\n",
      "bert.encoder.layer.8.attention.self.value.bias: torch.Size([768]) (Trainable: True)\n",
      "bert.encoder.layer.8.attention.output.dense.weight: torch.Size([768, 768]) (Trainable: True)\n",
      "bert.encoder.layer.8.attention.output.dense.bias: torch.Size([768]) (Trainable: True)\n",
      "bert.encoder.layer.8.attention.output.LayerNorm.weight: torch.Size([768]) (Trainable: True)\n",
      "bert.encoder.layer.8.attention.output.LayerNorm.bias: torch.Size([768]) (Trainable: True)\n",
      "bert.encoder.layer.8.intermediate.dense.weight: torch.Size([3072, 768]) (Trainable: True)\n",
      "bert.encoder.layer.8.intermediate.dense.bias: torch.Size([3072]) (Trainable: True)\n",
      "bert.encoder.layer.8.output.dense.weight: torch.Size([768, 3072]) (Trainable: True)\n",
      "bert.encoder.layer.8.output.dense.bias: torch.Size([768]) (Trainable: True)\n",
      "bert.encoder.layer.8.output.LayerNorm.weight: torch.Size([768]) (Trainable: True)\n",
      "bert.encoder.layer.8.output.LayerNorm.bias: torch.Size([768]) (Trainable: True)\n",
      "bert.encoder.layer.9.attention.self.query.weight: torch.Size([768, 768]) (Trainable: True)\n",
      "bert.encoder.layer.9.attention.self.query.bias: torch.Size([768]) (Trainable: True)\n",
      "bert.encoder.layer.9.attention.self.key.weight: torch.Size([768, 768]) (Trainable: True)\n",
      "bert.encoder.layer.9.attention.self.key.bias: torch.Size([768]) (Trainable: True)\n",
      "bert.encoder.layer.9.attention.self.value.weight: torch.Size([768, 768]) (Trainable: True)\n",
      "bert.encoder.layer.9.attention.self.value.bias: torch.Size([768]) (Trainable: True)\n",
      "bert.encoder.layer.9.attention.output.dense.weight: torch.Size([768, 768]) (Trainable: True)\n",
      "bert.encoder.layer.9.attention.output.dense.bias: torch.Size([768]) (Trainable: True)\n",
      "bert.encoder.layer.9.attention.output.LayerNorm.weight: torch.Size([768]) (Trainable: True)\n",
      "bert.encoder.layer.9.attention.output.LayerNorm.bias: torch.Size([768]) (Trainable: True)\n",
      "bert.encoder.layer.9.intermediate.dense.weight: torch.Size([3072, 768]) (Trainable: True)\n",
      "bert.encoder.layer.9.intermediate.dense.bias: torch.Size([3072]) (Trainable: True)\n",
      "bert.encoder.layer.9.output.dense.weight: torch.Size([768, 3072]) (Trainable: True)\n",
      "bert.encoder.layer.9.output.dense.bias: torch.Size([768]) (Trainable: True)\n",
      "bert.encoder.layer.9.output.LayerNorm.weight: torch.Size([768]) (Trainable: True)\n",
      "bert.encoder.layer.9.output.LayerNorm.bias: torch.Size([768]) (Trainable: True)\n",
      "bert.encoder.layer.10.attention.self.query.weight: torch.Size([768, 768]) (Trainable: True)\n",
      "bert.encoder.layer.10.attention.self.query.bias: torch.Size([768]) (Trainable: True)\n",
      "bert.encoder.layer.10.attention.self.key.weight: torch.Size([768, 768]) (Trainable: True)\n",
      "bert.encoder.layer.10.attention.self.key.bias: torch.Size([768]) (Trainable: True)\n",
      "bert.encoder.layer.10.attention.self.value.weight: torch.Size([768, 768]) (Trainable: True)\n",
      "bert.encoder.layer.10.attention.self.value.bias: torch.Size([768]) (Trainable: True)\n",
      "bert.encoder.layer.10.attention.output.dense.weight: torch.Size([768, 768]) (Trainable: True)\n",
      "bert.encoder.layer.10.attention.output.dense.bias: torch.Size([768]) (Trainable: True)\n",
      "bert.encoder.layer.10.attention.output.LayerNorm.weight: torch.Size([768]) (Trainable: True)\n",
      "bert.encoder.layer.10.attention.output.LayerNorm.bias: torch.Size([768]) (Trainable: True)\n",
      "bert.encoder.layer.10.intermediate.dense.weight: torch.Size([3072, 768]) (Trainable: True)\n",
      "bert.encoder.layer.10.intermediate.dense.bias: torch.Size([3072]) (Trainable: True)\n",
      "bert.encoder.layer.10.output.dense.weight: torch.Size([768, 3072]) (Trainable: True)\n",
      "bert.encoder.layer.10.output.dense.bias: torch.Size([768]) (Trainable: True)\n",
      "bert.encoder.layer.10.output.LayerNorm.weight: torch.Size([768]) (Trainable: True)\n",
      "bert.encoder.layer.10.output.LayerNorm.bias: torch.Size([768]) (Trainable: True)\n",
      "bert.encoder.layer.11.attention.self.query.weight: torch.Size([768, 768]) (Trainable: True)\n",
      "bert.encoder.layer.11.attention.self.query.bias: torch.Size([768]) (Trainable: True)\n",
      "bert.encoder.layer.11.attention.self.key.weight: torch.Size([768, 768]) (Trainable: True)\n",
      "bert.encoder.layer.11.attention.self.key.bias: torch.Size([768]) (Trainable: True)\n",
      "bert.encoder.layer.11.attention.self.value.weight: torch.Size([768, 768]) (Trainable: True)\n",
      "bert.encoder.layer.11.attention.self.value.bias: torch.Size([768]) (Trainable: True)\n",
      "bert.encoder.layer.11.attention.output.dense.weight: torch.Size([768, 768]) (Trainable: True)\n",
      "bert.encoder.layer.11.attention.output.dense.bias: torch.Size([768]) (Trainable: True)\n",
      "bert.encoder.layer.11.attention.output.LayerNorm.weight: torch.Size([768]) (Trainable: True)\n",
      "bert.encoder.layer.11.attention.output.LayerNorm.bias: torch.Size([768]) (Trainable: True)\n",
      "bert.encoder.layer.11.intermediate.dense.weight: torch.Size([3072, 768]) (Trainable: True)\n",
      "bert.encoder.layer.11.intermediate.dense.bias: torch.Size([3072]) (Trainable: True)\n",
      "bert.encoder.layer.11.output.dense.weight: torch.Size([768, 3072]) (Trainable: True)\n",
      "bert.encoder.layer.11.output.dense.bias: torch.Size([768]) (Trainable: True)\n",
      "bert.encoder.layer.11.output.LayerNorm.weight: torch.Size([768]) (Trainable: True)\n",
      "bert.encoder.layer.11.output.LayerNorm.bias: torch.Size([768]) (Trainable: True)\n",
      "bert.pooler.dense.weight: torch.Size([768, 768]) (Trainable: True)\n",
      "bert.pooler.dense.bias: torch.Size([768]) (Trainable: True)\n",
      "classifier.weight: torch.Size([4, 768]) (Trainable: True)\n",
      "classifier.bias: torch.Size([4]) (Trainable: True)\n",
      "\n",
      "==================================================\n",
      "PARAMETER COUNT\n",
      "==================================================\n",
      "Total parameters: 109,485,316\n",
      "Trainable parameters: 109,485,316\n",
      "Frozen parameters: 0\n",
      "\n",
      "==================================================\n",
      "MODEL CONFIGURATION\n",
      "==================================================\n",
      "BertConfig {\n",
      "  \"architectures\": [\n",
      "    \"BertForMaskedLM\"\n",
      "  ],\n",
      "  \"attention_probs_dropout_prob\": 0.1,\n",
      "  \"classifier_dropout\": null,\n",
      "  \"gradient_checkpointing\": false,\n",
      "  \"hidden_act\": \"gelu\",\n",
      "  \"hidden_dropout_prob\": 0.1,\n",
      "  \"hidden_size\": 768,\n",
      "  \"id2label\": {\n",
      "    \"0\": \"anger\",\n",
      "    \"1\": \"fear\",\n",
      "    \"2\": \"joy\",\n",
      "    \"3\": \"sadness\"\n",
      "  },\n",
      "  \"initializer_range\": 0.02,\n",
      "  \"intermediate_size\": 3072,\n",
      "  \"label2id\": {\n",
      "    \"anger\": 0,\n",
      "    \"fear\": 1,\n",
      "    \"joy\": 2,\n",
      "    \"sadness\": 3\n",
      "  },\n",
      "  \"layer_norm_eps\": 1e-12,\n",
      "  \"max_position_embeddings\": 512,\n",
      "  \"model_type\": \"bert\",\n",
      "  \"num_attention_heads\": 12,\n",
      "  \"num_hidden_layers\": 12,\n",
      "  \"pad_token_id\": 0,\n",
      "  \"position_embedding_type\": \"absolute\",\n",
      "  \"torch_dtype\": \"float32\",\n",
      "  \"transformers_version\": \"4.52.4\",\n",
      "  \"type_vocab_size\": 2,\n",
      "  \"use_cache\": true,\n",
      "  \"vocab_size\": 30522\n",
      "}\n",
      "\n"
     ]
    }
   ]
  },
  {
   "cell_type": "code",
   "source": [
    "# Check GPU availability\n",
    "device = torch.device(\"cuda\" if torch.cuda.is_available() else \"cpu\")\n",
    "print(f\"Using device: {device}\")\n",
    "# Training arguments\n",
    "training_args = TrainingArguments(\n",
    "    output_dir=\"emotion_classifier\",\n",
    "    learning_rate=2e-5,\n",
    "    per_device_train_batch_size=16,\n",
    "    per_device_eval_batch_size=16,\n",
    "    num_train_epochs=4,\n",
    "    weight_decay=0.01,\n",
    "    eval_strategy=\"epoch\",\n",
    "    save_strategy=\"epoch\",\n",
    "    load_best_model_at_end=True,\n",
    "    logging_dir='./logs',\n",
    "    logging_steps=10,\n",
    "    report_to=\"none\",\n",
    "    remove_unused_columns=True  # Important to avoid issues\n",
    ")\n",
    "\n",
    "# Initialize Trainer\n",
    "trainer = Trainer(\n",
    "    model=model,\n",
    "    args=training_args,\n",
    "    train_dataset=tokenized_datasets[\"train\"],\n",
    "    eval_dataset=tokenized_datasets[\"validation\"],\n",
    "    data_collator=data_collator,\n",
    "    compute_metrics=compute_metrics,\n",
    ")\n",
    "\n",
    "# Start training\n",
    "print(\"\\nStarting training...\")\n",
    "trainer.train()\n",
    "\n",
    "# Evaluate on test set\n",
    "print(\"\\nEvaluating on test set...\")\n",
    "test_results = trainer.evaluate(tokenized_datasets[\"test\"])\n",
    "print(f\"Test accuracy: {test_results['eval_accuracy']:.4f}\")\n",
    "print(f\"Test F1 score: {test_results['eval_f1']:.4f}\")"
   ],
   "metadata": {
    "colab": {
     "base_uri": "https://localhost:8080/",
     "height": 342
    },
    "id": "S7kwyXEU07Ev",
    "executionInfo": {
     "status": "ok",
     "timestamp": 1749474425924,
     "user_tz": -120,
     "elapsed": 407093,
     "user": {
      "displayName": "thiha Soe",
      "userId": "00273550437711924402"
     }
    },
    "outputId": "308e22fc-5c32-4383-af0d-bde9be55d23c"
   },
   "execution_count": 16,
   "outputs": [
    {
     "output_type": "stream",
     "name": "stdout",
     "text": [
      "Using device: cuda\n",
      "\n",
      "Starting training...\n"
     ]
    },
    {
     "output_type": "display_data",
     "data": {
      "text/plain": [
       "<IPython.core.display.HTML object>"
      ],
      "text/html": [
       "\n",
       "    <div>\n",
       "      \n",
       "      <progress value='904' max='904' style='width:300px; height:20px; vertical-align: middle;'></progress>\n",
       "      [904/904 06:20, Epoch 4/4]\n",
       "    </div>\n",
       "    <table border=\"1\" class=\"dataframe\">\n",
       "  <thead>\n",
       " <tr style=\"text-align: left;\">\n",
       "      <th>Epoch</th>\n",
       "      <th>Training Loss</th>\n",
       "      <th>Validation Loss</th>\n",
       "      <th>Accuracy</th>\n",
       "      <th>F1</th>\n",
       "    </tr>\n",
       "  </thead>\n",
       "  <tbody>\n",
       "    <tr>\n",
       "      <td>1</td>\n",
       "      <td>0.629400</td>\n",
       "      <td>0.564417</td>\n",
       "      <td>0.798271</td>\n",
       "      <td>0.798446</td>\n",
       "    </tr>\n",
       "    <tr>\n",
       "      <td>2</td>\n",
       "      <td>0.425800</td>\n",
       "      <td>0.415626</td>\n",
       "      <td>0.850144</td>\n",
       "      <td>0.850200</td>\n",
       "    </tr>\n",
       "    <tr>\n",
       "      <td>3</td>\n",
       "      <td>0.238900</td>\n",
       "      <td>0.438317</td>\n",
       "      <td>0.855908</td>\n",
       "      <td>0.856141</td>\n",
       "    </tr>\n",
       "    <tr>\n",
       "      <td>4</td>\n",
       "      <td>0.176100</td>\n",
       "      <td>0.451952</td>\n",
       "      <td>0.873199</td>\n",
       "      <td>0.873330</td>\n",
       "    </tr>\n",
       "  </tbody>\n",
       "</table><p>"
      ]
     },
     "metadata": {}
    },
    {
     "output_type": "stream",
     "name": "stdout",
     "text": [
      "\n",
      "Evaluating on test set...\n"
     ]
    },
    {
     "output_type": "display_data",
     "data": {
      "text/plain": [
       "<IPython.core.display.HTML object>"
      ],
      "text/html": [
       "\n",
       "    <div>\n",
       "      \n",
       "      <progress value='197' max='197' style='width:300px; height:20px; vertical-align: middle;'></progress>\n",
       "      [197/197 00:23]\n",
       "    </div>\n",
       "    "
      ]
     },
     "metadata": {}
    },
    {
     "output_type": "stream",
     "name": "stdout",
     "text": [
      "Test accuracy: 0.8482\n",
      "Test F1 score: 0.8483\n"
     ]
    }
   ]
  },
  {
   "cell_type": "code",
   "source": [
    "# Save the model\n",
    "trainer.save_model(\"custom_emotion_classifier\")\n",
    "print(\"\\nModel saved to 'custom_emotion_classifier' directory\")"
   ],
   "metadata": {
    "id": "yZ3JsWP61ntS",
    "colab": {
     "base_uri": "https://localhost:8080/"
    },
    "executionInfo": {
     "status": "ok",
     "timestamp": 1749474439776,
     "user_tz": -120,
     "elapsed": 3377,
     "user": {
      "displayName": "thiha Soe",
      "userId": "00273550437711924402"
     }
    },
    "outputId": "8ca2a376-3651-4c54-aab2-fcb2bb8c8b5c"
   },
   "execution_count": 17,
   "outputs": [
    {
     "output_type": "stream",
     "name": "stdout",
     "text": [
      "\n",
      "Model saved to 'custom_emotion_classifier' directory\n"
     ]
    }
   ]
  },
  {
   "cell_type": "code",
   "source": [
    "# Check GPU availability\n",
    "device = torch.device(\"cuda\" if torch.cuda.is_available() else \"cpu\")\n",
    "print(f\"Using device: {device}\")\n",
    "def predict_emotion(text):\n",
    "    # Tokenize and move to same device as model\n",
    "    inputs = tokenizer(\n",
    "        text,\n",
    "        return_tensors=\"pt\",\n",
    "        padding=True,\n",
    "        truncation=True,\n",
    "        max_length=128\n",
    "    ).to(device)\n",
    "\n",
    "    with torch.no_grad():\n",
    "        outputs = model(**inputs)\n",
    "\n",
    "    logits = outputs.logits\n",
    "    predicted_class = torch.argmax(logits, dim=-1).item()\n",
    "    return id2label[predicted_class]\n",
    "\n",
    "# Test examples\n",
    "examples = [\n",
    "    \"I'm feeling really happy right now\",\n",
    "    \"This situation makes me so angry\",\n",
    "    \"I'm scared about what might happen tomorrow\",\n",
    "    \"I feel so lonely these days\"\n",
    "]\n",
    "\n",
    "print(\"\\nTesting predictions:\")\n",
    "for example in examples:\n",
    "    emotion = predict_emotion(example)\n",
    "    print(f\"Text: '{example[:50]}...' \\t Predicted Emotion: {emotion}\")\n"
   ],
   "metadata": {
    "id": "DZ61pF4C1pFd",
    "colab": {
     "base_uri": "https://localhost:8080/"
    },
    "executionInfo": {
     "status": "ok",
     "timestamp": 1749474451891,
     "user_tz": -120,
     "elapsed": 514,
     "user": {
      "displayName": "thiha Soe",
      "userId": "00273550437711924402"
     }
    },
    "outputId": "6e84548c-398d-4fa7-efa6-2b44673feb79"
   },
   "execution_count": 18,
   "outputs": [
    {
     "output_type": "stream",
     "name": "stdout",
     "text": [
      "Using device: cuda\n",
      "\n",
      "Testing predictions:\n",
      "Text: 'I'm feeling really happy right now...' \t Predicted Emotion: joy\n",
      "Text: 'This situation makes me so angry...' \t Predicted Emotion: anger\n",
      "Text: 'I'm scared about what might happen tomorrow...' \t Predicted Emotion: fear\n",
      "Text: 'I feel so lonely these days...' \t Predicted Emotion: sadness\n"
     ]
    }
   ]
  },
  {
   "cell_type": "code",
   "source": [
    "# Set style for plots\n",
    "sns.set(style=\"whitegrid\")\n",
    "plt.figure(figsize=(15, 6))\n",
    "\n",
    "# 1. Plot Training History (Loss and Accuracy)\n",
    "history = trainer.state.log_history\n",
    "\n",
    "# Convert history to DataFrame for easier processing\n",
    "history_df = pd.DataFrame(history)\n",
    "\n",
    "# Separate training and evaluation metrics\n",
    "train_metrics = history_df[history_df['loss'].notna()].copy()\n",
    "eval_metrics = history_df[history_df['eval_loss'].notna()].copy()\n",
    "\n",
    "# Ensure we have matching epochs\n",
    "train_metrics['epoch'] = range(1, len(train_metrics) + 1)\n",
    "eval_metrics['epoch'] = range(1, len(eval_metrics) + 1)\n",
    "\n",
    "# Plot training and validation loss\n",
    "plt.subplot(1, 2, 1)\n",
    "plt.plot(train_metrics['epoch'], train_metrics['loss'], 'b-', label='Training Loss')\n",
    "plt.plot(eval_metrics['epoch'], eval_metrics['eval_loss'], 'r-', label='Validation Loss')\n",
    "plt.title('Training and Validation Loss')\n",
    "plt.xlabel('Epochs')\n",
    "plt.ylabel('Loss')\n",
    "plt.legend()\n",
    "\n",
    "# Plot validation accuracy if available\n",
    "if 'eval_accuracy' in eval_metrics:\n",
    "    plt.subplot(1, 2, 2)\n",
    "    plt.plot(eval_metrics['epoch'], eval_metrics['eval_accuracy'], 'g-', label='Validation Accuracy')\n",
    "    plt.title('Validation Accuracy')\n",
    "    plt.xlabel('Epochs')\n",
    "    plt.ylabel('Accuracy')\n",
    "    plt.legend()\n",
    "\n",
    "plt.tight_layout()\n",
    "plt.show()\n",
    "\n",
    "# 2. Plot Final Performance Comparison (Train/Val/Test)\n",
    "# Get metrics for each dataset\n",
    "def get_metrics(dataset_name):\n",
    "    prefix = dataset_name.lower()\n",
    "    metrics = trainer.evaluate(\n",
    "        tokenized_datasets[dataset_name.lower()],\n",
    "        metric_key_prefix=prefix\n",
    "    )\n",
    "    return {\n",
    "        'Accuracy': metrics.get(f'{prefix}_accuracy', np.nan),\n",
    "        'Loss': metrics.get(f'{prefix}_loss', np.nan)\n",
    "    }\n",
    "\n",
    "metrics = {\n",
    "    'Train': get_metrics('train'),\n",
    "    'Validation': get_metrics('validation'),\n",
    "    'Test': get_metrics('test')\n",
    "}\n",
    "\n",
    "# Prepare data for plotting\n",
    "metrics_df = pd.DataFrame({\n",
    "    'Dataset': list(metrics.keys()),\n",
    "    'Accuracy': [m['Accuracy'] for m in metrics.values()],\n",
    "    'Loss': [m['Loss'] for m in metrics.values()]\n",
    "})\n",
    "\n",
    "# Plot final metrics comparison\n",
    "plt.figure(figsize=(15, 5))\n",
    "\n",
    "plt.subplot(1, 2, 1)\n",
    "sns.barplot(x='Dataset', y='Accuracy', data=metrics_df)\n",
    "plt.title('Accuracy Comparison')\n",
    "plt.ylim(0, 1)\n",
    "\n",
    "plt.subplot(1, 2, 2)\n",
    "sns.barplot(x='Dataset', y='Loss', data=metrics_df)\n",
    "plt.title('Loss Comparison')\n",
    "\n",
    "plt.tight_layout()\n",
    "plt.show()"
   ],
   "metadata": {
    "id": "zen22D9F4nR0",
    "colab": {
     "base_uri": "https://localhost:8080/",
     "height": 1000
    },
    "executionInfo": {
     "status": "ok",
     "timestamp": 1749474522874,
     "user_tz": -120,
     "elapsed": 65614,
     "user": {
      "displayName": "thiha Soe",
      "userId": "00273550437711924402"
     }
    },
    "outputId": "13b780bc-da6e-4ed4-d39f-1c6710e9cae1"
   },
   "execution_count": 19,
   "outputs": [
    {
     "output_type": "display_data",
     "data": {
      "text/plain": [
       "<Figure size 1500x600 with 2 Axes>"
      ],
      "image/png": "[encoded data removed]"
     },
     "metadata": {}
    },
    {
     "output_type": "display_data",
     "data": {
      "text/plain": [
       "<IPython.core.display.HTML object>"
      ],
      "text/html": [
       "\n",
       "    <div>\n",
       "      \n",
       "      <progress value='642' max='197' style='width:300px; height:20px; vertical-align: middle;'></progress>\n",
       "      [197/197 01:59]\n",
       "    </div>\n",
       "    "
      ]
     },
     "metadata": {}
    },
    {
     "output_type": "display_data",
     "data": {
      "text/plain": [
       "<Figure size 1500x500 with 2 Axes>"
      ],
      "image/png": "[encoded data removed]"
     },
     "metadata": {}
    }
   ]
  },
  {
   "cell_type": "code",
   "source": [
    "from sklearn.metrics import classification_report\n",
    "import numpy as np\n",
    "import torch\n",
    "\n",
    "def generate_classification_report(dataset_name, dataset, trainer, label_encoder):\n",
    "    \"\"\"Generate and print classification report for a dataset\"\"\"\n",
    "    print(f\"\\n{dataset_name} Set Classification Report\")\n",
    "    print(\"=\"*60)\n",
    "\n",
    "    # Move model to CPU for evaluation (optional, can also move data to GPU)\n",
    "    device = torch.device(\"cuda\" if torch.cuda.is_available() else \"cpu\")\n",
    "    model = trainer.model.to(device)\n",
    "\n",
    "    # Get predictions\n",
    "    predictions = trainer.predict(dataset)\n",
    "    preds = np.argmax(predictions.predictions, axis=1)\n",
    "    labels = predictions.label_ids\n",
    "\n",
    "    # Generate report\n",
    "    report = classification_report(\n",
    "        labels,\n",
    "        preds,\n",
    "        target_names=label_encoder.classes_,\n",
    "        digits=4\n",
    "    )\n",
    "    print(report)\n",
    "\n",
    "    return report\n",
    "\n",
    "# Generate reports for all sets\n",
    "print(\"Generating classification reports...\")\n",
    "\n",
    "try:\n",
    "    train_report = generate_classification_report(\n",
    "        \"Train\",\n",
    "        tokenized_datasets[\"train\"],\n",
    "        trainer,\n",
    "        label_encoder\n",
    "    )\n",
    "except Exception as e:\n",
    "    print(f\"Error generating train report: {e}\")\n",
    "\n",
    "try:\n",
    "    val_report = generate_classification_report(\n",
    "        \"Validation\",\n",
    "        tokenized_datasets[\"validation\"],\n",
    "        trainer,\n",
    "        label_encoder\n",
    "    )\n",
    "except Exception as e:\n",
    "    print(f\"Error generating validation report: {e}\")\n",
    "\n",
    "try:\n",
    "    test_report = generate_classification_report(\n",
    "        \"Test\",\n",
    "        tokenized_datasets[\"test\"],\n",
    "        trainer,\n",
    "        label_encoder\n",
    "    )\n",
    "except Exception as e:\n",
    "    print(f\"Error generating test report: {e}\")\n",
    "\n",
    "# Optional: Save reports to files\n",
    "try:\n",
    "    with open(\"train_classification_report.txt\", \"w\") as f:\n",
    "        f.write(str(train_report))\n",
    "    with open(\"val_classification_report.txt\", \"w\") as f:\n",
    "        f.write(str(val_report))\n",
    "    with open(\"test_classification_report.txt\", \"w\") as f:\n",
    "        f.write(str(test_report))\n",
    "    print(\"\\nReports saved to text files\")\n",
    "except Exception as e:\n",
    "    print(f\"\\nCould not save reports: {e}\")"
   ],
   "metadata": {
    "id": "rvEev0Q03PZY",
    "colab": {
     "base_uri": "https://localhost:8080/",
     "height": 798
    },
    "executionInfo": {
     "status": "ok",
     "timestamp": 1749474637325,
     "user_tz": -120,
     "elapsed": 53118,
     "user": {
      "displayName": "thiha Soe",
      "userId": "00273550437711924402"
     }
    },
    "outputId": "ecb0b1cb-652e-401b-a61e-c5b60d0bd2c7"
   },
   "execution_count": 20,
   "outputs": [
    {
     "output_type": "stream",
     "name": "stdout",
     "text": [
      "Generating classification reports...\n",
      "\n",
      "Train Set Classification Report\n",
      "============================================================\n"
     ]
    },
    {
     "output_type": "display_data",
     "data": {
      "text/plain": [
       "<IPython.core.display.HTML object>"
      ],
      "text/html": []
     },
     "metadata": {}
    },
    {
     "output_type": "stream",
     "name": "stdout",
     "text": [
      "              precision    recall  f1-score   support\n",
      "\n",
      "       anger     0.9361    0.9405    0.9383       857\n",
      "        fear     0.9392    0.9163    0.9276      1147\n",
      "         joy     0.9638    0.9696    0.9667       823\n",
      "     sadness     0.9031    0.9249    0.9139       786\n",
      "\n",
      "    accuracy                         0.9361      3613\n",
      "   macro avg     0.9356    0.9378    0.9366      3613\n",
      "weighted avg     0.9362    0.9361    0.9361      3613\n",
      "\n",
      "\n",
      "Validation Set Classification Report\n",
      "============================================================\n"
     ]
    },
    {
     "output_type": "display_data",
     "data": {
      "text/plain": [
       "<IPython.core.display.HTML object>"
      ],
      "text/html": []
     },
     "metadata": {}
    },
    {
     "output_type": "stream",
     "name": "stdout",
     "text": [
      "              precision    recall  f1-score   support\n",
      "\n",
      "       anger     0.8690    0.8690    0.8690        84\n",
      "        fear     0.8585    0.8273    0.8426       110\n",
      "         joy     0.8625    0.8734    0.8679        79\n",
      "     sadness     0.8052    0.8378    0.8212        74\n",
      "\n",
      "    accuracy                         0.8501       347\n",
      "   macro avg     0.8488    0.8519    0.8502       347\n",
      "weighted avg     0.8506    0.8501    0.8502       347\n",
      "\n",
      "\n",
      "Test Set Classification Report\n",
      "============================================================\n"
     ]
    },
    {
     "output_type": "display_data",
     "data": {
      "text/plain": [
       "<IPython.core.display.HTML object>"
      ],
      "text/html": []
     },
     "metadata": {}
    },
    {
     "output_type": "stream",
     "name": "stdout",
     "text": [
      "              precision    recall  f1-score   support\n",
      "\n",
      "       anger     0.8496    0.8474    0.8485       760\n",
      "        fear     0.8784    0.8131    0.8445       995\n",
      "         joy     0.8713    0.9006    0.8857       714\n",
      "     sadness     0.7848    0.8455    0.8140       673\n",
      "\n",
      "    accuracy                         0.8482      3142\n",
      "   macro avg     0.8460    0.8516    0.8482      3142\n",
      "weighted avg     0.8498    0.8482    0.8483      3142\n",
      "\n",
      "\n",
      "Reports saved to text files\n"
     ]
    }
   ]
  },
  {
   "cell_type": "code",
   "source": [
    "from sklearn.metrics import confusion_matrix\n",
    "import seaborn as sns\n",
    "import matplotlib.pyplot as plt\n",
    "import numpy as np\n",
    "\n",
    "def plot_confusion_matrix(dataset_name, tokenized_data, trainer, label_encoder):\n",
    "    \"\"\"Generate and plot confusion matrix for a given dataset\"\"\"\n",
    "    # Get predictions\n",
    "    predictions = trainer.predict(tokenized_data)\n",
    "    preds = np.argmax(predictions.predictions, axis=1)\n",
    "    labels = predictions.label_ids\n",
    "\n",
    "    # Compute confusion matrix\n",
    "    cm = confusion_matrix(labels, preds, normalize='true')  # Normalized by true labels\n",
    "\n",
    "    # Plot\n",
    "    plt.figure(figsize=(10, 8))\n",
    "    sns.heatmap(cm, annot=True, fmt='.2f', cmap='Blues',\n",
    "                xticklabels=label_encoder.classes_,\n",
    "                yticklabels=label_encoder.classes_)\n",
    "    plt.title(f'Normalized Confusion Matrix ({dataset_name} Set)')\n",
    "    plt.ylabel('True Label')\n",
    "    plt.xlabel('Predicted Label')\n",
    "    plt.show()\n",
    "\n",
    "# Generate confusion matrix for training set\n",
    "print(\"Training Set Confusion Matrix:\")\n",
    "plot_confusion_matrix(\"Train\", tokenized_datasets[\"train\"], trainer, label_encoder)\n",
    "\n",
    "# Generate confusion matrix for validation set\n",
    "print(\"\\nValidation Set Confusion Matrix:\")\n",
    "plot_confusion_matrix(\"Validation\", tokenized_datasets[\"validation\"], trainer, label_encoder)\n",
    "\n",
    "# Generate confusion matrix for test set\n",
    "print(\"\\ntest Set Confusion Matrix:\")\n",
    "plot_confusion_matrix(\"test\", tokenized_datasets[\"test\"], trainer, label_encoder)"
   ],
   "metadata": {
    "id": "oeyJ6XR72vFV",
    "colab": {
     "base_uri": "https://localhost:8080/",
     "height": 1000
    },
    "executionInfo": {
     "status": "ok",
     "timestamp": 1749474693292,
     "user_tz": -120,
     "elapsed": 55964,
     "user": {
      "displayName": "thiha Soe",
      "userId": "00273550437711924402"
     }
    },
    "outputId": "dc1de4be-b906-437c-fa1f-7c1ef8dba2c5"
   },
   "execution_count": 21,
   "outputs": [
    {
     "output_type": "stream",
     "name": "stdout",
     "text": [
      "Training Set Confusion Matrix:\n"
     ]
    },
    {
     "output_type": "display_data",
     "data": {
      "text/plain": [
       "<IPython.core.display.HTML object>"
      ],
      "text/html": []
     },
     "metadata": {}
    },
    {
     "output_type": "display_data",
     "data": {
      "text/plain": [
       "<Figure size 1000x800 with 2 Axes>"
      ],
      "image/png": "[encoded data removed]"
     },
     "metadata": {}
    },
    {
     "output_type": "stream",
     "name": "stdout",
     "text": [
      "\n",
      "Validation Set Confusion Matrix:\n"
     ]
    },
    {
     "output_type": "display_data",
     "data": {
      "text/plain": [
       "<IPython.core.display.HTML object>"
      ],
      "text/html": []
     },
     "metadata": {}
    },
    {
     "output_type": "display_data",
     "data": {
      "text/plain": [
       "<Figure size 1000x800 with 2 Axes>"
      ],
      "image/png": "[encoded data removed]"
     },
     "metadata": {}
    },
    {
     "output_type": "stream",
     "name": "stdout",
     "text": [
      "\n",
      "test Set Confusion Matrix:\n"
     ]
    },
    {
     "output_type": "display_data",
     "data": {
      "text/plain": [
       "<IPython.core.display.HTML object>"
      ],
      "text/html": []
     },
     "metadata": {}
    },
    {
     "output_type": "display_data",
     "data": {
      "text/plain": [
       "<Figure size 1000x800 with 2 Axes>"
      ],
      "image/png": "[encoded data removed]"
     },
     "metadata": {}
    }
   ]
  },
  {
   "cell_type": "code",
   "source": [],
   "metadata": {
    "id": "EYcemauO1slh"
   },
   "execution_count": null,
   "outputs": []
  }
 ]
}