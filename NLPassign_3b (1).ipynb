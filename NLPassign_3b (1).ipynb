{
 "nbformat": 4,
 "nbformat_minor": 0,
 "metadata": {
  "colab": {
   "provenance": [],
   "authorship_tag": "ABX9TyM7XYLrz+lTSLW5uoCSKHi0"
  },
  "kernelspec": {
   "name": "python3",
   "display_name": "Python 3"
  },
  "language_info": {
   "name": "python"
  }
 },
 "cells": [
  {
   "cell_type": "code",
   "source": [
    "# Uninstall and clean install\n",
    "!pip uninstall -y datasets\n",
    "!pip install -q datasets --upgrade --no-cache-dir\n"
   ],
   "metadata": {
    "colab": {
     "base_uri": "https://localhost:8080/"
    },
    "id": "Kuxliyqf_nue",
    "executionInfo": {
     "status": "ok",
     "timestamp": 1748883652425,
     "user_tz": -120,
     "elapsed": 15171,
     "user": {
      "displayName": "thiha Soe",
      "userId": "00273550437711924402"
     }
    },
    "outputId": "9ea3af27-0850-45d8-a426-02a8ec6e4d5a"
   },
   "execution_count": 6,
   "outputs": [
    {
     "output_type": "stream",
     "name": "stdout",
     "text": [
      "Found existing installation: datasets 3.6.0\n",
      "Uninstalling datasets-3.6.0:\n",
      "  Successfully uninstalled datasets-3.6.0\n",
      "\u001b[2K   \u001b[90m\u2501\u2501\u2501\u2501\u2501\u2501\u2501\u2501\u2501\u2501\u2501\u2501\u2501\u2501\u2501\u2501\u2501\u2501\u2501\u2501\u2501\u2501\u2501\u2501\u2501\u2501\u2501\u2501\u2501\u2501\u2501\u2501\u2501\u2501\u2501\u2501\u2501\u2501\u2501\u2501\u001b[0m \u001b[32m491.5/491.5 kB\u001b[0m \u001b[31m14.6 MB/s\u001b[0m eta \u001b[36m0:00:00\u001b[0m\n",
      "\u001b[?25h"
     ]
    }
   ]
  },
  {
   "cell_type": "code",
   "source": [
    "from datasets import load_dataset\n",
    "dataset = load_dataset(\"yelp_review_full\", split=\"train[:100]\")  # sample\n",
    "print(dataset[0])\n"
   ],
   "metadata": {
    "colab": {
     "base_uri": "https://localhost:8080/",
     "height": 318,
     "referenced_widgets": [
      "d43105aabb40475eb18567823efe12c0",
      "f7d3e5a911304fac8b92e81cf8893e52",
      "18e3daf9901e45688d7c796b9245d6bc",
      "cce07a5818884419b73d146b3c659df2",
      "4cac197635cb4970888768cb1671fdf9",
      "b120019b90424c0fb9fb88ca8c1c5229",
      "2ccd031762184d33a5ca5eea62033dc7",
      "5e36c98406274ac3a15140c59fdbc661",
      "647e049526b4477b94c609d92761141c",
      "a8f2443b20ce4364a11322bd43d97965",
      "08432f2fb6c64338a1a4f36443b08f18",
      "6891404f4b5d4f4b8cc18a17a1320d01",
      "b22ea5b3b93447b8a138b070bf1745e4",
      "4c14d75bffb54aec8001d5f5973e1eee",
      "a0b4010eae3146d6bd85a2ad7b6efe14",
      "25b1df22448a41d3807d5d4650d09259",
      "dda9a20dc3144f68a224f1fe5d77e12d",
      "74e004114f1c44dfa09e597c4cd83521",
      "07258edba8374b82870c74fb53d1c5fe",
      "c498eb09d34048c0bdae028d2484eb49",
      "20da55db58184e5582a52a04fd63156f",
      "892b6d3400d743b48f93df6313d3d7cf",
      "e0be6d26efcd40d5b70cb4901b3fda64",
      "2e89cfc715d94da1b05169b8f0a6f16f",
      "e057054406154822bf0b0d367e7c4e62",
      "bb6606edd7994f02a9c05397fff78bcd",
      "9fa5e592c77a45f587fac163bbed58b3",
      "8e08b3ce87f541e7aa6de5d277140824",
      "aeda8f95cc9f490391cb917d5f7b1e26",
      "ccc342f1786b4f0eba096d895ecae071",
      "cf8bec0d78ff4f9190a71cb408fc1c57",
      "dbbea3c108044fd3a771059d3baf2dc2",
      "beb1f718c4764384a9891fda7edee527",
      "1c0044083c1c438e9d11ac29432cc856",
      "fd85784a205b47d3ade65aaddab80fae",
      "9bef6ebf82ab4ede98a98a7a65d60b98",
      "b57a3fc40a284fa0b1ffd6414a68044b",
      "ee029aa56cbc48e3b43cce65d2a9e903",
      "696b4981852149c09d7e6429af9c6bf6",
      "80950b5b324f4589aa9b46dc041b9f4b",
      "74d32a4bd95540af869f4e2c16e97ce6",
      "768d6813313d4461b26f0967eefcf8ae",
      "4c5d78e9678b499ba0a6bae889fd275f",
      "c76c48b823bb40ac9f1d8818b7619c84",
      "fc1ee66974164ca6b7cea77b41865355",
      "d35fb368e3ad4f969247cfbb890658c4",
      "9de27be269554d34b8149e79b85b64d3",
      "6352ba3b54d24474a80b183aa5cbb5ac",
      "cf5fbcde5aaa400ebbd2ed598af6450d",
      "0a6b70bf8eea4a9f99e6f5b9f1d4a3df",
      "52dec358184b4bc1b50f20e0b3793677",
      "71277ab2d5d64008a9be8d755bac085a",
      "218856bcfa784242a7f138f9bcfcbb60",
      "17b4684b313246539bde72e03fccafdd",
      "dd0d0afec2354b13822cc09fe3d01228"
     ]
    },
    "id": "9LKD0rtEBsNF",
    "executionInfo": {
     "status": "ok",
     "timestamp": 1748883699562,
     "user_tz": -120,
     "elapsed": 20099,
     "user": {
      "displayName": "thiha Soe",
      "userId": "00273550437711924402"
     }
    },
    "outputId": "67408ee7-1d57-4b53-e541-685753f147ec"
   },
   "execution_count": 8,
   "outputs": [
    {
     "output_type": "stream",
     "name": "stderr",
     "text": [
      "/usr/local/lib/python3.11/dist-packages/huggingface_hub/utils/_auth.py:94: UserWarning: \n",
      "The secret `HF_TOKEN` does not exist in your Colab secrets.\n",
      "To authenticate with the Hugging Face Hub, create a token in your settings tab (https://huggingface.co/settings/tokens), set it as secret in your Google Colab and restart your session.\n",
      "You will be able to reuse this secret in all of your notebooks.\n",
      "Please note that authentication is recommended but still optional to access public models or datasets.\n",
      "  warnings.warn(\n"
     ]
    },
    {
     "output_type": "display_data",
     "data": {
      "text/plain": [
       "README.md:   0%|          | 0.00/6.72k [00:00<?, ?B/s]"
      ],
      "application/vnd.jupyter.widget-view+json": {
       "version_major": 2,
       "version_minor": 0,
       "model_id": "d43105aabb40475eb18567823efe12c0"
      }
     },
     "metadata": {}
    },
    {
     "output_type": "display_data",
     "data": {
      "text/plain": [
       "train-00000-of-00001.parquet:   0%|          | 0.00/299M [00:00<?, ?B/s]"
      ],
      "application/vnd.jupyter.widget-view+json": {
       "version_major": 2,
       "version_minor": 0,
       "model_id": "6891404f4b5d4f4b8cc18a17a1320d01"
      }
     },
     "metadata": {}
    },
    {
     "output_type": "display_data",
     "data": {
      "text/plain": [
       "test-00000-of-00001.parquet:   0%|          | 0.00/23.5M [00:00<?, ?B/s]"
      ],
      "application/vnd.jupyter.widget-view+json": {
       "version_major": 2,
       "version_minor": 0,
       "model_id": "e0be6d26efcd40d5b70cb4901b3fda64"
      }
     },
     "metadata": {}
    },
    {
     "output_type": "display_data",
     "data": {
      "text/plain": [
       "Generating train split:   0%|          | 0/650000 [00:00<?, ? examples/s]"
      ],
      "application/vnd.jupyter.widget-view+json": {
       "version_major": 2,
       "version_minor": 0,
       "model_id": "1c0044083c1c438e9d11ac29432cc856"
      }
     },
     "metadata": {}
    },
    {
     "output_type": "display_data",
     "data": {
      "text/plain": [
       "Generating test split:   0%|          | 0/50000 [00:00<?, ? examples/s]"
      ],
      "application/vnd.jupyter.widget-view+json": {
       "version_major": 2,
       "version_minor": 0,
       "model_id": "fc1ee66974164ca6b7cea77b41865355"
      }
     },
     "metadata": {}
    },
    {
     "output_type": "stream",
     "name": "stdout",
     "text": [
      "{'label': 4, 'text': \"dr. goldberg offers everything i look for in a general practitioner.  he's nice and easy to talk to without being patronizing; he's always on time in seeing his patients; he's affiliated with a top-notch hospital (nyu) which my parents have explained to me is very important in case something happens and you need surgery; and you can get referrals to see specialists without having to see him first.  really, what more do you need?  i'm sitting here trying to think of any complaints i have about him, but i'm really drawing a blank.\"}\n"
     ]
    }
   ]
  },
  {
   "cell_type": "code",
   "source": [
    "!pip install -q transformers\n"
   ],
   "metadata": {
    "id": "LCqL0o4yCcMt",
    "executionInfo": {
     "status": "ok",
     "timestamp": 1748883714349,
     "user_tz": -120,
     "elapsed": 10648,
     "user": {
      "displayName": "thiha Soe",
      "userId": "00273550437711924402"
     }
    }
   },
   "execution_count": 9,
   "outputs": []
  },
  {
   "cell_type": "code",
   "source": [
    "from transformers import pipeline\n",
    "\n",
    "# Load sentiment analysis pipeline\n",
    "sentiment_pipeline = pipeline(\"sentiment-analysis\")\n"
   ],
   "metadata": {
    "colab": {
     "base_uri": "https://localhost:8080/",
     "height": 252,
     "referenced_widgets": [
      "05a72cee85694f12bdcca5879ff2bcb5",
      "d094a109f336446ea8a93e2a7286e685",
      "a96b2734004f4013abeb0d2569d222d1",
      "37c60fb2d55747b0b361aa52afe1e007",
      "6823b97340714eb99b5f6a7b3d9d9ae9",
      "54baf4ecdeca4d15904b96d9edf768bc",
      "c7996c0f7454403db5883ecd97b5943c",
      "1a9d12bf465540609ac35e260e0cbb46",
      "d28277977cea4a6dabf8129821a20023",
      "8a8e1202f1cb4006928ab129fa4a42c9",
      "467c4819de6a43abb51fd8df0fe9d27f",
      "d516d96b220644d69f5c56a8fd1a8017",
      "933ad05bcf0f41df8d7b3c9ff7f01a3e",
      "16eb375bc8c54617910143ef77185ec2",
      "8ba24d46a1fc437c86694c6ffac713c7",
      "4786c6c0477a42ba8cd3618f6c8b95a5",
      "6f7a204e35ea499c80ef4e92cf0d0651",
      "06c90a8bbf8f40508b867d2416915542",
      "b034517f492843cb9c00c23ad96c17b5",
      "30bfb34399154c36bc89950dd5caab49",
      "02d2b3f9a25e4ab7b2de10f091043b0d",
      "a098be312cf44fe6a4acde29ff089d47",
      "655c8fcab7ee40608d517f4d4c48e8c7",
      "eee707eccf6a40018de51a6cdf8699f2",
      "1901bec5db8c4690b76d604609884711",
      "a70afb08e8d940dab673ae1b7671eb2c",
      "8c118fc3a4aa4b659ce38f2888ae08d6",
      "20ea920af33947be9f16d2a143b8c05e",
      "e12a004ebe404837bb083580536971e6",
      "c971182a4e294245a17ae0e07f726129",
      "945d2677e41d4883bb3abd949bdfaa73",
      "7dcfb35f6961440c9e0d87fcd9c751b8",
      "60f3729907ed4f6a837231a78e79672a",
      "115560d07f354a7b9b83c1f257b5ac86",
      "9c6896789b86450aa69e4416c9e89c45",
      "559d5c60ddb841969bd8a15cc9820150",
      "e276a48d94d74eaa9c34443c290589fa",
      "4cfac7f4a16d4e49a95f372fbb6e3b61",
      "ab9bb016d220442bb4dec05e34c79bdb",
      "c75d27a4aff44ac4a333abce002946fc",
      "78ec7123862c4cf9974e752063ea6be0",
      "88ec93a2e45844938b9f694ad358beca",
      "2ea54244e2c4421ebfd19136e29fd213",
      "0d4e1ae1bce64a84a44dce8e97ee2fe3"
     ]
    },
    "id": "pbVXeKAJChX6",
    "executionInfo": {
     "status": "ok",
     "timestamp": 1748883767662,
     "user_tz": -120,
     "elapsed": 51088,
     "user": {
      "displayName": "thiha Soe",
      "userId": "00273550437711924402"
     }
    },
    "outputId": "d886eb80-47f3-4943-d419-7eb03cec511c"
   },
   "execution_count": 10,
   "outputs": [
    {
     "output_type": "stream",
     "name": "stderr",
     "text": [
      "No model was supplied, defaulted to distilbert/distilbert-base-uncased-finetuned-sst-2-english and revision 714eb0f (https://huggingface.co/distilbert/distilbert-base-uncased-finetuned-sst-2-english).\n",
      "Using a pipeline without specifying a model name and revision in production is not recommended.\n"
     ]
    },
    {
     "output_type": "display_data",
     "data": {
      "text/plain": [
       "config.json:   0%|          | 0.00/629 [00:00<?, ?B/s]"
      ],
      "application/vnd.jupyter.widget-view+json": {
       "version_major": 2,
       "version_minor": 0,
       "model_id": "05a72cee85694f12bdcca5879ff2bcb5"
      }
     },
     "metadata": {}
    },
    {
     "output_type": "stream",
     "name": "stderr",
     "text": [
      "Xet Storage is enabled for this repo, but the 'hf_xet' package is not installed. Falling back to regular HTTP download. For better performance, install the package with: `pip install huggingface_hub[hf_xet]` or `pip install hf_xet`\n",
      "WARNING:huggingface_hub.file_download:Xet Storage is enabled for this repo, but the 'hf_xet' package is not installed. Falling back to regular HTTP download. For better performance, install the package with: `pip install huggingface_hub[hf_xet]` or `pip install hf_xet`\n"
     ]
    },
    {
     "output_type": "display_data",
     "data": {
      "text/plain": [
       "model.safetensors:   0%|          | 0.00/268M [00:00<?, ?B/s]"
      ],
      "application/vnd.jupyter.widget-view+json": {
       "version_major": 2,
       "version_minor": 0,
       "model_id": "d516d96b220644d69f5c56a8fd1a8017"
      }
     },
     "metadata": {}
    },
    {
     "output_type": "display_data",
     "data": {
      "text/plain": [
       "tokenizer_config.json:   0%|          | 0.00/48.0 [00:00<?, ?B/s]"
      ],
      "application/vnd.jupyter.widget-view+json": {
       "version_major": 2,
       "version_minor": 0,
       "model_id": "655c8fcab7ee40608d517f4d4c48e8c7"
      }
     },
     "metadata": {}
    },
    {
     "output_type": "display_data",
     "data": {
      "text/plain": [
       "vocab.txt:   0%|          | 0.00/232k [00:00<?, ?B/s]"
      ],
      "application/vnd.jupyter.widget-view+json": {
       "version_major": 2,
       "version_minor": 0,
       "model_id": "115560d07f354a7b9b83c1f257b5ac86"
      }
     },
     "metadata": {}
    },
    {
     "output_type": "stream",
     "name": "stderr",
     "text": [
      "Device set to use cpu\n"
     ]
    }
   ]
  },
  {
   "cell_type": "code",
   "source": [
    "# Apply on first 10 reviews for demonstration\n",
    "for i in range(10):\n",
    "    text = dataset[i][\"text\"]\n",
    "    result = sentiment_pipeline(text[:512])[0]  # Limit to 512 tokens\n",
    "    print(f\"Review {i+1}: {result['label']} (confidence: {result['score']:.2f})\")\n"
   ],
   "metadata": {
    "colab": {
     "base_uri": "https://localhost:8080/"
    },
    "id": "Ke8glb3xCiM9",
    "executionInfo": {
     "status": "ok",
     "timestamp": 1748883776386,
     "user_tz": -120,
     "elapsed": 6444,
     "user": {
      "displayName": "thiha Soe",
      "userId": "00273550437711924402"
     }
    },
    "outputId": "64104d4e-2a19-4d48-f234-7a5613b590da"
   },
   "execution_count": 11,
   "outputs": [
    {
     "output_type": "stream",
     "name": "stdout",
     "text": [
      "Review 1: POSITIVE (confidence: 0.99)\n",
      "Review 2: NEGATIVE (confidence: 1.00)\n",
      "Review 3: POSITIVE (confidence: 1.00)\n",
      "Review 4: NEGATIVE (confidence: 1.00)\n",
      "Review 5: NEGATIVE (confidence: 1.00)\n",
      "Review 6: POSITIVE (confidence: 1.00)\n",
      "Review 7: POSITIVE (confidence: 1.00)\n",
      "Review 8: NEGATIVE (confidence: 1.00)\n",
      "Review 9: POSITIVE (confidence: 1.00)\n",
      "Review 10: NEGATIVE (confidence: 0.98)\n"
     ]
    }
   ]
  },
  {
   "cell_type": "code",
   "source": [
    "results = sentiment_pipeline([example['text'][:512] for example in dataset.select(range(100))])\n",
    "labels = [r['label'] for r in results]\n",
    "\n",
    "from collections import Counter\n",
    "print(\"Sentiment distribution (first 100 samples):\", Counter(labels))\n"
   ],
   "metadata": {
    "colab": {
     "base_uri": "https://localhost:8080/"
    },
    "id": "2p3xpbH7C2iE",
    "executionInfo": {
     "status": "ok",
     "timestamp": 1748883822282,
     "user_tz": -120,
     "elapsed": 38369,
     "user": {
      "displayName": "thiha Soe",
      "userId": "00273550437711924402"
     }
    },
    "outputId": "fa69aa4d-1d55-41d8-ab9c-47ec6974d6bf"
   },
   "execution_count": 12,
   "outputs": [
    {
     "output_type": "stream",
     "name": "stdout",
     "text": [
      "Sentiment distribution (first 100 samples): Counter({'NEGATIVE': 52, 'POSITIVE': 48})\n"
     ]
    }
   ]
  },
  {
   "cell_type": "code",
   "source": [
    "!pip install -q pandas matplotlib seaborn\n"
   ],
   "metadata": {
    "id": "ZgEHsCnDDSEA",
    "executionInfo": {
     "status": "ok",
     "timestamp": 1748883835618,
     "user_tz": -120,
     "elapsed": 2922,
     "user": {
      "displayName": "thiha Soe",
      "userId": "00273550437711924402"
     }
    }
   },
   "execution_count": 13,
   "outputs": []
  },
  {
   "cell_type": "code",
   "source": [
    "# Run prediction\n",
    "texts = [d['text'][:512] for d in dataset]  # limit to 512 tokens\n",
    "results = sentiment_pipeline(texts)\n",
    "\n",
    "# Attach predictions to dataset\n",
    "import pandas as pd\n",
    "\n",
    "df = pd.DataFrame(dataset)\n",
    "df['predicted_sentiment'] = [r['label'] for r in results]\n",
    "df['confidence'] = [r['score'] for r in results]\n",
    "\n",
    "# Convert original Yelp label (0\u20134) into \"POSITIVE\"/\"NEGATIVE\" for comparison\n",
    "df['true_sentiment'] = df['label'].apply(lambda x: 'POSITIVE' if x >= 3 else 'NEGATIVE')\n",
    "\n",
    "df[['text', 'label', 'true_sentiment', 'predicted_sentiment', 'confidence']].head(10)\n"
   ],
   "metadata": {
    "colab": {
     "base_uri": "https://localhost:8080/",
     "height": 362
    },
    "id": "MUxvaTAyDUrj",
    "executionInfo": {
     "status": "ok",
     "timestamp": 1748883896917,
     "user_tz": -120,
     "elapsed": 58634,
     "user": {
      "displayName": "thiha Soe",
      "userId": "00273550437711924402"
     }
    },
    "outputId": "e5c8f2e7-03e5-44c5-b07d-e28f79b17d0d"
   },
   "execution_count": 14,
   "outputs": [
    {
     "output_type": "execute_result",
     "data": {
      "text/plain": [
       "                                                text  label true_sentiment  \\\n",
       "0  dr. goldberg offers everything i look for in a...      4       POSITIVE   \n",
       "1  Unfortunately, the frustration of being Dr. Go...      1       NEGATIVE   \n",
       "2  Been going to Dr. Goldberg for over 10 years. ...      3       POSITIVE   \n",
       "3  Got a letter in the mail last week that said D...      3       POSITIVE   \n",
       "4  I don't know what Dr. Goldberg was like before...      0       NEGATIVE   \n",
       "5  Top notch doctor in a top notch practice. Can'...      4       POSITIVE   \n",
       "6  Dr. Eric Goldberg is a fantastic doctor who ha...      4       POSITIVE   \n",
       "7  I'm writing this review to give you a heads up...      0       NEGATIVE   \n",
       "8  Wing sauce is like water. Pretty much a lot of...      1       NEGATIVE   \n",
       "9  Decent range somewhat close to the city.  The ...      2       NEGATIVE   \n",
       "\n",
       "  predicted_sentiment  confidence  \n",
       "0            POSITIVE    0.987475  \n",
       "1            NEGATIVE    0.999727  \n",
       "2            POSITIVE    0.999611  \n",
       "3            NEGATIVE    0.999711  \n",
       "4            NEGATIVE    0.999327  \n",
       "5            POSITIVE    0.999712  \n",
       "6            POSITIVE    0.999839  \n",
       "7            NEGATIVE    0.996253  \n",
       "8            POSITIVE    0.999532  \n",
       "9            NEGATIVE    0.982246  "
      ],
      "text/html": [
       "\n",
       "  <div id=\"df-142dbb43-32f1-4860-bf71-7f814d176e65\" class=\"colab-df-container\">\n",
       "    <div>\n",
       "<style scoped>\n",
       "    .dataframe tbody tr th:only-of-type {\n",
       "        vertical-align: middle;\n",
       "    }\n",
       "\n",
       "    .dataframe tbody tr th {\n",
       "        vertical-align: top;\n",
       "    }\n",
       "\n",
       "    .dataframe thead th {\n",
       "        text-align: right;\n",
       "    }\n",
       "</style>\n",
       "<table border=\"1\" class=\"dataframe\">\n",
       "  <thead>\n",
       "    <tr style=\"text-align: right;\">\n",
       "      <th></th>\n",
       "      <th>text</th>\n",
       "      <th>label</th>\n",
       "      <th>true_sentiment</th>\n",
       "      <th>predicted_sentiment</th>\n",
       "      <th>confidence</th>\n",
       "    </tr>\n",
       "  </thead>\n",
       "  <tbody>\n",
       "    <tr>\n",
       "      <th>0</th>\n",
       "      <td>dr. goldberg offers everything i look for in a...</td>\n",
       "      <td>4</td>\n",
       "      <td>POSITIVE</td>\n",
       "      <td>POSITIVE</td>\n",
       "      <td>0.987475</td>\n",
       "    </tr>\n",
       "    <tr>\n",
       "      <th>1</th>\n",
       "      <td>Unfortunately, the frustration of being Dr. Go...</td>\n",
       "      <td>1</td>\n",
       "      <td>NEGATIVE</td>\n",
       "      <td>NEGATIVE</td>\n",
       "      <td>0.999727</td>\n",
       "    </tr>\n",
       "    <tr>\n",
       "      <th>2</th>\n",
       "      <td>Been going to Dr. Goldberg for over 10 years. ...</td>\n",
       "      <td>3</td>\n",
       "      <td>POSITIVE</td>\n",
       "      <td>POSITIVE</td>\n",
       "      <td>0.999611</td>\n",
       "    </tr>\n",
       "    <tr>\n",
       "      <th>3</th>\n",
       "      <td>Got a letter in the mail last week that said D...</td>\n",
       "      <td>3</td>\n",
       "      <td>POSITIVE</td>\n",
       "      <td>NEGATIVE</td>\n",
       "      <td>0.999711</td>\n",
       "    </tr>\n",
       "    <tr>\n",
       "      <th>4</th>\n",
       "      <td>I don't know what Dr. Goldberg was like before...</td>\n",
       "      <td>0</td>\n",
       "      <td>NEGATIVE</td>\n",
       "      <td>NEGATIVE</td>\n",
       "      <td>0.999327</td>\n",
       "    </tr>\n",
       "    <tr>\n",
       "      <th>5</th>\n",
       "      <td>Top notch doctor in a top notch practice. Can'...</td>\n",
       "      <td>4</td>\n",
       "      <td>POSITIVE</td>\n",
       "      <td>POSITIVE</td>\n",
       "      <td>0.999712</td>\n",
       "    </tr>\n",
       "    <tr>\n",
       "      <th>6</th>\n",
       "      <td>Dr. Eric Goldberg is a fantastic doctor who ha...</td>\n",
       "      <td>4</td>\n",
       "      <td>POSITIVE</td>\n",
       "      <td>POSITIVE</td>\n",
       "      <td>0.999839</td>\n",
       "    </tr>\n",
       "    <tr>\n",
       "      <th>7</th>\n",
       "      <td>I'm writing this review to give you a heads up...</td>\n",
       "      <td>0</td>\n",
       "      <td>NEGATIVE</td>\n",
       "      <td>NEGATIVE</td>\n",
       "      <td>0.996253</td>\n",
       "    </tr>\n",
       "    <tr>\n",
       "      <th>8</th>\n",
       "      <td>Wing sauce is like water. Pretty much a lot of...</td>\n",
       "      <td>1</td>\n",
       "      <td>NEGATIVE</td>\n",
       "      <td>POSITIVE</td>\n",
       "      <td>0.999532</td>\n",
       "    </tr>\n",
       "    <tr>\n",
       "      <th>9</th>\n",
       "      <td>Decent range somewhat close to the city.  The ...</td>\n",
       "      <td>2</td>\n",
       "      <td>NEGATIVE</td>\n",
       "      <td>NEGATIVE</td>\n",
       "      <td>0.982246</td>\n",
       "    </tr>\n",
       "  </tbody>\n",
       "</table>\n",
       "</div>\n",
       "    <div class=\"colab-df-buttons\">\n",
       "\n",
       "  <div class=\"colab-df-container\">\n",
       "    <button class=\"colab-df-convert\" onclick=\"convertToInteractive('df-142dbb43-32f1-4860-bf71-7f814d176e65')\"\n",
       "            title=\"Convert this dataframe to an interactive table.\"\n",
       "            style=\"display:none;\">\n",
       "\n",
       "  <svg xmlns=\"http://www.w3.org/2000/svg\" height=\"24px\" viewBox=\"0 -960 960 960\">\n",
       "    <path d=\"M120-120v-720h720v720H120Zm60-500h600v-160H180v160Zm220 220h160v-160H400v160Zm0 220h160v-160H400v160ZM180-400h160v-160H180v160Zm440 0h160v-160H620v160ZM180-180h160v-160H180v160Zm440 0h160v-160H620v160Z\"/>\n",
       "  </svg>\n",
       "    </button>\n",
       "\n",
       "  <style>\n",
       "    .colab-df-container {\n",
       "      display:flex;\n",
       "      gap: 12px;\n",
       "    }\n",
       "\n",
       "    .colab-df-convert {\n",
       "      background-color: #E8F0FE;\n",
       "      border: none;\n",
       "      border-radius: 50%;\n",
       "      cursor: pointer;\n",
       "      display: none;\n",
       "      fill: #1967D2;\n",
       "      height: 32px;\n",
       "      padding: 0 0 0 0;\n",
       "      width: 32px;\n",
       "    }\n",
       "\n",
       "    .colab-df-convert:hover {\n",
       "      background-color: #E2EBFA;\n",
       "      box-shadow: 0px 1px 2px rgba(60, 64, 67, 0.3), 0px 1px 3px 1px rgba(60, 64, 67, 0.15);\n",
       "      fill: #174EA6;\n",
       "    }\n",
       "\n",
       "    .colab-df-buttons div {\n",
       "      margin-bottom: 4px;\n",
       "    }\n",
       "\n",
       "    [theme=dark] .colab-df-convert {\n",
       "      background-color: #3B4455;\n",
       "      fill: #D2E3FC;\n",
       "    }\n",
       "\n",
       "    [theme=dark] .colab-df-convert:hover {\n",
       "      background-color: #434B5C;\n",
       "      box-shadow: 0px 1px 3px 1px rgba(0, 0, 0, 0.15);\n",
       "      filter: drop-shadow(0px 1px 2px rgba(0, 0, 0, 0.3));\n",
       "      fill: #FFFFFF;\n",
       "    }\n",
       "  </style>\n",
       "\n",
       "    <script>\n",
       "      const buttonEl =\n",
       "        document.querySelector('#df-142dbb43-32f1-4860-bf71-7f814d176e65 button.colab-df-convert');\n",
       "      buttonEl.style.display =\n",
       "        google.colab.kernel.accessAllowed ? 'block' : 'none';\n",
       "\n",
       "      async function convertToInteractive(key) {\n",
       "        const element = document.querySelector('#df-142dbb43-32f1-4860-bf71-7f814d176e65');\n",
       "        const dataTable =\n",
       "          await google.colab.kernel.invokeFunction('convertToInteractive',\n",
       "                                                    [key], {});\n",
       "        if (!dataTable) return;\n",
       "\n",
       "        const docLinkHtml = 'Like what you see? Visit the ' +\n",
       "          '<a target=\"_blank\" href=https://colab.research.google.com/notebooks/data_table.ipynb>data table notebook</a>'\n",
       "          + ' to learn more about interactive tables.';\n",
       "        element.innerHTML = '';\n",
       "        dataTable['output_type'] = 'display_data';\n",
       "        await google.colab.output.renderOutput(dataTable, element);\n",
       "        const docLink = document.createElement('div');\n",
       "        docLink.innerHTML = docLinkHtml;\n",
       "        element.appendChild(docLink);\n",
       "      }\n",
       "    </script>\n",
       "  </div>\n",
       "\n",
       "\n",
       "    <div id=\"df-c5bdefe0-79f8-4f44-8964-2d7a49d36c55\">\n",
       "      <button class=\"colab-df-quickchart\" onclick=\"quickchart('df-c5bdefe0-79f8-4f44-8964-2d7a49d36c55')\"\n",
       "                title=\"Suggest charts\"\n",
       "                style=\"display:none;\">\n",
       "\n",
       "<svg xmlns=\"http://www.w3.org/2000/svg\" height=\"24px\"viewBox=\"0 0 24 24\"\n",
       "     width=\"24px\">\n",
       "    <g>\n",
       "        <path d=\"M19 3H5c-1.1 0-2 .9-2 2v14c0 1.1.9 2 2 2h14c1.1 0 2-.9 2-2V5c0-1.1-.9-2-2-2zM9 17H7v-7h2v7zm4 0h-2V7h2v10zm4 0h-2v-4h2v4z\"/>\n",
       "    </g>\n",
       "</svg>\n",
       "      </button>\n",
       "\n",
       "<style>\n",
       "  .colab-df-quickchart {\n",
       "      --bg-color: #E8F0FE;\n",
       "      --fill-color: #1967D2;\n",
       "      --hover-bg-color: #E2EBFA;\n",
       "      --hover-fill-color: #174EA6;\n",
       "      --disabled-fill-color: #AAA;\n",
       "      --disabled-bg-color: #DDD;\n",
       "  }\n",
       "\n",
       "  [theme=dark] .colab-df-quickchart {\n",
       "      --bg-color: #3B4455;\n",
       "      --fill-color: #D2E3FC;\n",
       "      --hover-bg-color: #434B5C;\n",
       "      --hover-fill-color: #FFFFFF;\n",
       "      --disabled-bg-color: #3B4455;\n",
       "      --disabled-fill-color: #666;\n",
       "  }\n",
       "\n",
       "  .colab-df-quickchart {\n",
       "    background-color: var(--bg-color);\n",
       "    border: none;\n",
       "    border-radius: 50%;\n",
       "    cursor: pointer;\n",
       "    display: none;\n",
       "    fill: var(--fill-color);\n",
       "    height: 32px;\n",
       "    padding: 0;\n",
       "    width: 32px;\n",
       "  }\n",
       "\n",
       "  .colab-df-quickchart:hover {\n",
       "    background-color: var(--hover-bg-color);\n",
       "    box-shadow: 0 1px 2px rgba(60, 64, 67, 0.3), 0 1px 3px 1px rgba(60, 64, 67, 0.15);\n",
       "    fill: var(--button-hover-fill-color);\n",
       "  }\n",
       "\n",
       "  .colab-df-quickchart-complete:disabled,\n",
       "  .colab-df-quickchart-complete:disabled:hover {\n",
       "    background-color: var(--disabled-bg-color);\n",
       "    fill: var(--disabled-fill-color);\n",
       "    box-shadow: none;\n",
       "  }\n",
       "\n",
       "  .colab-df-spinner {\n",
       "    border: 2px solid var(--fill-color);\n",
       "    border-color: transparent;\n",
       "    border-bottom-color: var(--fill-color);\n",
       "    animation:\n",
       "      spin 1s steps(1) infinite;\n",
       "  }\n",
       "\n",
       "  @keyframes spin {\n",
       "    0% {\n",
       "      border-color: transparent;\n",
       "      border-bottom-color: var(--fill-color);\n",
       "      border-left-color: var(--fill-color);\n",
       "    }\n",
       "    20% {\n",
       "      border-color: transparent;\n",
       "      border-left-color: var(--fill-color);\n",
       "      border-top-color: var(--fill-color);\n",
       "    }\n",
       "    30% {\n",
       "      border-color: transparent;\n",
       "      border-left-color: var(--fill-color);\n",
       "      border-top-color: var(--fill-color);\n",
       "      border-right-color: var(--fill-color);\n",
       "    }\n",
       "    40% {\n",
       "      border-color: transparent;\n",
       "      border-right-color: var(--fill-color);\n",
       "      border-top-color: var(--fill-color);\n",
       "    }\n",
       "    60% {\n",
       "      border-color: transparent;\n",
       "      border-right-color: var(--fill-color);\n",
       "    }\n",
       "    80% {\n",
       "      border-color: transparent;\n",
       "      border-right-color: var(--fill-color);\n",
       "      border-bottom-color: var(--fill-color);\n",
       "    }\n",
       "    90% {\n",
       "      border-color: transparent;\n",
       "      border-bottom-color: var(--fill-color);\n",
       "    }\n",
       "  }\n",
       "</style>\n",
       "\n",
       "      <script>\n",
       "        async function quickchart(key) {\n",
       "          const quickchartButtonEl =\n",
       "            document.querySelector('#' + key + ' button');\n",
       "          quickchartButtonEl.disabled = true;  // To prevent multiple clicks.\n",
       "          quickchartButtonEl.classList.add('colab-df-spinner');\n",
       "          try {\n",
       "            const charts = await google.colab.kernel.invokeFunction(\n",
       "                'suggestCharts', [key], {});\n",
       "          } catch (error) {\n",
       "            console.error('Error during call to suggestCharts:', error);\n",
       "          }\n",
       "          quickchartButtonEl.classList.remove('colab-df-spinner');\n",
       "          quickchartButtonEl.classList.add('colab-df-quickchart-complete');\n",
       "        }\n",
       "        (() => {\n",
       "          let quickchartButtonEl =\n",
       "            document.querySelector('#df-c5bdefe0-79f8-4f44-8964-2d7a49d36c55 button');\n",
       "          quickchartButtonEl.style.display =\n",
       "            google.colab.kernel.accessAllowed ? 'block' : 'none';\n",
       "        })();\n",
       "      </script>\n",
       "    </div>\n",
       "\n",
       "    </div>\n",
       "  </div>\n"
      ],
      "application/vnd.google.colaboratory.intrinsic+json": {
       "type": "dataframe",
       "summary": "{\n  \"name\": \"df[['text', 'label', 'true_sentiment', 'predicted_sentiment', 'confidence']]\",\n  \"rows\": 10,\n  \"fields\": [\n    {\n      \"column\": \"text\",\n      \"properties\": {\n        \"dtype\": \"string\",\n        \"num_unique_values\": 10,\n        \"samples\": [\n          \"Wing sauce is like water. Pretty much a lot of butter and some hot sauce (franks red hot maybe).  The whole wings are good size and crispy, but for $1 a wing the sauce could be better. The hot and extra hot are about the same flavor/heat.  The fish sandwich is good and is a large portion, sides are decent.\",\n          \"Unfortunately, the frustration of being Dr. Goldberg's patient is a repeat of the experience I've had with so many other doctors in NYC -- good doctor, terrible staff.  It seems that his staff simply never answers the phone.  It usually takes 2 hours of repeated calling to get an answer.  Who has time for that or wants to deal with it?  I have run into this problem with many other doctors and I just don't get it.  You have office workers, you have patients with medical needs, why isn't anyone answering the phone?  It's incomprehensible and not work the aggravation.  It's with regret that I feel that I have to give Dr. Goldberg 2 stars.\",\n          \"Top notch doctor in a top notch practice. Can't say I am surprised when I was referred to him by another doctor who I think is wonderful and because he went to one of the best medical schools in the country. \\\\nIt is really easy to get an appointment. There is minimal wait to be seen and his bedside manner is great.\"\n        ],\n        \"semantic_type\": \"\",\n        \"description\": \"\"\n      }\n    },\n    {\n      \"column\": \"label\",\n      \"properties\": {\n        \"dtype\": \"number\",\n        \"std\": 1,\n        \"min\": 0,\n        \"max\": 4,\n        \"num_unique_values\": 5,\n        \"samples\": [\n          1,\n          2,\n          3\n        ],\n        \"semantic_type\": \"\",\n        \"description\": \"\"\n      }\n    },\n    {\n      \"column\": \"true_sentiment\",\n      \"properties\": {\n        \"dtype\": \"category\",\n        \"num_unique_values\": 2,\n        \"samples\": [\n          \"NEGATIVE\",\n          \"POSITIVE\"\n        ],\n        \"semantic_type\": \"\",\n        \"description\": \"\"\n      }\n    },\n    {\n      \"column\": \"predicted_sentiment\",\n      \"properties\": {\n        \"dtype\": \"category\",\n        \"num_unique_values\": 2,\n        \"samples\": [\n          \"NEGATIVE\",\n          \"POSITIVE\"\n        ],\n        \"semantic_type\": \"\",\n        \"description\": \"\"\n      }\n    },\n    {\n      \"column\": \"confidence\",\n      \"properties\": {\n        \"dtype\": \"number\",\n        \"std\": 0.006267128133560382,\n        \"min\": 0.9822463989257812,\n        \"max\": 0.999839186668396,\n        \"num_unique_values\": 10,\n        \"samples\": [\n          0.9995321035385132,\n          0.9997273087501526\n        ],\n        \"semantic_type\": \"\",\n        \"description\": \"\"\n      }\n    }\n  ]\n}"
      }
     },
     "metadata": {},
     "execution_count": 14
    }
   ]
  },
  {
   "cell_type": "code",
   "source": [
    "import matplotlib.pyplot as plt\n",
    "import seaborn as sns\n",
    "\n",
    "# Count predicted sentiments\n",
    "sns.countplot(x='predicted_sentiment', data=df)\n",
    "plt.title(\"Predicted Sentiment Distribution\")\n",
    "plt.show()\n"
   ],
   "metadata": {
    "colab": {
     "base_uri": "https://localhost:8080/",
     "height": 472
    },
    "id": "xH_08SCCDntJ",
    "executionInfo": {
     "status": "ok",
     "timestamp": 1748883936603,
     "user_tz": -120,
     "elapsed": 1508,
     "user": {
      "displayName": "thiha Soe",
      "userId": "00273550437711924402"
     }
    },
    "outputId": "6dc1122a-e289-45b1-e3d1-60dc0312ac4c"
   },
   "execution_count": 15,
   "outputs": [
    {
     "output_type": "display_data",
     "data": {
      "text/plain": [
       "<Figure size 640x480 with 1 Axes>"
      ],
      "image/png": "[encoded data removed]"
     },
     "metadata": {}
    }
   ]
  },
  {
   "cell_type": "code",
   "source": [
    "from sklearn.metrics import confusion_matrix, ConfusionMatrixDisplay\n",
    "\n",
    "cm = confusion_matrix(df['true_sentiment'], df['predicted_sentiment'], labels=[\"POSITIVE\", \"NEGATIVE\"])\n",
    "disp = ConfusionMatrixDisplay(confusion_matrix=cm, display_labels=[\"POSITIVE\", \"NEGATIVE\"])\n",
    "disp.plot(cmap=plt.cm.Blues)\n",
    "plt.title(\"Confusion Matrix: Predicted vs True Sentiment\")\n",
    "plt.show()\n"
   ],
   "metadata": {
    "colab": {
     "base_uri": "https://localhost:8080/",
     "height": 472
    },
    "id": "0BWs5RzZDrfF",
    "executionInfo": {
     "status": "ok",
     "timestamp": 1748883939472,
     "user_tz": -120,
     "elapsed": 346,
     "user": {
      "displayName": "thiha Soe",
      "userId": "00273550437711924402"
     }
    },
    "outputId": "465c8f37-bda1-482b-abf5-a7eaf30e5618"
   },
   "execution_count": 16,
   "outputs": [
    {
     "output_type": "display_data",
     "data": {
      "text/plain": [
       "<Figure size 640x480 with 2 Axes>"
      ],
      "image/png": "[encoded data removed]"
     },
     "metadata": {}
    }
   ]
  },
  {
   "cell_type": "code",
   "source": [
    "# Accuracy by star rating\n",
    "df['correct'] = df['true_sentiment'] == df['predicted_sentiment']\n",
    "grouped = df.groupby('label')['correct'].mean().reset_index()\n",
    "grouped.columns = ['Star Rating', 'Accuracy']\n",
    "\n",
    "# Plot\n",
    "sns.barplot(x='Star Rating', y='Accuracy', data=grouped)\n",
    "plt.title(\"Sentiment Accuracy by Yelp Star Rating\")\n",
    "plt.ylim(0, 1)\n",
    "plt.show()\n"
   ],
   "metadata": {
    "colab": {
     "base_uri": "https://localhost:8080/",
     "height": 472
    },
    "id": "51r_nLmsDub7",
    "executionInfo": {
     "status": "ok",
     "timestamp": 1748883942611,
     "user_tz": -120,
     "elapsed": 159,
     "user": {
      "displayName": "thiha Soe",
      "userId": "00273550437711924402"
     }
    },
    "outputId": "338ccb22-27b5-41a8-ea67-7f3ae7175f5b"
   },
   "execution_count": 17,
   "outputs": [
    {
     "output_type": "display_data",
     "data": {
      "text/plain": [
       "<Figure size 640x480 with 1 Axes>"
      ],
      "image/png": "[encoded data removed]"
     },
     "metadata": {}
    }
   ]
  }
 ]
}